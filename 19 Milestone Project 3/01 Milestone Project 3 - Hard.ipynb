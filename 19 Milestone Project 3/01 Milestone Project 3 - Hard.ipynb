{
 "cells": [
  {
   "cell_type": "markdown",
   "id": "a372f0fc",
   "metadata": {},
   "source": [
    "Product Inventory Project - Create an application which manages an inventory of products. Create a product class which has a price, id, and quantity on hand. Then create an inventory class which keeps track of various products and can sum up the inventory value."
   ]
  },
  {
   "cell_type": "code",
   "execution_count": 5,
   "id": "19eb2163",
   "metadata": {},
   "outputs": [],
   "source": [
    "#Product Inventory Management Classes / OOP - 1 week long one?\n",
    "\n",
    "# https://snipplr.com/view/73572/product-inventory\n",
    "# https://github.com/Drhealsgood/miniprojects/blob/master/class_projects/product_inventory/product_inventory.py\n",
    "# https://stackoverflow.com/questions/67851445/i-want-to-create-a-simple-inventory-management-system-using-classes-and-data-str\n",
    "\n",
    "\n",
    "# Figure out the requirements/design and the pseudo code thru research!\n",
    "# Read documentation if you have to!\n",
    "\n",
    "# Class Declarations\n",
    "import pandas as pd\n",
    "class Product:\n",
    "    '''\n",
    "    Constructor\n",
    "    '''\n",
    "    def __init__(self, prod_id, prod_nm, prod_qty, prod_price):\n",
    "        self.prod_id = prod_id\n",
    "        self.prod_nm = prod_nm\n",
    "        self.prod_qty = prod_qty\n",
    "        self.prod_price = prod_price\n",
    "    \n",
    "    def __str__(self):\n",
    "        return f'ID: {self.prod_id} | Product Name: {self.prod_nm} | Quantity: {self.prod_qty} | Unit Price {self.prod_price}'"
   ]
  },
  {
   "cell_type": "code",
   "execution_count": 6,
   "id": "2301b3b0",
   "metadata": {},
   "outputs": [],
   "source": [
    "prod_1 = Product(1,'Macbook',10,20000)"
   ]
  },
  {
   "cell_type": "code",
   "execution_count": 7,
   "id": "cead2f88",
   "metadata": {},
   "outputs": [
    {
     "name": "stdout",
     "output_type": "stream",
     "text": [
      "ID: 1 | Product Name: Macbook | Quantity: 10 | Unit Price 20000\n"
     ]
    }
   ],
   "source": [
    "print(prod_1)"
   ]
  },
  {
   "cell_type": "code",
   "execution_count": 8,
   "id": "b5654d7c",
   "metadata": {},
   "outputs": [
    {
     "data": {
      "text/plain": [
       "200000"
      ]
     },
     "execution_count": 8,
     "metadata": {},
     "output_type": "execute_result"
    }
   ],
   "source": [
    "prod_1.prod_qty * prod_1.prod_price"
   ]
  },
  {
   "cell_type": "code",
   "execution_count": 9,
   "id": "9b0bfeeb",
   "metadata": {},
   "outputs": [],
   "source": [
    "class Inventory:\n",
    "    \n",
    "    def __init__(self):\n",
    "        self.inventory = {'ID':[],'Product Name':[],'Quantity':[],'Unit Price':[]}\n",
    "    \n",
    "    # Add New Product to Inventory\n",
    "    def add_new_product(self):\n",
    "        product_name = input(\"Enter the product name: \")\n",
    "        while True:\n",
    "            try:\n",
    "                product_qty = int(input('Enter the product quantity: '))\n",
    "            except:\n",
    "                print(\"Please try again.\")\n",
    "                continue\n",
    "            else:\n",
    "                break\n",
    "        while True:\n",
    "            try:\n",
    "                product_price = float(input('Enter a unit price: '))\n",
    "            except:\n",
    "                print('Please try again.')\n",
    "            else:\n",
    "                break\n",
    "        if self.inventory['ID']==[]:\n",
    "            product_id= 1\n",
    "        else:\n",
    "            product_id = self.inventory['ID'][-1] + 1\n",
    "        # Definition of variables with the Product Class attributes\n",
    "        product_to_add = Product(product_id, product_name, product_qty, product_price)\n",
    "        # Add the attributes from Product call\n",
    "        \n",
    "        self.inventory['ID'].append(product_to_add.prod_id)\n",
    "        self.inventory['Product Name'].append(product_to_add.prod_nm)\n",
    "        self.inventory['Quantity'].append(product_to_add.prod_qty)\n",
    "        self.inventory['Unit Price'].append(product_to_add.prod_price)\n",
    "    \n",
    "    # Display inventory\n",
    "    def display_inventory(self):\n",
    "        df = pd.DataFrame(self.inventory)\n",
    "        df = df.set_index('ID')\n",
    "        return df\n",
    "    \n",
    "    # Search for inventory based on name?\n",
    "    def search_inventory(self):\n",
    "        while True:\n",
    "            search_name = input(\"Enter name of the item you are looking for: \").lower()\n",
    "            if search_name == '':\n",
    "                print(\"Sorry, your search cannot be an empty value. Please try again\")\n",
    "            else:\n",
    "                break\n",
    "        search_count = 0\n",
    "        for item in self.inventory['Product Name']:\n",
    "            if search_name in item.lower():\n",
    "                print(self.inventory['ID'][self.inventory['Product Name'].index(item)])\n",
    "                print(item)\n",
    "                print(self.inventory['Quantity'][self.inventory['Product Name'].index(item)])\n",
    "                print(self.inventory['Unit Price'][self.inventory['Product Name'].index(item)])\n",
    "                search_count +=1\n",
    "        if search_count == 0:\n",
    "            print(\"Sorry your item cannot be found.\")\n",
    "                \n",
    "    # Update existing inventory - add\n",
    "    def add_existing_inventory(self):\n",
    "        while True:\n",
    "            try:\n",
    "                search_id = int(input(\"Enter the product ID that you would like to update: \"))\n",
    "            except:\n",
    "                print(\"Sorry, please enter a valid number greater than 0\")\n",
    "                continue\n",
    "            else:\n",
    "                break\n",
    "        search_count = 0\n",
    "        for item_id in self.inventory['ID']:\n",
    "            if search_id == item_id:\n",
    "                quantity = int(input('Enter quantity to add or subtract for product {}: '.format(item_id)))\n",
    "                quantity_to_update = self.inventory['Quantity'][self.inventory['ID'].index(item_id)]\n",
    "                quantity_to_update = quantity_to_update + quantity\n",
    "                if quantity_to_update < 0:\n",
    "                    quantity_to_update = 0\n",
    "                    self.inventory['Quantity'][self.inventory['ID'].index(item_id)] = quantity_to_update\n",
    "                else:\n",
    "                    self.inventory['Quantity'][self.inventory['ID'].index(item_id)] = quantity_to_update\n",
    "                search_count += 1\n",
    "                print(item_id)\n",
    "                print(self.inventory['Product Name'][self.inventory['ID'].index(item_id)])\n",
    "                print(self.inventory['Quantity'][self.inventory['ID'].index(item_id)])\n",
    "                print(self.inventory['Unit Price'][self.inventory['ID'].index(item_id)])\n",
    "                print(\"Item updated.\")\n",
    "        if search_count ==0:\n",
    "            print('Sorry, no item found.')\n",
    "    \n",
    "    def remove_item_from_inventory(self):\n",
    "        while True:\n",
    "            try:\n",
    "                search_id = int(input(\"Enter the product ID that you would like to delete: \"))\n",
    "            except:\n",
    "                print(\"Sorry, please enter a valid number greater than 0\")\n",
    "                continue\n",
    "            else:\n",
    "                break\n",
    "        for item_id in self.inventory['ID']:\n",
    "            if search_id == item_id:\n",
    "                print(self.inventory['ID'].index(item_id))\n",
    "                print(\"This is the item that you would like to delete.\")\n",
    "                print('Item ID: {}'.format(item_id))\n",
    "                print('Product:' +self.inventory['Product Name'][self.inventory['ID'].index(item_id)])\n",
    "                print('Quantity: {}'.format(self.inventory['Quantity'][self.inventory['ID'].index(item_id)]))\n",
    "                print('Unit Price: {}'.format(self.inventory['Unit Price'][self.inventory['ID'].index(item_id)]))\n",
    "                \n",
    "                while True:\n",
    "                    confirm = input('Would you like to remove this item from the list? [y/n]: ')\n",
    "                    \n",
    "                    if confirm == 'y':\n",
    "                        id_to_remove = self.inventory['ID'][self.inventory['ID'].index(item_id)]\n",
    "                        prod_to_remove = self.inventory['Product Name'][self.inventory['ID'].index(item_id)]\n",
    "                        qty_to_remove = self.inventory['Quantity'][self.inventory['ID'].index(item_id)]\n",
    "                        prc_to_remove = self.inventory['Unit Price'][self.inventory['ID'].index(item_id)]\n",
    "                        \n",
    "                        self.inventory['ID'].remove(id_to_remove)\n",
    "                        self.inventory['Product Name'].remove(prod_to_remove)\n",
    "                        self.inventory['Quantity'].remove(qty_to_remove)\n",
    "                        self.inventory['Unit Price'].remove(prc_to_remove)\n",
    "                        break\n",
    "                    elif confirm == 'n':\n",
    "                        break\n",
    "                    else:\n",
    "                        print(\"Invalid input, please try again.\")\n",
    "        df = pd.DataFrame(self.inventory)\n",
    "        df = df.set_index('ID')\n",
    "        return df"
   ]
  },
  {
   "cell_type": "code",
   "execution_count": 72,
   "id": "8757dc49",
   "metadata": {},
   "outputs": [],
   "source": [
    "inv = Inventory()"
   ]
  },
  {
   "cell_type": "code",
   "execution_count": 73,
   "id": "919bb5a3",
   "metadata": {
    "scrolled": true
   },
   "outputs": [
    {
     "name": "stdout",
     "output_type": "stream",
     "text": [
      "Enter the product name: Macbook\n",
      "Enter the product quantity: 12\n",
      "Enter a unit price: 131\n"
     ]
    }
   ],
   "source": [
    "inv.add_new_product()"
   ]
  },
  {
   "cell_type": "code",
   "execution_count": 74,
   "id": "d0914909",
   "metadata": {},
   "outputs": [
    {
     "name": "stdout",
     "output_type": "stream",
     "text": [
      "Enter the product name: HP Desktop\n",
      "Enter the product quantity: 12\n",
      "Enter a unit price: 131\n"
     ]
    }
   ],
   "source": [
    "inv.add_new_product()"
   ]
  },
  {
   "cell_type": "code",
   "execution_count": 75,
   "id": "b321931c",
   "metadata": {},
   "outputs": [
    {
     "data": {
      "text/html": [
       "<div>\n",
       "<style scoped>\n",
       "    .dataframe tbody tr th:only-of-type {\n",
       "        vertical-align: middle;\n",
       "    }\n",
       "\n",
       "    .dataframe tbody tr th {\n",
       "        vertical-align: top;\n",
       "    }\n",
       "\n",
       "    .dataframe thead th {\n",
       "        text-align: right;\n",
       "    }\n",
       "</style>\n",
       "<table border=\"1\" class=\"dataframe\">\n",
       "  <thead>\n",
       "    <tr style=\"text-align: right;\">\n",
       "      <th></th>\n",
       "      <th>Product Name</th>\n",
       "      <th>Quantity</th>\n",
       "      <th>Unit Price</th>\n",
       "    </tr>\n",
       "    <tr>\n",
       "      <th>ID</th>\n",
       "      <th></th>\n",
       "      <th></th>\n",
       "      <th></th>\n",
       "    </tr>\n",
       "  </thead>\n",
       "  <tbody>\n",
       "    <tr>\n",
       "      <th>1</th>\n",
       "      <td>Macbook</td>\n",
       "      <td>12</td>\n",
       "      <td>131.0</td>\n",
       "    </tr>\n",
       "    <tr>\n",
       "      <th>2</th>\n",
       "      <td>HP Desktop</td>\n",
       "      <td>12</td>\n",
       "      <td>131.0</td>\n",
       "    </tr>\n",
       "  </tbody>\n",
       "</table>\n",
       "</div>"
      ],
      "text/plain": [
       "   Product Name  Quantity  Unit Price\n",
       "ID                                   \n",
       "1       Macbook        12       131.0\n",
       "2    HP Desktop        12       131.0"
      ]
     },
     "execution_count": 75,
     "metadata": {},
     "output_type": "execute_result"
    }
   ],
   "source": [
    "inv.display_inventory()"
   ]
  },
  {
   "cell_type": "code",
   "execution_count": 76,
   "id": "f1b2c419",
   "metadata": {},
   "outputs": [
    {
     "name": "stdout",
     "output_type": "stream",
     "text": [
      "Enter the product ID that you would like to delete: 1\n",
      "0\n",
      "This is the item that you would like to delete.\n",
      "Item ID: 1\n",
      "Product:Macbook\n",
      "Quantity: 12\n",
      "Unit Price: 131.0\n",
      "Would you like to remove this item from the list? [y/n]: y\n"
     ]
    },
    {
     "data": {
      "text/html": [
       "<div>\n",
       "<style scoped>\n",
       "    .dataframe tbody tr th:only-of-type {\n",
       "        vertical-align: middle;\n",
       "    }\n",
       "\n",
       "    .dataframe tbody tr th {\n",
       "        vertical-align: top;\n",
       "    }\n",
       "\n",
       "    .dataframe thead th {\n",
       "        text-align: right;\n",
       "    }\n",
       "</style>\n",
       "<table border=\"1\" class=\"dataframe\">\n",
       "  <thead>\n",
       "    <tr style=\"text-align: right;\">\n",
       "      <th></th>\n",
       "      <th>Product Name</th>\n",
       "      <th>Quantity</th>\n",
       "      <th>Unit Price</th>\n",
       "    </tr>\n",
       "    <tr>\n",
       "      <th>ID</th>\n",
       "      <th></th>\n",
       "      <th></th>\n",
       "      <th></th>\n",
       "    </tr>\n",
       "  </thead>\n",
       "  <tbody>\n",
       "    <tr>\n",
       "      <th>2</th>\n",
       "      <td>HP Desktop</td>\n",
       "      <td>12</td>\n",
       "      <td>131.0</td>\n",
       "    </tr>\n",
       "  </tbody>\n",
       "</table>\n",
       "</div>"
      ],
      "text/plain": [
       "   Product Name  Quantity  Unit Price\n",
       "ID                                   \n",
       "2    HP Desktop        12       131.0"
      ]
     },
     "execution_count": 76,
     "metadata": {},
     "output_type": "execute_result"
    }
   ],
   "source": [
    "inv.remove_item_from_inventory()"
   ]
  },
  {
   "cell_type": "code",
   "execution_count": 77,
   "id": "444af43b",
   "metadata": {},
   "outputs": [
    {
     "name": "stdout",
     "output_type": "stream",
     "text": [
      "Enter the product name: HP Desktop 2\n",
      "Enter the product quantity: 121\n",
      "Enter a unit price: 13\n"
     ]
    }
   ],
   "source": [
    "inv.add_new_product()"
   ]
  },
  {
   "cell_type": "code",
   "execution_count": 79,
   "id": "24eefc61",
   "metadata": {},
   "outputs": [
    {
     "data": {
      "text/html": [
       "<div>\n",
       "<style scoped>\n",
       "    .dataframe tbody tr th:only-of-type {\n",
       "        vertical-align: middle;\n",
       "    }\n",
       "\n",
       "    .dataframe tbody tr th {\n",
       "        vertical-align: top;\n",
       "    }\n",
       "\n",
       "    .dataframe thead th {\n",
       "        text-align: right;\n",
       "    }\n",
       "</style>\n",
       "<table border=\"1\" class=\"dataframe\">\n",
       "  <thead>\n",
       "    <tr style=\"text-align: right;\">\n",
       "      <th></th>\n",
       "      <th>Product Name</th>\n",
       "      <th>Quantity</th>\n",
       "      <th>Unit Price</th>\n",
       "    </tr>\n",
       "    <tr>\n",
       "      <th>ID</th>\n",
       "      <th></th>\n",
       "      <th></th>\n",
       "      <th></th>\n",
       "    </tr>\n",
       "  </thead>\n",
       "  <tbody>\n",
       "    <tr>\n",
       "      <th>2</th>\n",
       "      <td>HP Desktop</td>\n",
       "      <td>12</td>\n",
       "      <td>131.0</td>\n",
       "    </tr>\n",
       "    <tr>\n",
       "      <th>3</th>\n",
       "      <td>HP Desktop 2</td>\n",
       "      <td>121</td>\n",
       "      <td>13.0</td>\n",
       "    </tr>\n",
       "  </tbody>\n",
       "</table>\n",
       "</div>"
      ],
      "text/plain": [
       "    Product Name  Quantity  Unit Price\n",
       "ID                                    \n",
       "2     HP Desktop        12       131.0\n",
       "3   HP Desktop 2       121        13.0"
      ]
     },
     "execution_count": 79,
     "metadata": {},
     "output_type": "execute_result"
    }
   ],
   "source": [
    "inv.display_inventory()"
   ]
  },
  {
   "cell_type": "code",
   "execution_count": 32,
   "id": "a14a820b",
   "metadata": {},
   "outputs": [
    {
     "data": {
      "text/plain": [
       "{'ID': [], 'Product Name': [], 'Quantity': [], 'Unit Price': []}"
      ]
     },
     "execution_count": 32,
     "metadata": {},
     "output_type": "execute_result"
    }
   ],
   "source": [
    "inv.inventory"
   ]
  },
  {
   "cell_type": "code",
   "execution_count": 10,
   "id": "9f85b21c",
   "metadata": {},
   "outputs": [],
   "source": [
    "import csv\n",
    "\n",
    "#Base file just so we have something to work with\n",
    "d = {'ID': [1,2,3], 'Product Name':['Potion','Elixir','Ether'], 'Quantity':[10,10,10],'Unit Price':[100,700,200]}\n",
    "def write_to_file(d):\n",
    "    keys = sorted(d.keys())\n",
    "    with open(\"inventory.csv\", \"w\") as outfile:\n",
    "        writer = csv.writer(outfile, delimiter = \",\")\n",
    "        writer.writerow(keys)\n",
    "        writer.writerows(zip(*[d[key] for key in keys]))\n",
    "    outfile.close()\n",
    "write_to_file(d)"
   ]
  },
  {
   "cell_type": "code",
   "execution_count": 11,
   "id": "d74d5fb3",
   "metadata": {},
   "outputs": [
    {
     "name": "stdout",
     "output_type": "stream",
     "text": [
      "Welcome to the Inventory Management App, kupo!\n",
      "Select one of the following options to get started\n",
      "\n",
      "\n",
      "\n",
      "\n",
      "Select the following options:\n",
      "=============================\n",
      "1 - Display all products in inventory\n",
      "2 - Search for a product\n",
      "3 - Add a new product to list\n",
      "4 - Update an existing product\n",
      "5 - Remove a product from the inventory\n",
      "98 - Click here to show menu of options\n",
      "99 - Quit the program\n",
      "\n",
      "\n",
      "Select your option: 1\n",
      "\n",
      "\n",
      "   Product Name  Quantity  Unit Price\n",
      "ID                                   \n",
      "1        Potion        10         100\n",
      "2        Elixir        10         700\n",
      "3         Ether        10         200\n",
      "Select your option: 3\n",
      "\n",
      "\n",
      "Enter the product name: Keyblade\n",
      "Enter the product quantity: 1\n",
      "Enter a unit price: 5000\n",
      "Select your option: 1\n",
      "\n",
      "\n",
      "   Product Name  Quantity  Unit Price\n",
      "ID                                   \n",
      "1        Potion        10       100.0\n",
      "2        Elixir        10       700.0\n",
      "3         Ether        10       200.0\n",
      "4      Keyblade         1      5000.0\n",
      "Select your option: 3\n",
      "\n",
      "\n",
      "Enter the product name: Hi-Potion\n",
      "Enter the product quantity: 10\n",
      "Enter a unit price: 500\n",
      "Select your option: 1\n",
      "\n",
      "\n",
      "   Product Name  Quantity  Unit Price\n",
      "ID                                   \n",
      "1        Potion        10       100.0\n",
      "2        Elixir        10       700.0\n",
      "3         Ether        10       200.0\n",
      "4      Keyblade         1      5000.0\n",
      "5     Hi-Potion        10       500.0\n",
      "Select your option: 99\n",
      "Come back again, kupo!\n"
     ]
    }
   ],
   "source": [
    "import csv\n",
    "\n",
    "#Base file just so we have something to work with\n",
    "def write_to_file(d):\n",
    "    keys = sorted(d.keys())\n",
    "    with open(\"inventory.csv\", \"w\") as outfile:\n",
    "        writer = csv.writer(outfile, delimiter = \",\")\n",
    "        writer.writerow(keys)\n",
    "        writer.writerows(zip(*[d[key] for key in keys]))\n",
    "    outfile.close()\n",
    "\n",
    "def menu_display():\n",
    "    print('Select the following options:')\n",
    "    print('=============================')\n",
    "    print('1 - Display all products in inventory')\n",
    "    print('2 - Search for a product')\n",
    "    print('3 - Add a new product to list')\n",
    "    print('4 - Update an existing product')\n",
    "    print('5 - Remove a product from the inventory')\n",
    "    print('98 - Click here to show menu of options')\n",
    "    print('99 - Quit the program')\n",
    "    print('\\n')\n",
    "# Start instance\n",
    "inv = Inventory()\n",
    "inv.inventory = d\n",
    "\n",
    "# app_open boolean and other global variables\n",
    "\n",
    "app_open = True\n",
    "\n",
    "valid_options = ['1','2','3','4','5']\n",
    "#Welcome message\n",
    "\n",
    "while app_open:\n",
    "    print (\"Welcome to the Inventory Management App, kupo!\\nSelect one of the following options to get started\\n\\n\")\n",
    "    print('\\n')\n",
    "    \n",
    "    menu_display()\n",
    "\n",
    "    while True:\n",
    "        option = input('Select your option: ')\n",
    "        if option in valid_options:\n",
    "            if option == '1':\n",
    "                print('\\n')\n",
    "                print(inv.display_inventory())\n",
    "            elif option == '2':\n",
    "                print('\\n')\n",
    "                inv.search_inventory()\n",
    "            elif option == '3':\n",
    "                print('\\n')\n",
    "                inv.add_new_product()\n",
    "            elif option == '4':\n",
    "                print('\\n')\n",
    "                inv.add_existing_inventory()\n",
    "            elif option == '5':\n",
    "                print('\\n')\n",
    "                inv.remove_item_from_inventory()\n",
    "        elif option == '98':\n",
    "            menu_display()\n",
    "        elif option == '99':\n",
    "            print('Come back again, kupo!')\n",
    "            write_to_file(inv.inventory)\n",
    "            app_open = False\n",
    "            break\n",
    "        else:\n",
    "            print('Sorry, your input was invalid try again!')\n",
    "\n",
    "\n",
    "\n",
    "# Select the following options\n",
    "# 1 - Display\n",
    "# 2 - Search product\n",
    "# 3 - Add product\n",
    "# 4 - Update product\n",
    "# 5 - Remove product\n",
    "# 99 - Exit"
   ]
  },
  {
   "cell_type": "code",
   "execution_count": 12,
   "id": "bdc3a128",
   "metadata": {},
   "outputs": [
    {
     "data": {
      "text/plain": [
       "{'ID': [1, 2, 3, 4, 5],\n",
       " 'Product Name': ['Potion', 'Elixir', 'Ether', 'Keyblade', 'Hi-Potion'],\n",
       " 'Quantity': [10, 10, 10, 1, 10],\n",
       " 'Unit Price': [100, 700, 200, 5000.0, 500.0]}"
      ]
     },
     "execution_count": 12,
     "metadata": {},
     "output_type": "execute_result"
    }
   ],
   "source": [
    "inv.inventory"
   ]
  },
  {
   "cell_type": "code",
   "execution_count": null,
   "id": "4606ecc4",
   "metadata": {},
   "outputs": [],
   "source": []
  }
 ],
 "metadata": {
  "kernelspec": {
   "display_name": "Python 3",
   "language": "python",
   "name": "python3"
  },
  "language_info": {
   "codemirror_mode": {
    "name": "ipython",
    "version": 3
   },
   "file_extension": ".py",
   "mimetype": "text/x-python",
   "name": "python",
   "nbconvert_exporter": "python",
   "pygments_lexer": "ipython3",
   "version": "3.8.8"
  }
 },
 "nbformat": 4,
 "nbformat_minor": 5
}
