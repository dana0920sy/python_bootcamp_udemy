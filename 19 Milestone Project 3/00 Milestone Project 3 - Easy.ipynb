{
 "cells": [
  {
   "cell_type": "code",
   "execution_count": 1,
   "id": "14ecf8f2",
   "metadata": {},
   "outputs": [
    {
     "name": "stdout",
     "output_type": "stream",
     "text": [
      "Try again! Cannot be an empty string\n",
      "Try again! Cannot be an empty string\n",
      "Try again! Cannot be an empty string\n",
      "Try again! Cannot be an empty string\n",
      "Try again! Cannot be an empty string\n",
      "Try again! Cannot be an empty string\n",
      "Try again! Cannot be an empty string\n"
     ]
    },
    {
     "data": {
      "text/plain": [
       "'sdaeh'"
      ]
     },
     "execution_count": 1,
     "metadata": {},
     "output_type": "execute_result"
    }
   ],
   "source": [
    "# Reverse a string\n",
    "def word_input():\n",
    "    while True:\n",
    "        word = input('Enter a word: ')\n",
    "        if word =='':\n",
    "            print(\"Try again! Cannot be an empty string\")\n",
    "        else:\n",
    "            break\n",
    "    return word\n",
    "\n",
    "def reverse_string(word):\n",
    "    word = word[::-1]\n",
    "    return word\n",
    "\n",
    "reverse_string(word_input())"
   ]
  },
  {
   "cell_type": "code",
   "execution_count": 39,
   "id": "4f9ad166",
   "metadata": {},
   "outputs": [
    {
     "name": "stdout",
     "output_type": "stream",
     "text": [
      "Pick heads or tails: heads\n",
      "Player 1 wins this round!\n",
      "Player 1 Score: 1\n",
      "Player 2 Score: 0\n",
      "Play again? [y/n]y\n",
      "Pick heads or tails: heads\n",
      "Player 1 wins this round!\n",
      "Player 1 Score: 2\n",
      "Player 2 Score: 0\n",
      "Play again? [y/n]y\n",
      "Pick heads or tails: heads\n",
      "Player 1 wins this round!\n",
      "Player 1 Score: 3\n",
      "Player 2 Score: 0\n",
      "Play again? [y/n]y\n",
      "Pick heads or tails: heads\n",
      "Player 2 wins this round!\n",
      "Player 1 Score: 3\n",
      "Player 2 Score: 1\n",
      "Play again? [y/n]y\n",
      "Pick heads or tails: heads\n",
      "Player 1 wins this round!\n",
      "Player 1 Score: 4\n",
      "Player 2 Score: 1\n",
      "Play again? [y/n]y\n",
      "Pick heads or tails: heads\n",
      "Player 2 wins this round!\n",
      "Player 1 Score: 4\n",
      "Player 2 Score: 2\n",
      "Play again? [y/n]y\n",
      "Pick heads or tails: heads\n",
      "Player 2 wins this round!\n",
      "Player 1 Score: 4\n",
      "Player 2 Score: 3\n",
      "Play again? [y/n]y\n",
      "Pick heads or tails: heads\n",
      "Player 1 wins this round!\n",
      "Player 1 Score: 5\n",
      "Player 2 Score: 3\n",
      "Play again? [y/n]y\n",
      "Pick heads or tails: heads\n",
      "Player 2 wins this round!\n",
      "Player 1 Score: 5\n",
      "Player 2 Score: 4\n",
      "Play again? [y/n]y\n",
      "Pick heads or tails: heads\n",
      "Player 1 wins this round!\n",
      "Player 1 Score: 6\n",
      "Player 2 Score: 4\n",
      "Play again? [y/n]y\n",
      "Pick heads or tails: heads\n",
      "Player 1 wins this round!\n",
      "Player 1 Score: 7\n",
      "Player 2 Score: 4\n",
      "Play again? [y/n]y\n",
      "Pick heads or tails: heads\n",
      "Player 2 wins this round!\n",
      "Player 1 Score: 7\n",
      "Player 2 Score: 5\n",
      "Play again? [y/n]y\n",
      "Pick heads or tails: headss\n",
      "Sorry! Please pick the correct coin side (heads or tails)\n",
      "Pick heads or tails: heads\n",
      "Player 2 wins this round!\n",
      "Player 1 Score: 7\n",
      "Player 2 Score: 6\n",
      "Play again? [y/n]y\n",
      "Pick heads or tails: heads\n",
      "Player 1 wins this round!\n",
      "Player 1 Score: 8\n",
      "Player 2 Score: 6\n",
      "Play again? [y/n]n\n",
      "\n",
      "Thanks for playing!\n"
     ]
    }
   ],
   "source": [
    "# Coin flip simulation\n",
    "# libraries to import\n",
    "\n",
    "import random \n",
    "\n",
    "# score variables and master choice list\n",
    "player1=0\n",
    "player2=0\n",
    "\n",
    "# game on variable\n",
    "game_on=True\n",
    "#Get choice of players\n",
    "while game_on:\n",
    "    \n",
    "    #player picks\n",
    "    player1_choice=''\n",
    "    player2_choice=''\n",
    "\n",
    "    #choices list\n",
    "    choice_list = ['heads','tails']\n",
    "    while player1_choice not in choice_list:\n",
    "        player1_choice = input('Pick heads or tails: ').lower()\n",
    "        if player1_choice not in choice_list:\n",
    "            print(\"Sorry! Please pick the correct coin side (heads or tails)\")\n",
    "\n",
    "    choice_list.pop(choice_list.index(player1_choice))\n",
    "    player2_choice = choice_list[0]\n",
    "    sim_choice = random.choice(['heads','tails'])\n",
    "    if player1_choice == sim_choice:\n",
    "        player1+=1\n",
    "        print('Player 1 wins this round!')\n",
    "    elif player2_choice == sim_choice:\n",
    "        player2+=1\n",
    "        print('Player 2 wins this round!')\n",
    "\n",
    "    print('Player 1 Score: {}'.format(player1))\n",
    "    print('Player 2 Score: {}'.format(player2))\n",
    "\n",
    "    while True:\n",
    "        play_again_response = input('Play again? [y/n]')\n",
    "        if play_again_response == 'y':\n",
    "            game_on = True\n",
    "            break\n",
    "        elif play_again_response == 'n':\n",
    "            print(\"\\nThanks for playing!\")\n",
    "            game_on = False\n",
    "            break\n",
    "        else:\n",
    "            print('Invalid response please try again.')"
   ]
  },
  {
   "cell_type": "code",
   "execution_count": 40,
   "id": "3ca2caa9",
   "metadata": {},
   "outputs": [],
   "source": [
    "\n"
   ]
  },
  {
   "cell_type": "code",
   "execution_count": null,
   "id": "545bf6b1",
   "metadata": {},
   "outputs": [],
   "source": [
    "#Bank account = optional or post the udemy course\n"
   ]
  }
 ],
 "metadata": {
  "interpreter": {
   "hash": "40d3a090f54c6569ab1632332b64b2c03c39dcf918b08424e98f38b5ae0af88f"
  },
  "kernelspec": {
   "display_name": "Python 3.8.8 ('base')",
   "language": "python",
   "name": "python3"
  },
  "language_info": {
   "codemirror_mode": {
    "name": "ipython",
    "version": 3
   },
   "file_extension": ".py",
   "mimetype": "text/x-python",
   "name": "python",
   "nbconvert_exporter": "python",
   "pygments_lexer": "ipython3",
   "version": "3.8.8"
  }
 },
 "nbformat": 4,
 "nbformat_minor": 5
}
