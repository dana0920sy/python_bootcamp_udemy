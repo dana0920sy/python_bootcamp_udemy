{
 "cells": [
  {
   "cell_type": "markdown",
   "id": "83883030",
   "metadata": {},
   "source": [
    "# Variables"
   ]
  },
  {
   "cell_type": "code",
   "execution_count": 7,
   "id": "2862d471",
   "metadata": {},
   "outputs": [],
   "source": [
    "a = 5"
   ]
  },
  {
   "cell_type": "code",
   "execution_count": 8,
   "id": "0497b514",
   "metadata": {},
   "outputs": [
    {
     "data": {
      "text/plain": [
       "5"
      ]
     },
     "execution_count": 8,
     "metadata": {},
     "output_type": "execute_result"
    }
   ],
   "source": [
    "a"
   ]
  },
  {
   "cell_type": "code",
   "execution_count": 9,
   "id": "e98f4dbd",
   "metadata": {},
   "outputs": [],
   "source": [
    "a = 10"
   ]
  },
  {
   "cell_type": "code",
   "execution_count": 10,
   "id": "20da1771",
   "metadata": {},
   "outputs": [
    {
     "data": {
      "text/plain": [
       "10"
      ]
     },
     "execution_count": 10,
     "metadata": {},
     "output_type": "execute_result"
    }
   ],
   "source": [
    "a"
   ]
  },
  {
   "cell_type": "code",
   "execution_count": 11,
   "id": "dded76da",
   "metadata": {},
   "outputs": [
    {
     "data": {
      "text/plain": [
       "20"
      ]
     },
     "execution_count": 11,
     "metadata": {},
     "output_type": "execute_result"
    }
   ],
   "source": [
    "a+a"
   ]
  },
  {
   "cell_type": "code",
   "execution_count": 16,
   "id": "5983bf5e",
   "metadata": {},
   "outputs": [],
   "source": [
    "#Reassignments referring to the same object\n",
    "a=a+a"
   ]
  },
  {
   "cell_type": "code",
   "execution_count": 17,
   "id": "1f3ba71d",
   "metadata": {},
   "outputs": [
    {
     "data": {
      "text/plain": [
       "80"
      ]
     },
     "execution_count": 17,
     "metadata": {},
     "output_type": "execute_result"
    }
   ],
   "source": [
    "a"
   ]
  },
  {
   "cell_type": "markdown",
   "id": "b8dff59a",
   "metadata": {},
   "source": [
    "Take note that running cells again and again - especially in Jupyter it will keep on changing the value refer to 16 and 17"
   ]
  },
  {
   "cell_type": "code",
   "execution_count": 19,
   "id": "bb325bc6",
   "metadata": {},
   "outputs": [
    {
     "data": {
      "text/plain": [
       "int"
      ]
     },
     "execution_count": 19,
     "metadata": {},
     "output_type": "execute_result"
    }
   ],
   "source": [
    "type(a)"
   ]
  },
  {
   "cell_type": "markdown",
   "id": "2ca720a7",
   "metadata": {},
   "source": [
    "type() allows you to return the data type of the value inside the ()"
   ]
  },
  {
   "cell_type": "code",
   "execution_count": 20,
   "id": "8ce8a7d9",
   "metadata": {},
   "outputs": [],
   "source": [
    "a=30.1"
   ]
  },
  {
   "cell_type": "code",
   "execution_count": 21,
   "id": "12218387",
   "metadata": {},
   "outputs": [
    {
     "data": {
      "text/plain": [
       "float"
      ]
     },
     "execution_count": 21,
     "metadata": {},
     "output_type": "execute_result"
    }
   ],
   "source": [
    "type(a)"
   ]
  },
  {
   "cell_type": "code",
   "execution_count": 23,
   "id": "7ac98213",
   "metadata": {},
   "outputs": [],
   "source": [
    "my_income = 100\n",
    "\n",
    "tax_rate = 0.1\n",
    "\n",
    "my_taxes = my_income * tax_rate"
   ]
  },
  {
   "cell_type": "code",
   "execution_count": 24,
   "id": "13d1736b",
   "metadata": {},
   "outputs": [
    {
     "data": {
      "text/plain": [
       "10.0"
      ]
     },
     "execution_count": 24,
     "metadata": {},
     "output_type": "execute_result"
    }
   ],
   "source": [
    "my_taxes"
   ]
  },
  {
   "cell_type": "markdown",
   "id": "0d46033a",
   "metadata": {},
   "source": [
    "# Strings"
   ]
  },
  {
   "cell_type": "code",
   "execution_count": 25,
   "id": "6f3d26eb",
   "metadata": {},
   "outputs": [
    {
     "data": {
      "text/plain": [
       "'hello'"
      ]
     },
     "execution_count": 25,
     "metadata": {},
     "output_type": "execute_result"
    }
   ],
   "source": [
    "\"hello\""
   ]
  },
  {
   "cell_type": "code",
   "execution_count": 26,
   "id": "6cb8f294",
   "metadata": {},
   "outputs": [
    {
     "data": {
      "text/plain": [
       "'hello'"
      ]
     },
     "execution_count": 26,
     "metadata": {},
     "output_type": "execute_result"
    }
   ],
   "source": [
    "'hello'"
   ]
  },
  {
   "cell_type": "code",
   "execution_count": 33,
   "id": "7e70f72c",
   "metadata": {},
   "outputs": [
    {
     "ename": "SyntaxError",
     "evalue": "invalid syntax (<ipython-input-33-0b29964ddaa6>, line 1)",
     "output_type": "error",
     "traceback": [
      "\u001b[0;36m  File \u001b[0;32m\"<ipython-input-33-0b29964ddaa6>\"\u001b[0;36m, line \u001b[0;32m1\u001b[0m\n\u001b[0;31m    'I'm going on a run'\u001b[0m\n\u001b[0m       ^\u001b[0m\n\u001b[0;31mSyntaxError\u001b[0m\u001b[0;31m:\u001b[0m invalid syntax\n"
     ]
    }
   ],
   "source": [
    "#Python will get confused if you put single quotes with a word that uses an apostrophe\n",
    "\n",
    "'I'm going on a run'"
   ]
  },
  {
   "cell_type": "code",
   "execution_count": 34,
   "id": "6828cf02",
   "metadata": {},
   "outputs": [
    {
     "data": {
      "text/plain": [
       "\"I'm going on a run\""
      ]
     },
     "execution_count": 34,
     "metadata": {},
     "output_type": "execute_result"
    }
   ],
   "source": [
    "#Solution is to just use double quotes\n",
    "\n",
    "\"I'm going on a run\""
   ]
  },
  {
   "cell_type": "code",
   "execution_count": 35,
   "id": "5b3ee1d0",
   "metadata": {},
   "outputs": [
    {
     "name": "stdout",
     "output_type": "stream",
     "text": [
      "hello\n"
     ]
    }
   ],
   "source": [
    "#Notice that we're printing out the actual string without the double quotes\n",
    "print(\"hello\")"
   ]
  },
  {
   "cell_type": "code",
   "execution_count": 37,
   "id": "8d82c614",
   "metadata": {},
   "outputs": [
    {
     "data": {
      "text/plain": [
       "'hello world two'"
      ]
     },
     "execution_count": 37,
     "metadata": {},
     "output_type": "execute_result"
    }
   ],
   "source": [
    "#Without the print function, you will only return the last value in the cell\n",
    "\n",
    "\"hello world one\"\n",
    "\"hello world two\""
   ]
  },
  {
   "cell_type": "code",
   "execution_count": 38,
   "id": "5ada227e",
   "metadata": {},
   "outputs": [
    {
     "name": "stdout",
     "output_type": "stream",
     "text": [
      "hello world one\n",
      "hello world two\n"
     ]
    }
   ],
   "source": [
    "#Add print to return both strings\n",
    "\n",
    "print(\"hello world one\")\n",
    "print('hello world two')"
   ]
  },
  {
   "cell_type": "code",
   "execution_count": 42,
   "id": "c04e86ba",
   "metadata": {},
   "outputs": [
    {
     "name": "stdout",
     "output_type": "stream",
     "text": [
      "hello \n",
      "world\n",
      "hello \tworld\n"
     ]
    }
   ],
   "source": [
    "# use of \\n to make a NEW line\n",
    "# use of \\t is tab\n",
    "\n",
    "print('hello \\nworld')\n",
    "print('hello \\tworld')"
   ]
  },
  {
   "cell_type": "code",
   "execution_count": 45,
   "id": "4e4962d0",
   "metadata": {},
   "outputs": [
    {
     "name": "stdout",
     "output_type": "stream",
     "text": [
      "6\n",
      "4\n"
     ]
    }
   ],
   "source": [
    "#Length let us return the length of the string and this also includes whitespaces or spaces\n",
    "\n",
    "print(len('hellow'))\n",
    "print(len(\"I am\"))"
   ]
  },
  {
   "cell_type": "markdown",
   "id": "e26c07e1",
   "metadata": {},
   "source": [
    "# Indexing"
   ]
  },
  {
   "cell_type": "code",
   "execution_count": 46,
   "id": "bb24f15a",
   "metadata": {},
   "outputs": [],
   "source": [
    "mystring=\"Hello World\""
   ]
  },
  {
   "cell_type": "code",
   "execution_count": 47,
   "id": "39ad02ce",
   "metadata": {},
   "outputs": [
    {
     "data": {
      "text/plain": [
       "'Hello World'"
      ]
     },
     "execution_count": 47,
     "metadata": {},
     "output_type": "execute_result"
    }
   ],
   "source": [
    "mystring"
   ]
  },
  {
   "cell_type": "code",
   "execution_count": 48,
   "id": "bacd4e37",
   "metadata": {},
   "outputs": [
    {
     "data": {
      "text/plain": [
       "'H'"
      ]
     },
     "execution_count": 48,
     "metadata": {},
     "output_type": "execute_result"
    }
   ],
   "source": [
    "#Return the first character of the string \n",
    "mystring[0]"
   ]
  },
  {
   "cell_type": "code",
   "execution_count": 50,
   "id": "cd27cf71",
   "metadata": {},
   "outputs": [
    {
     "data": {
      "text/plain": [
       "'r'"
      ]
     },
     "execution_count": 50,
     "metadata": {},
     "output_type": "execute_result"
    }
   ],
   "source": [
    "#Return the r from the string\n",
    "mystring[8]"
   ]
  },
  {
   "cell_type": "code",
   "execution_count": 51,
   "id": "6d76b2a8",
   "metadata": {},
   "outputs": [
    {
     "data": {
      "text/plain": [
       "'l'"
      ]
     },
     "execution_count": 51,
     "metadata": {},
     "output_type": "execute_result"
    }
   ],
   "source": [
    "#Use of the reverse index\n",
    "mystring[-2]"
   ]
  },
  {
   "cell_type": "markdown",
   "id": "58192ab2",
   "metadata": {},
   "source": [
    "# Slicing"
   ]
  },
  {
   "cell_type": "code",
   "execution_count": 52,
   "id": "476e1a75",
   "metadata": {},
   "outputs": [],
   "source": [
    "mystring=\"abcdefghijk\""
   ]
  },
  {
   "cell_type": "code",
   "execution_count": 53,
   "id": "d93144dd",
   "metadata": {},
   "outputs": [
    {
     "data": {
      "text/plain": [
       "'abcdefghijk'"
      ]
     },
     "execution_count": 53,
     "metadata": {},
     "output_type": "execute_result"
    }
   ],
   "source": [
    "mystring"
   ]
  },
  {
   "cell_type": "code",
   "execution_count": 54,
   "id": "80d4c70b",
   "metadata": {},
   "outputs": [
    {
     "data": {
      "text/plain": [
       "'cdefghijk'"
      ]
     },
     "execution_count": 54,
     "metadata": {},
     "output_type": "execute_result"
    }
   ],
   "source": [
    "#Let's get a subsection and get all the way up to the end\n",
    "#To do this, variable_name[start number:] returns the entire string up to the end by default\n",
    "mystring[2:]"
   ]
  },
  {
   "cell_type": "code",
   "execution_count": 56,
   "id": "27b1f545",
   "metadata": {},
   "outputs": [
    {
     "data": {
      "text/plain": [
       "'abc'"
      ]
     },
     "execution_count": 56,
     "metadata": {},
     "output_type": "execute_result"
    }
   ],
   "source": [
    "#Let's get abc\n",
    "#Remember the stop index is EXCLUSIVE. I.e. go up to the letter d but don't include d\n",
    "mystring[:3]"
   ]
  },
  {
   "cell_type": "code",
   "execution_count": 58,
   "id": "1e05c647",
   "metadata": {},
   "outputs": [
    {
     "data": {
      "text/plain": [
       "'def'"
      ]
     },
     "execution_count": 58,
     "metadata": {},
     "output_type": "execute_result"
    }
   ],
   "source": [
    "#Get the smackdab middle\n",
    "mystring[3:6]"
   ]
  },
  {
   "cell_type": "code",
   "execution_count": 59,
   "id": "6bd650cb",
   "metadata": {},
   "outputs": [
    {
     "data": {
      "text/plain": [
       "'bc'"
      ]
     },
     "execution_count": 59,
     "metadata": {},
     "output_type": "execute_result"
    }
   ],
   "source": [
    "#Get bc\n",
    "mystring[1:3]"
   ]
  },
  {
   "cell_type": "code",
   "execution_count": 61,
   "id": "6a79ef68",
   "metadata": {},
   "outputs": [
    {
     "data": {
      "text/plain": [
       "'acegik'"
      ]
     },
     "execution_count": 61,
     "metadata": {},
     "output_type": "execute_result"
    }
   ],
   "source": [
    "mystring[::2]"
   ]
  },
  {
   "cell_type": "code",
   "execution_count": 68,
   "id": "bcf01008",
   "metadata": {},
   "outputs": [
    {
     "data": {
      "text/plain": [
       "'cg'"
      ]
     },
     "execution_count": 68,
     "metadata": {},
     "output_type": "execute_result"
    }
   ],
   "source": [
    "#Start from index 2 to index 7 with step size of 2\n",
    "mystring[2:7:4]"
   ]
  },
  {
   "cell_type": "code",
   "execution_count": 63,
   "id": "0be129ce",
   "metadata": {},
   "outputs": [
    {
     "data": {
      "text/plain": [
       "'kjihgfedcba'"
      ]
     },
     "execution_count": 63,
     "metadata": {},
     "output_type": "execute_result"
    }
   ],
   "source": [
    "#Reverse string. Take a backwards step\n",
    "mystring[::-1]"
   ]
  },
  {
   "cell_type": "code",
   "execution_count": 64,
   "id": "21a84b29",
   "metadata": {},
   "outputs": [
    {
     "data": {
      "text/plain": [
       "'kigeca'"
      ]
     },
     "execution_count": 64,
     "metadata": {},
     "output_type": "execute_result"
    }
   ],
   "source": [
    "mystring[::-2]"
   ]
  },
  {
   "cell_type": "markdown",
   "id": "eb8159af",
   "metadata": {},
   "source": [
    "# String Properties and Methods"
   ]
  },
  {
   "cell_type": "markdown",
   "id": "bf701d35",
   "metadata": {},
   "source": [
    "Immutability - stems from 'mutate'; really stands for cannot mutate or change. \n",
    "Strings are not mutable!"
   ]
  },
  {
   "cell_type": "code",
   "execution_count": 3,
   "id": "3daf1a04",
   "metadata": {},
   "outputs": [],
   "source": [
    "#example\n",
    "name='Sam'"
   ]
  },
  {
   "cell_type": "code",
   "execution_count": 4,
   "id": "e1b81a37",
   "metadata": {},
   "outputs": [
    {
     "ename": "TypeError",
     "evalue": "'str' object does not support item assignment",
     "output_type": "error",
     "traceback": [
      "\u001b[0;31m---------------------------------------------------------------------------\u001b[0m",
      "\u001b[0;31mTypeError\u001b[0m                                 Traceback (most recent call last)",
      "\u001b[0;32m<ipython-input-4-4501820df49a>\u001b[0m in \u001b[0;36m<module>\u001b[0;34m\u001b[0m\n\u001b[0;32m----> 1\u001b[0;31m \u001b[0mname\u001b[0m\u001b[0;34m[\u001b[0m\u001b[0;36m0\u001b[0m\u001b[0;34m]\u001b[0m\u001b[0;34m=\u001b[0m\u001b[0;34m'P'\u001b[0m\u001b[0;34m\u001b[0m\u001b[0;34m\u001b[0m\u001b[0m\n\u001b[0m",
      "\u001b[0;31mTypeError\u001b[0m: 'str' object does not support item assignment"
     ]
    }
   ],
   "source": [
    "#name[0]='P'"
   ]
  },
  {
   "cell_type": "code",
   "execution_count": 6,
   "id": "fb774c71",
   "metadata": {},
   "outputs": [],
   "source": [
    "#You can merge two strings together using concatenation\n",
    "last_letters=name[1:]"
   ]
  },
  {
   "cell_type": "code",
   "execution_count": 7,
   "id": "9fa1449a",
   "metadata": {},
   "outputs": [
    {
     "data": {
      "text/plain": [
       "'am'"
      ]
     },
     "execution_count": 7,
     "metadata": {},
     "output_type": "execute_result"
    }
   ],
   "source": [
    "last_letters"
   ]
  },
  {
   "cell_type": "code",
   "execution_count": 8,
   "id": "8895773f",
   "metadata": {},
   "outputs": [
    {
     "data": {
      "text/plain": [
       "'Pam'"
      ]
     },
     "execution_count": 8,
     "metadata": {},
     "output_type": "execute_result"
    }
   ],
   "source": [
    "'P'+last_letters\n",
    "#This is known as string concatenation"
   ]
  },
  {
   "cell_type": "code",
   "execution_count": 9,
   "id": "cd086637",
   "metadata": {},
   "outputs": [],
   "source": [
    "x = 'Hello World'"
   ]
  },
  {
   "cell_type": "code",
   "execution_count": 15,
   "id": "2b7ea7dd",
   "metadata": {},
   "outputs": [],
   "source": [
    "x = x + 'it is beautiful outside!'"
   ]
  },
  {
   "cell_type": "code",
   "execution_count": 16,
   "id": "ae1260e0",
   "metadata": {},
   "outputs": [
    {
     "data": {
      "text/plain": [
       "'Hello Worldit is beautiful outside!it is beautiful outside!it is beautiful outside!'"
      ]
     },
     "execution_count": 16,
     "metadata": {},
     "output_type": "execute_result"
    }
   ],
   "source": [
    "x\n",
    "\n",
    "#Notice if you keep running the previous cells, you will just keep adding on!"
   ]
  },
  {
   "cell_type": "code",
   "execution_count": 17,
   "id": "3b4d4c9b",
   "metadata": {},
   "outputs": [
    {
     "data": {
      "text/plain": [
       "'zzzzzzzzzz'"
      ]
     },
     "execution_count": 17,
     "metadata": {},
     "output_type": "execute_result"
    }
   ],
   "source": [
    "#You can do multiple string concatenation. Do multiplication with letters\n",
    "letter = 'z'\n",
    "letter*10"
   ]
  },
  {
   "cell_type": "code",
   "execution_count": 18,
   "id": "dbfd2478",
   "metadata": {},
   "outputs": [
    {
     "data": {
      "text/plain": [
       "5"
      ]
     },
     "execution_count": 18,
     "metadata": {},
     "output_type": "execute_result"
    }
   ],
   "source": [
    "2 + 3"
   ]
  },
  {
   "cell_type": "code",
   "execution_count": 20,
   "id": "cfbd24ea",
   "metadata": {},
   "outputs": [
    {
     "data": {
      "text/plain": [
       "'23'"
      ]
     },
     "execution_count": 20,
     "metadata": {},
     "output_type": "execute_result"
    }
   ],
   "source": [
    "'2'+ '3'"
   ]
  },
  {
   "cell_type": "code",
   "execution_count": 23,
   "id": "8636e73d",
   "metadata": {},
   "outputs": [],
   "source": [
    "#Remember, be careful with data types! Try not to mix especially when you throw any errors\n",
    "x='Hello World'"
   ]
  },
  {
   "cell_type": "code",
   "execution_count": 24,
   "id": "67aa8c46",
   "metadata": {},
   "outputs": [
    {
     "data": {
      "text/plain": [
       "'HELLO WORLD'"
      ]
     },
     "execution_count": 24,
     "metadata": {},
     "output_type": "execute_result"
    }
   ],
   "source": [
    "#Define x and put a \".\" then click on tab to see all the functions you can do with it!\n",
    "x.upper()"
   ]
  },
  {
   "cell_type": "code",
   "execution_count": 25,
   "id": "888d9e97",
   "metadata": {},
   "outputs": [
    {
     "data": {
      "text/plain": [
       "'Hello World'"
      ]
     },
     "execution_count": 25,
     "metadata": {},
     "output_type": "execute_result"
    }
   ],
   "source": [
    "#Notice that it doesn't run the upper case version cuz it was not stored in a variable\n",
    "x"
   ]
  },
  {
   "cell_type": "code",
   "execution_count": 26,
   "id": "be7ab2a9",
   "metadata": {},
   "outputs": [
    {
     "data": {
      "text/plain": [
       "<function str.upper()>"
      ]
     },
     "execution_count": 26,
     "metadata": {},
     "output_type": "execute_result"
    }
   ],
   "source": [
    "x.upper\n",
    "#you didn't tell Python to execute the function IF you didn't put the ()"
   ]
  },
  {
   "cell_type": "code",
   "execution_count": 27,
   "id": "5b8fa20b",
   "metadata": {},
   "outputs": [
    {
     "data": {
      "text/plain": [
       "'hello world'"
      ]
     },
     "execution_count": 27,
     "metadata": {},
     "output_type": "execute_result"
    }
   ],
   "source": [
    "x.lower()"
   ]
  },
  {
   "cell_type": "code",
   "execution_count": 28,
   "id": "b0608aa8",
   "metadata": {},
   "outputs": [
    {
     "data": {
      "text/plain": [
       "['Hello', 'World']"
      ]
     },
     "execution_count": 28,
     "metadata": {},
     "output_type": "execute_result"
    }
   ],
   "source": [
    "#Split method - creates a list out of a string\n",
    "#Splits strings based on the white space by default or by passing in a certain character\n",
    "x.split()"
   ]
  },
  {
   "cell_type": "code",
   "execution_count": 29,
   "id": "e42e67e5",
   "metadata": {},
   "outputs": [
    {
     "data": {
      "text/plain": [
       "['Hi', 'this', 'is', 'a', 'string']"
      ]
     },
     "execution_count": 29,
     "metadata": {},
     "output_type": "execute_result"
    }
   ],
   "source": [
    "x = 'Hi this is a string'\n",
    "x.split()"
   ]
  },
  {
   "cell_type": "code",
   "execution_count": 30,
   "id": "4b284b65",
   "metadata": {},
   "outputs": [
    {
     "data": {
      "text/plain": [
       "['H', ' th', 's ', 's a str', 'ng']"
      ]
     },
     "execution_count": 30,
     "metadata": {},
     "output_type": "execute_result"
    }
   ],
   "source": [
    "x.split('i')\n",
    "#Notice that white space was retained. The string split based on the i and doesn't show up in the output"
   ]
  }
 ],
 "metadata": {
  "kernelspec": {
   "display_name": "Python 3",
   "language": "python",
   "name": "python3"
  },
  "language_info": {
   "codemirror_mode": {
    "name": "ipython",
    "version": 3
   },
   "file_extension": ".py",
   "mimetype": "text/x-python",
   "name": "python",
   "nbconvert_exporter": "python",
   "pygments_lexer": "ipython3",
   "version": "3.8.8"
  }
 },
 "nbformat": 4,
 "nbformat_minor": 5
}
