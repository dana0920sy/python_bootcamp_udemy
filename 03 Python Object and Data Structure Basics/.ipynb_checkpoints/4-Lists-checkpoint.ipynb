{
 "cells": [
  {
   "cell_type": "markdown",
   "id": "c0474d2f",
   "metadata": {},
   "source": [
    "# Lists"
   ]
  },
  {
   "cell_type": "markdown",
   "id": "afeccd3d",
   "metadata": {},
   "source": [
    "Ordered sequences that can hold a variety of object types"
   ]
  },
  {
   "cell_type": "markdown",
   "id": "985689c1",
   "metadata": {},
   "source": [
    "Use of brackets and commas. Can be used to separate objects. Can mix various types."
   ]
  },
  {
   "cell_type": "markdown",
   "id": "7c49bbb3",
   "metadata": {},
   "source": [
    "Supports indexing and slicing. Can be nexted and have a variety of methods that you can call off of them"
   ]
  },
  {
   "cell_type": "code",
   "execution_count": 4,
   "id": "2cd5135b",
   "metadata": {},
   "outputs": [],
   "source": [
    "#Example\n",
    "my_list=[1,2,3]"
   ]
  },
  {
   "cell_type": "code",
   "execution_count": 6,
   "id": "d6cc592d",
   "metadata": {},
   "outputs": [
    {
     "data": {
      "text/plain": [
       "['Hello', 1, True]"
      ]
     },
     "execution_count": 6,
     "metadata": {},
     "output_type": "execute_result"
    }
   ],
   "source": [
    "#Mix of different data types or object ytpes\n",
    "my_list=['Hello',1,True]\n",
    "my_list"
   ]
  },
  {
   "cell_type": "code",
   "execution_count": 7,
   "id": "0240b305",
   "metadata": {},
   "outputs": [
    {
     "data": {
      "text/plain": [
       "3"
      ]
     },
     "execution_count": 7,
     "metadata": {},
     "output_type": "execute_result"
    }
   ],
   "source": [
    "#You can get the number of items by using len()\n",
    "len(my_list)"
   ]
  },
  {
   "cell_type": "code",
   "execution_count": 17,
   "id": "a7a92c82",
   "metadata": {},
   "outputs": [
    {
     "data": {
      "text/plain": [
       "'one'"
      ]
     },
     "execution_count": 17,
     "metadata": {},
     "output_type": "execute_result"
    }
   ],
   "source": [
    "#Support of indexing and slicing\n",
    "my_list=[\"one\",\"two\",\"three\"]\n",
    "\n",
    "my_list[0]"
   ]
  },
  {
   "cell_type": "code",
   "execution_count": 19,
   "id": "42f6d26f",
   "metadata": {},
   "outputs": [],
   "source": [
    "#You can concatenate\n",
    "list_1=['hello',\"sup\"]\n",
    "list_2=[\"for real\",1]\n",
    "\n",
    "combined=list_1+list_2"
   ]
  },
  {
   "cell_type": "code",
   "execution_count": 20,
   "id": "dede63e0",
   "metadata": {},
   "outputs": [
    {
     "data": {
      "text/plain": [
       "'sup'"
      ]
     },
     "execution_count": 20,
     "metadata": {},
     "output_type": "execute_result"
    }
   ],
   "source": [
    "combined[1]"
   ]
  },
  {
   "cell_type": "code",
   "execution_count": 24,
   "id": "13affb77",
   "metadata": {},
   "outputs": [
    {
     "data": {
      "text/plain": [
       "[True, 'sup', 'for real', 1]"
      ]
     },
     "execution_count": 24,
     "metadata": {},
     "output_type": "execute_result"
    }
   ],
   "source": [
    "#Is mutable? YES! You can mutate or change elements in a list compared to a string\n",
    "combined[0]=True\n",
    "combined"
   ]
  },
  {
   "cell_type": "code",
   "execution_count": 27,
   "id": "2ed6bf2a",
   "metadata": {},
   "outputs": [
    {
     "data": {
      "text/plain": [
       "[True, 'sup', 'for real', 1, 'KORO-CHAN', 'KORO-CHAN', 'KORO-CHAN']"
      ]
     },
     "execution_count": 27,
     "metadata": {},
     "output_type": "execute_result"
    }
   ],
   "source": [
    "#Various methods - append\n",
    "combined.append('KORO-CHAN')\n",
    "combined"
   ]
  },
  {
   "cell_type": "code",
   "execution_count": 28,
   "id": "ad8333c7",
   "metadata": {},
   "outputs": [],
   "source": [
    "combined.append('seven')"
   ]
  },
  {
   "cell_type": "code",
   "execution_count": 29,
   "id": "2065c503",
   "metadata": {},
   "outputs": [
    {
     "data": {
      "text/plain": [
       "[True, 'sup', 'for real', 1, 'KORO-CHAN', 'KORO-CHAN', 'KORO-CHAN', 'seven']"
      ]
     },
     "execution_count": 29,
     "metadata": {},
     "output_type": "execute_result"
    }
   ],
   "source": [
    "combined"
   ]
  },
  {
   "cell_type": "code",
   "execution_count": 37,
   "id": "9490b9ad",
   "metadata": {},
   "outputs": [
    {
     "name": "stdout",
     "output_type": "stream",
     "text": [
      "True\n"
     ]
    },
    {
     "data": {
      "text/plain": [
       "[]"
      ]
     },
     "execution_count": 37,
     "metadata": {},
     "output_type": "execute_result"
    }
   ],
   "source": [
    "#Removal of items: pop. By default it rmoves the latest element on negative 1\n",
    "print(combined.pop())\n",
    "combined"
   ]
  },
  {
   "cell_type": "code",
   "execution_count": 38,
   "id": "4f6ef73c",
   "metadata": {},
   "outputs": [],
   "source": [
    "list_1=[1,2,3]\n",
    "list_2=[2,3,4]\n",
    "new_list=list_1+list_2"
   ]
  },
  {
   "cell_type": "code",
   "execution_count": 41,
   "id": "b097bab3",
   "metadata": {},
   "outputs": [
    {
     "data": {
      "text/plain": [
       "1"
      ]
     },
     "execution_count": 41,
     "metadata": {},
     "output_type": "execute_result"
    }
   ],
   "source": [
    "new_list\n",
    "new_list.pop(0)"
   ]
  },
  {
   "cell_type": "code",
   "execution_count": 42,
   "id": "29cdd258",
   "metadata": {},
   "outputs": [
    {
     "data": {
      "text/plain": [
       "[2, 3, 2, 3, 4]"
      ]
     },
     "execution_count": 42,
     "metadata": {},
     "output_type": "execute_result"
    }
   ],
   "source": [
    "popped_item = new_list\n",
    "popped_item"
   ]
  },
  {
   "cell_type": "code",
   "execution_count": 51,
   "id": "1fe36fec",
   "metadata": {},
   "outputs": [],
   "source": [
    "#Sorts and reverses\n",
    "\n",
    "my_list=['a','b','c','d',\"A\"]\n",
    "num_list=[1,4,27,0,1]"
   ]
  },
  {
   "cell_type": "code",
   "execution_count": 44,
   "id": "04e16980",
   "metadata": {},
   "outputs": [],
   "source": [
    "my_list.sort()"
   ]
  },
  {
   "cell_type": "code",
   "execution_count": 45,
   "id": "d400c853",
   "metadata": {},
   "outputs": [
    {
     "data": {
      "text/plain": [
       "['A', 'a', 'b', 'c', 'd']"
      ]
     },
     "execution_count": 45,
     "metadata": {},
     "output_type": "execute_result"
    }
   ],
   "source": [
    "my_list"
   ]
  },
  {
   "cell_type": "code",
   "execution_count": 48,
   "id": "197df92d",
   "metadata": {},
   "outputs": [],
   "source": [
    "my_list.sort() # it won't return anything. And can't assign this to a variable\n",
    "sorted_list=my_list"
   ]
  },
  {
   "cell_type": "code",
   "execution_count": 49,
   "id": "11f3e0e9",
   "metadata": {},
   "outputs": [
    {
     "data": {
      "text/plain": [
       "['A', 'a', 'b', 'c', 'd']"
      ]
     },
     "execution_count": 49,
     "metadata": {},
     "output_type": "execute_result"
    }
   ],
   "source": [
    "sorted_list"
   ]
  },
  {
   "cell_type": "code",
   "execution_count": 52,
   "id": "93912fa3",
   "metadata": {},
   "outputs": [],
   "source": [
    "num_list.sort()"
   ]
  },
  {
   "cell_type": "code",
   "execution_count": 53,
   "id": "3c86be8f",
   "metadata": {},
   "outputs": [
    {
     "data": {
      "text/plain": [
       "[0, 1, 1, 4, 27]"
      ]
     },
     "execution_count": 53,
     "metadata": {},
     "output_type": "execute_result"
    }
   ],
   "source": [
    "num_list"
   ]
  },
  {
   "cell_type": "code",
   "execution_count": 54,
   "id": "6f8f8778",
   "metadata": {},
   "outputs": [],
   "source": [
    "num_list.reverse()"
   ]
  },
  {
   "cell_type": "code",
   "execution_count": 55,
   "id": "e14f800c",
   "metadata": {},
   "outputs": [
    {
     "data": {
      "text/plain": [
       "[27, 4, 1, 1, 0]"
      ]
     },
     "execution_count": 55,
     "metadata": {},
     "output_type": "execute_result"
    }
   ],
   "source": [
    "num_list"
   ]
  },
  {
   "cell_type": "code",
   "execution_count": 56,
   "id": "73f83986",
   "metadata": {},
   "outputs": [],
   "source": [
    "my_list.reverse()"
   ]
  },
  {
   "cell_type": "code",
   "execution_count": 57,
   "id": "11d3ff58",
   "metadata": {},
   "outputs": [
    {
     "data": {
      "text/plain": [
       "['A', 'd', 'c', 'b', 'a']"
      ]
     },
     "execution_count": 57,
     "metadata": {},
     "output_type": "execute_result"
    }
   ],
   "source": [
    "my_list"
   ]
  },
  {
   "cell_type": "code",
   "execution_count": 61,
   "id": "cf889ed5",
   "metadata": {},
   "outputs": [
    {
     "ename": "TypeError",
     "evalue": "'<' not supported between instances of 'list' and 'int'",
     "output_type": "error",
     "traceback": [
      "\u001b[0;31m---------------------------------------------------------------------------\u001b[0m",
      "\u001b[0;31mTypeError\u001b[0m                                 Traceback (most recent call last)",
      "\u001b[0;32m<ipython-input-61-b57a8789407b>\u001b[0m in \u001b[0;36m<module>\u001b[0;34m\u001b[0m\n\u001b[1;32m      1\u001b[0m \u001b[0ma\u001b[0m\u001b[0;34m=\u001b[0m\u001b[0;34m[\u001b[0m\u001b[0;36m1\u001b[0m\u001b[0;34m,\u001b[0m\u001b[0;36m3\u001b[0m\u001b[0;34m,\u001b[0m\u001b[0;34m[\u001b[0m\u001b[0;36m1\u001b[0m\u001b[0;34m,\u001b[0m\u001b[0;36m2\u001b[0m\u001b[0;34m]\u001b[0m\u001b[0;34m]\u001b[0m\u001b[0;34m\u001b[0m\u001b[0;34m\u001b[0m\u001b[0m\n\u001b[0;32m----> 2\u001b[0;31m \u001b[0ma\u001b[0m\u001b[0;34m.\u001b[0m\u001b[0msort\u001b[0m\u001b[0;34m(\u001b[0m\u001b[0;34m)\u001b[0m\u001b[0;34m\u001b[0m\u001b[0;34m\u001b[0m\u001b[0m\n\u001b[0m\u001b[1;32m      3\u001b[0m \u001b[0ma\u001b[0m\u001b[0;34m\u001b[0m\u001b[0;34m\u001b[0m\u001b[0m\n",
      "\u001b[0;31mTypeError\u001b[0m: '<' not supported between instances of 'list' and 'int'"
     ]
    }
   ],
   "source": [
    "a=[1,3,[1,2]]\n",
    "a.sort()\n",
    "a #Note that sort does not support mixed types (list and int)"
   ]
  },
  {
   "cell_type": "code",
   "execution_count": null,
   "id": "3046dece",
   "metadata": {},
   "outputs": [],
   "source": []
  }
 ],
 "metadata": {
  "kernelspec": {
   "display_name": "Python 3",
   "language": "python",
   "name": "python3"
  },
  "language_info": {
   "codemirror_mode": {
    "name": "ipython",
    "version": 3
   },
   "file_extension": ".py",
   "mimetype": "text/x-python",
   "name": "python",
   "nbconvert_exporter": "python",
   "pygments_lexer": "ipython3",
   "version": "3.8.8"
  }
 },
 "nbformat": 4,
 "nbformat_minor": 5
}
