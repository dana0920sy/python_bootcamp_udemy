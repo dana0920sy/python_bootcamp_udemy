{
 "cells": [
  {
   "cell_type": "markdown",
   "id": "170176d8",
   "metadata": {},
   "source": [
    "# Print Formatting"
   ]
  },
  {
   "cell_type": "markdown",
   "id": "6afbe4a3",
   "metadata": {},
   "source": [
    "Using the .format() method"
   ]
  },
  {
   "cell_type": "markdown",
   "id": "3fe5200f",
   "metadata": {},
   "source": [
    "'String here {} then also {}'.format('something1', 'something2')"
   ]
  },
  {
   "cell_type": "code",
   "execution_count": 1,
   "id": "fd99ae7a",
   "metadata": {},
   "outputs": [
    {
     "name": "stdout",
     "output_type": "stream",
     "text": [
      "This is a string INSERTED\n"
     ]
    }
   ],
   "source": [
    "#Example\n",
    "\n",
    "print('This is a string {}'.format('INSERTED'))\n",
    "\n",
    "#It grabs the argument inside the .format() and replaces/inserts itself into the curly braces."
   ]
  },
  {
   "cell_type": "code",
   "execution_count": 5,
   "id": "75322daf",
   "metadata": {},
   "outputs": [
    {
     "name": "stdout",
     "output_type": "stream",
     "text": [
      "This is a string 1 and asdfasdf and FOR REAL plus GO TO SLEEP\n"
     ]
    }
   ],
   "source": [
    "print('This is a string {} and {} and {} plus {}'.format('1','asdfasdf','FOR REAL',\"GO TO SLEEP\"))\n",
    "\n",
    "#You can extend that to more than just 1 :) Remember it's based on the index position "
   ]
  },
  {
   "cell_type": "code",
   "execution_count": 7,
   "id": "6a75b9ba",
   "metadata": {},
   "outputs": [
    {
     "name": "stdout",
     "output_type": "stream",
     "text": [
      "The quick brown fox\n"
     ]
    }
   ],
   "source": [
    "print('The {2} {1} {0}'.format('fox','brown','quick'))\n",
    "#You can assign indexes inside the curly braces. Remember start at 0! "
   ]
  },
  {
   "cell_type": "code",
   "execution_count": 8,
   "id": "dcdb33be",
   "metadata": {},
   "outputs": [
    {
     "name": "stdout",
     "output_type": "stream",
     "text": [
      "The fox fox fox\n"
     ]
    }
   ],
   "source": [
    "#You can also repeat the indices\n",
    "print('The {0} {0} {0}'.format('fox','brown','quick'))"
   ]
  },
  {
   "cell_type": "code",
   "execution_count": 10,
   "id": "6ce50794",
   "metadata": {},
   "outputs": [
    {
     "name": "stdout",
     "output_type": "stream",
     "text": [
      "The quick brown fox\n"
     ]
    }
   ],
   "source": [
    "#You can also call keywords! instead of looking for the specific word\n",
    "#It's more readable and definitely much nicer. Instead of checking the index position\n",
    "\n",
    "print('The {q} {b} {f}'.format(f='fox',b='brown',q='quick'))"
   ]
  },
  {
   "cell_type": "code",
   "execution_count": 11,
   "id": "84c1c20a",
   "metadata": {},
   "outputs": [
    {
     "name": "stdout",
     "output_type": "stream",
     "text": [
      "The fox fox fox\n"
     ]
    }
   ],
   "source": [
    "print('The {f} {f} {f}'.format(f='fox',b='brown',q='quick'))"
   ]
  },
  {
   "cell_type": "markdown",
   "id": "ac565f68",
   "metadata": {},
   "source": [
    "# Float formating with the  '{value:width.precision f}'"
   ]
  },
  {
   "cell_type": "code",
   "execution_count": 12,
   "id": "9d4b2a21",
   "metadata": {},
   "outputs": [],
   "source": [
    "result = 100/777"
   ]
  },
  {
   "cell_type": "code",
   "execution_count": 13,
   "id": "dabe4c9f",
   "metadata": {},
   "outputs": [
    {
     "data": {
      "text/plain": [
       "0.1287001287001287"
      ]
     },
     "execution_count": 13,
     "metadata": {},
     "output_type": "execute_result"
    }
   ],
   "source": [
    "result"
   ]
  },
  {
   "cell_type": "code",
   "execution_count": 14,
   "id": "0635fdfc",
   "metadata": {},
   "outputs": [
    {
     "name": "stdout",
     "output_type": "stream",
     "text": [
      "The result was 0.1287001287001287\n"
     ]
    }
   ],
   "source": [
    "print('The result was {}'.format(result))"
   ]
  },
  {
   "cell_type": "code",
   "execution_count": 16,
   "id": "245b4335",
   "metadata": {},
   "outputs": [
    {
     "name": "stdout",
     "output_type": "stream",
     "text": [
      "The result was 0.1287001287001287\n"
     ]
    }
   ],
   "source": [
    "print('The result was {r}'.format(r=result))"
   ]
  },
  {
   "cell_type": "code",
   "execution_count": 35,
   "id": "af9461c0",
   "metadata": {},
   "outputs": [
    {
     "name": "stdout",
     "output_type": "stream",
     "text": [
      "The result was    104.123\n"
     ]
    }
   ],
   "source": [
    "print('The result was {r:10.3f}'.format(r=result))"
   ]
  },
  {
   "cell_type": "code",
   "execution_count": 31,
   "id": "1a1b9164",
   "metadata": {},
   "outputs": [],
   "source": [
    "result=104.12345"
   ]
  },
  {
   "cell_type": "code",
   "execution_count": 34,
   "id": "8a2b1e85",
   "metadata": {},
   "outputs": [
    {
     "name": "stdout",
     "output_type": "stream",
     "text": [
      "The result was 104.1235\n"
     ]
    }
   ],
   "source": [
    "print('The result was {r:1.4f}'.format(r=result))\n",
    "#Remember define the key even if you assigned a variable outside of the print string"
   ]
  },
  {
   "cell_type": "code",
   "execution_count": 65,
   "id": "5c1657f1",
   "metadata": {},
   "outputs": [
    {
     "name": "stdout",
     "output_type": "stream",
     "text": [
      "Fruit    | Quantity \n",
      "Apples   |       3.0\n",
      "Oranges  |        10\n"
     ]
    }
   ],
   "source": [
    "print('{0:8} | {1:9}'.format('Fruit', 'Quantity')) # 0 and 1 represents the key. the 8 and 9 represent the width\n",
    "print('{0:8} | {1:9}'.format('Apples', 3.))\n",
    "print('{0:8} | {1:9}'.format('Oranges', 10))"
   ]
  },
  {
   "cell_type": "markdown",
   "id": "ddcd56f6",
   "metadata": {},
   "source": [
    "# F-Strings\n",
    "Makes use of the f keyword before the string"
   ]
  },
  {
   "cell_type": "code",
   "execution_count": 38,
   "id": "32d32617",
   "metadata": {},
   "outputs": [],
   "source": [
    "name = 'Jose'"
   ]
  },
  {
   "cell_type": "code",
   "execution_count": 46,
   "id": "8021c6f9",
   "metadata": {},
   "outputs": [
    {
     "name": "stdout",
     "output_type": "stream",
     "text": [
      "Hello, his name is Jose\n"
     ]
    }
   ],
   "source": [
    "print(f'Hello, his name is {name}')\n",
    "#Just don't be alarmed when the {name} is not highlighted :) "
   ]
  },
  {
   "cell_type": "code",
   "execution_count": 49,
   "id": "9676f167",
   "metadata": {},
   "outputs": [
    {
     "name": "stdout",
     "output_type": "stream",
     "text": [
      "Sam is 3 years old.\n"
     ]
    }
   ],
   "source": [
    "name = \"Sam\"\n",
    "age=3\n",
    "print(f'{name} is {age} years old.')"
   ]
  },
  {
   "cell_type": "code",
   "execution_count": 3,
   "id": "4f7d1ac4",
   "metadata": {},
   "outputs": [
    {
     "name": "stdout",
     "output_type": "stream",
     "text": [
      "I'm Dana, and I am 3 years old.\n"
     ]
    }
   ],
   "source": [
    "name = 'Dana'\n",
    "age=3\n",
    "\n",
    "print(f\"I'm {name}, and I am {age} years old.\")"
   ]
  },
  {
   "cell_type": "code",
   "execution_count": 8,
   "id": "112b83c6",
   "metadata": {},
   "outputs": [
    {
     "data": {
      "text/plain": [
       "['I am going to play P', 'rsona 4']"
      ]
     },
     "execution_count": 8,
     "metadata": {},
     "output_type": "execute_result"
    }
   ],
   "source": [
    "\"I am going to play Persona 4\".split(\"e\")"
   ]
  },
  {
   "cell_type": "markdown",
   "id": "7ff35d30",
   "metadata": {},
   "source": [
    "# Older method: Use of modulo's"
   ]
  },
  {
   "cell_type": "code",
   "execution_count": 12,
   "id": "03472fa6",
   "metadata": {},
   "outputs": [
    {
     "name": "stdout",
     "output_type": "stream",
     "text": [
      "I'm going to inject something here\n"
     ]
    }
   ],
   "source": [
    "\n",
    "#Syntax: %s\n",
    "print(\"I'm going to inject %s here\"%'something')"
   ]
  },
  {
   "cell_type": "code",
   "execution_count": 13,
   "id": "69afb8ce",
   "metadata": {},
   "outputs": [
    {
     "name": "stdout",
     "output_type": "stream",
     "text": [
      "My name is Makoto Yuki and I'm the protaganist of Persona 3\n"
     ]
    }
   ],
   "source": [
    "#Can insert multiple modulos\n",
    "print(\"My name is %s %s and I'm the protaganist of %s\" %(\"Makoto\",\"Yuki\",\"Persona 3\"))"
   ]
  },
  {
   "cell_type": "code",
   "execution_count": 15,
   "id": "6a37e6dd",
   "metadata": {},
   "outputs": [
    {
     "name": "stdout",
     "output_type": "stream",
     "text": [
      "My name is Makoto Yuki\n"
     ]
    }
   ],
   "source": [
    "#Passing of variables\n",
    "x, y='Makoto',\"Yuki\"\n",
    "\n",
    "print(\"My name is %s %s\"%(x,y))"
   ]
  },
  {
   "cell_type": "code",
   "execution_count": 23,
   "id": "2d590943",
   "metadata": {},
   "outputs": [
    {
     "name": "stdout",
     "output_type": "stream",
     "text": [
      "My name is \n",
      "Fred\n",
      "My name is '\\nFred'\n"
     ]
    }
   ],
   "source": [
    "#Use of %r - repr() %r and repr() deliver the string representation of the object, including quotation marks and any escape characters.\n",
    "# Use of %s - str()\n",
    "\n",
    "print(\"My name is %s\"%'\\nFred')\n",
    "print(\"My name is %r\"%'\\nFred')"
   ]
  },
  {
   "cell_type": "code",
   "execution_count": 26,
   "id": "e4316701",
   "metadata": {},
   "outputs": [
    {
     "name": "stdout",
     "output_type": "stream",
     "text": [
      "THis number is 3.712\n",
      "This number is 3\n"
     ]
    }
   ],
   "source": [
    "# %d converts what ever it sees into an integer and without rounding. only works with numbers\n",
    "\n",
    "print(\"THis number is %s\"%3.712)\n",
    "#print(\"This number is %d\"%\"32.12\")\n",
    "print(\"This number is %d\"%3.2121)"
   ]
  },
  {
   "cell_type": "code",
   "execution_count": 36,
   "id": "32bb3a9d",
   "metadata": {},
   "outputs": [
    {
     "name": "stdout",
     "output_type": "stream",
     "text": [
      "This number is    11.10\n",
      "This number is 1212.100000\n"
     ]
    }
   ],
   "source": [
    "#%x.y padding and precision of float point numbers\n",
    "print('This number is %8.2f'%11.1)\n",
    "print(\"This number is %1.6f\"%1212.1)"
   ]
  },
  {
   "cell_type": "code",
   "execution_count": 42,
   "id": "9d130ff3",
   "metadata": {},
   "outputs": [
    {
     "name": "stdout",
     "output_type": "stream",
     "text": [
      "This number 12 is rounded off from 12.12, and this is '\\tMaya'\n"
     ]
    }
   ],
   "source": [
    "#You can combine multiple stuff!\n",
    "x=12.12\n",
    "print(\"This number %d is rounded off from %s, and this is %r\"%(x,x,\"\\tMaya\"))"
   ]
  },
  {
   "cell_type": "code",
   "execution_count": null,
   "id": "6506fed0",
   "metadata": {},
   "outputs": [],
   "source": []
  }
 ],
 "metadata": {
  "kernelspec": {
   "display_name": "Python 3",
   "language": "python",
   "name": "python3"
  },
  "language_info": {
   "codemirror_mode": {
    "name": "ipython",
    "version": 3
   },
   "file_extension": ".py",
   "mimetype": "text/x-python",
   "name": "python",
   "nbconvert_exporter": "python",
   "pygments_lexer": "ipython3",
   "version": "3.8.8"
  }
 },
 "nbformat": 4,
 "nbformat_minor": 5
}
