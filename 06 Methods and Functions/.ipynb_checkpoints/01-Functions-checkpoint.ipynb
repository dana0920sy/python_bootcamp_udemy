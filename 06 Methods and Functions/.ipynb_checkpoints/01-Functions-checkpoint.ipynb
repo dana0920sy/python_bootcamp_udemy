{
 "cells": [
  {
   "cell_type": "code",
   "execution_count": 2,
   "id": "068ee2d8",
   "metadata": {},
   "outputs": [
    {
     "name": "stdout",
     "output_type": "stream",
     "text": [
      "Help on built-in function insert:\n",
      "\n",
      "insert(index, object, /) method of builtins.list instance\n",
      "    Insert object before index.\n",
      "\n"
     ]
    }
   ],
   "source": [
    "#METHODS AND HELP FUNCTION\n",
    "\n",
    "mylist=[1,2,3,4]\n",
    "\n",
    "help(mylist.insert)"
   ]
  },
  {
   "cell_type": "markdown",
   "id": "72b6652e",
   "metadata": {},
   "source": [
    "# Functions\n",
    "\n",
    "Creates clean repeatable code instead of writing code over and over again."
   ]
  },
  {
   "cell_type": "markdown",
   "id": "2e57ba85",
   "metadata": {},
   "source": [
    "Important to practice and combine everything we've learned so far"
   ]
  },
  {
   "cell_type": "code",
   "execution_count": 4,
   "id": "d745ee75",
   "metadata": {},
   "outputs": [
    {
     "name": "stdout",
     "output_type": "stream",
     "text": [
      "Hello\n"
     ]
    }
   ],
   "source": [
    "#Sample of function 1\n",
    "def ex1_function():\n",
    "    print('Hello')\n",
    "ex1_function()"
   ]
  },
  {
   "cell_type": "code",
   "execution_count": 5,
   "id": "6855bd8b",
   "metadata": {},
   "outputs": [
    {
     "name": "stdout",
     "output_type": "stream",
     "text": [
      "Hello Dana\n"
     ]
    }
   ],
   "source": [
    "#Sample function 2 with passing in arguments\n",
    "def ex2_function(name):\n",
    "    print('Hello '+ name)\n",
    "ex2_function(\"Dana\")"
   ]
  },
  {
   "cell_type": "code",
   "execution_count": 6,
   "id": "f90fa337",
   "metadata": {},
   "outputs": [
    {
     "data": {
      "text/plain": [
       "3"
      ]
     },
     "execution_count": 6,
     "metadata": {},
     "output_type": "execute_result"
    }
   ],
   "source": [
    "#Sample function 3 return \n",
    "\n",
    "def ex3_function(a,b):\n",
    "    return a+b\n",
    "\n",
    "result = ex3_function(1,2)\n",
    "result"
   ]
  },
  {
   "cell_type": "markdown",
   "id": "b6b56cfa",
   "metadata": {},
   "source": [
    "# Basics of Python Functions"
   ]
  },
  {
   "cell_type": "code",
   "execution_count": 14,
   "id": "5f6fc59c",
   "metadata": {},
   "outputs": [],
   "source": [
    "# Example 1\n",
    "\n",
    "def say_hello():\n",
    "    print('hello\\nare\\nyou')"
   ]
  },
  {
   "cell_type": "code",
   "execution_count": 15,
   "id": "f0e12f50",
   "metadata": {},
   "outputs": [
    {
     "name": "stdout",
     "output_type": "stream",
     "text": [
      "hello\n",
      "are\n",
      "you\n"
     ]
    }
   ],
   "source": [
    "say_hello()"
   ]
  },
  {
   "cell_type": "code",
   "execution_count": 21,
   "id": "cd642610",
   "metadata": {},
   "outputs": [],
   "source": [
    "# Example 2 \n",
    "\n",
    "def say_hello(name):\n",
    "    print(f'Hello {name}.')"
   ]
  },
  {
   "cell_type": "code",
   "execution_count": 22,
   "id": "523df5f7",
   "metadata": {},
   "outputs": [
    {
     "name": "stdout",
     "output_type": "stream",
     "text": [
      "Hello Dana.\n"
     ]
    }
   ],
   "source": [
    "say_hello(\"Dana\")"
   ]
  },
  {
   "cell_type": "code",
   "execution_count": 23,
   "id": "a581913d",
   "metadata": {},
   "outputs": [
    {
     "name": "stdout",
     "output_type": "stream",
     "text": [
      "Hello Default\n"
     ]
    }
   ],
   "source": [
    "#Use of default values if you don't want to pass in an argument. Use the equals sign when defining the function\n",
    "\n",
    "def say_hello(name=\"Default\"):\n",
    "    print('Hello {}'.format(name))\n",
    "    \n",
    "say_hello()"
   ]
  },
  {
   "cell_type": "code",
   "execution_count": 29,
   "id": "d926d531",
   "metadata": {},
   "outputs": [
    {
     "data": {
      "text/plain": [
       "13"
      ]
     },
     "execution_count": 29,
     "metadata": {},
     "output_type": "execute_result"
    }
   ],
   "source": [
    "# Example 3: Use of return keyword\n",
    "# Return vs Print - returns allows you to store or save the result into a variable outside of the function - global\n",
    "# If you define a variable with a print result you will get none type\n",
    "def add_num(num1=0, num2=0):\n",
    "    return num1 + num2\n",
    "\n",
    "result=add_num(1,12)\n",
    "result"
   ]
  },
  {
   "cell_type": "code",
   "execution_count": 35,
   "id": "edaec01c",
   "metadata": {},
   "outputs": [
    {
     "name": "stdout",
     "output_type": "stream",
     "text": [
      "30\n"
     ]
    }
   ],
   "source": [
    "# Combining return and print - not too common\n",
    "#Print is useful for debugging\n",
    "\n",
    "def myfunc(a,b):\n",
    "    print(a+b)\n",
    "    return a+b\n",
    "\n",
    "result = myfunc(10,20)"
   ]
  },
  {
   "cell_type": "code",
   "execution_count": 32,
   "id": "b0130f8c",
   "metadata": {},
   "outputs": [
    {
     "data": {
      "text/plain": [
       "30"
      ]
     },
     "execution_count": 32,
     "metadata": {},
     "output_type": "execute_result"
    }
   ],
   "source": [
    "result"
   ]
  },
  {
   "cell_type": "code",
   "execution_count": 37,
   "id": "0b8f776c",
   "metadata": {},
   "outputs": [],
   "source": [
    "# Handling input of types - Python is dynamic enough but it will leave you room to get bugs in your code\n",
    "# Input parameter?"
   ]
  },
  {
   "cell_type": "markdown",
   "id": "e127206c",
   "metadata": {},
   "source": [
    "# Logic with Python Functions"
   ]
  },
  {
   "cell_type": "code",
   "execution_count": 43,
   "id": "503e8555",
   "metadata": {},
   "outputs": [
    {
     "name": "stdout",
     "output_type": "stream",
     "text": [
      "Enter a number:1012\n"
     ]
    },
    {
     "data": {
      "text/plain": [
       "True"
      ]
     },
     "execution_count": 43,
     "metadata": {},
     "output_type": "execute_result"
    }
   ],
   "source": [
    "my_num=input(\"Enter a number:\")\n",
    "my_num=int(my_num)\n",
    "\n",
    "def even_number_check(x):\n",
    "    if x % 2 == 0:\n",
    "        return True\n",
    "    else:\n",
    "        return False\n",
    "\n",
    "even_number_check(my_num)\n"
   ]
  },
  {
   "cell_type": "code",
   "execution_count": 49,
   "id": "b3f34fd0",
   "metadata": {},
   "outputs": [
    {
     "data": {
      "text/plain": [
       "False"
      ]
     },
     "execution_count": 49,
     "metadata": {},
     "output_type": "execute_result"
    }
   ],
   "source": [
    "\n",
    "#More efficient way! You can just spell out the return \n",
    "\n",
    "def even_num_check(x):\n",
    "    return x%2 == 0\n",
    "\n",
    "even_num_check(1123)"
   ]
  },
  {
   "cell_type": "code",
   "execution_count": 61,
   "id": "daa697d4",
   "metadata": {},
   "outputs": [
    {
     "data": {
      "text/plain": [
       "False"
      ]
     },
     "execution_count": 61,
     "metadata": {},
     "output_type": "execute_result"
    }
   ],
   "source": [
    "#Return true if any number is even inside a list\n",
    "\n",
    "def check_even_list(num_list):\n",
    "    for number in num_list:\n",
    "        if number % 2 == 0:\n",
    "            return True\n",
    "        else:\n",
    "            pass\n",
    "    return False\n",
    "check_even_list([1,3,5])"
   ]
  },
  {
   "cell_type": "code",
   "execution_count": 62,
   "id": "0fd24c0e",
   "metadata": {},
   "outputs": [
    {
     "data": {
      "text/plain": [
       "True"
      ]
     },
     "execution_count": 62,
     "metadata": {},
     "output_type": "execute_result"
    }
   ],
   "source": [
    "check_even_list([2,1,1,1])"
   ]
  },
  {
   "cell_type": "code",
   "execution_count": 63,
   "id": "ab82de8e",
   "metadata": {},
   "outputs": [
    {
     "data": {
      "text/plain": [
       "True"
      ]
     },
     "execution_count": 63,
     "metadata": {},
     "output_type": "execute_result"
    }
   ],
   "source": [
    "check_even_list([1,1,1,1,2])"
   ]
  },
  {
   "cell_type": "code",
   "execution_count": 68,
   "id": "90f31fcd",
   "metadata": {},
   "outputs": [
    {
     "data": {
      "text/plain": [
       "[0, 2, 4, 6, 8]"
      ]
     },
     "execution_count": 68,
     "metadata": {},
     "output_type": "execute_result"
    }
   ],
   "source": [
    "# Return all even numbers in the list\n",
    "\n",
    "def return_even_numbers(num_list):\n",
    "    even_numbers=[]\n",
    "    for number in num_list:\n",
    "        if number % 2 == 0:\n",
    "            even_numbers.append(number)\n",
    "        else:\n",
    "            pass\n",
    "    return even_numbers\n",
    "\n",
    "return_even_numbers(list(range(0,10)))"
   ]
  },
  {
   "cell_type": "code",
   "execution_count": 71,
   "id": "81f9482d",
   "metadata": {},
   "outputs": [
    {
     "data": {
      "text/plain": [
       "[2, 4]"
      ]
     },
     "execution_count": 71,
     "metadata": {},
     "output_type": "execute_result"
    }
   ],
   "source": [
    "return_even_numbers([1,2,3,4,5])"
   ]
  },
  {
   "cell_type": "markdown",
   "id": "a23792c0",
   "metadata": {},
   "source": [
    "# Tuple Unpacking with Python Functions"
   ]
  },
  {
   "cell_type": "code",
   "execution_count": 77,
   "id": "4d45461d",
   "metadata": {},
   "outputs": [
    {
     "name": "stdout",
     "output_type": "stream",
     "text": [
      "220.0\n",
      "440.0\n",
      "110.0\n"
     ]
    }
   ],
   "source": [
    "# Example\n",
    "\n",
    "stock_prices=[('APPL',200),(\"GOOGLE\",400),('MSFT',100)]\n",
    "\n",
    "for ticker, price in stock_prices:\n",
    "    print(price+(0.1*price))"
   ]
  },
  {
   "cell_type": "code",
   "execution_count": 89,
   "id": "7d57727a",
   "metadata": {},
   "outputs": [],
   "source": [
    "# Making a function out of tuple unpacking\n",
    "\n",
    "work_hours = [('Abby',100),('Billy',2000),('Cassie',800)]"
   ]
  },
  {
   "cell_type": "code",
   "execution_count": 92,
   "id": "d9e2a33e",
   "metadata": {},
   "outputs": [],
   "source": [
    "# Find the employee who has worked the most hours\n",
    "\n",
    "def emp_month(my_list):\n",
    "    current_max = 0\n",
    "    employee_month = \"\"\n",
    "    for emp, hour in my_list:\n",
    "        if hour > current_max:\n",
    "            current_max = hour\n",
    "            employee_month = emp\n",
    "        else:\n",
    "            pass\n",
    "    return (employee_month, current_max)\n",
    "\n",
    "result = emp_month(work_hours)"
   ]
  },
  {
   "cell_type": "code",
   "execution_count": 94,
   "id": "7d730576",
   "metadata": {},
   "outputs": [],
   "source": [
    "name, hours = emp_month(work_hours) # You can assign variables separately in tuples "
   ]
  },
  {
   "cell_type": "code",
   "execution_count": 95,
   "id": "e9a0e1dd",
   "metadata": {},
   "outputs": [
    {
     "data": {
      "text/plain": [
       "'Billy'"
      ]
     },
     "execution_count": 95,
     "metadata": {},
     "output_type": "execute_result"
    }
   ],
   "source": [
    "name"
   ]
  },
  {
   "cell_type": "code",
   "execution_count": 96,
   "id": "c3a254c2",
   "metadata": {},
   "outputs": [
    {
     "data": {
      "text/plain": [
       "2000"
      ]
     },
     "execution_count": 96,
     "metadata": {},
     "output_type": "execute_result"
    }
   ],
   "source": [
    "hours"
   ]
  },
  {
   "cell_type": "markdown",
   "id": "b8146a6a",
   "metadata": {},
   "source": [
    "# Interactions between Python Functions"
   ]
  },
  {
   "cell_type": "code",
   "execution_count": 97,
   "id": "e61780a9",
   "metadata": {},
   "outputs": [],
   "source": [
    "# Guess the ball\n",
    "\n",
    "example = [1,2,3,4,5,6,7,8,9]\n",
    "from random import shuffle"
   ]
  },
  {
   "cell_type": "code",
   "execution_count": 100,
   "id": "307cd583",
   "metadata": {},
   "outputs": [],
   "source": [
    "shuffle(example)"
   ]
  },
  {
   "cell_type": "code",
   "execution_count": 101,
   "id": "156c95ba",
   "metadata": {},
   "outputs": [
    {
     "data": {
      "text/plain": [
       "[9, 7, 1, 6, 2, 8, 4, 5, 3]"
      ]
     },
     "execution_count": 101,
     "metadata": {},
     "output_type": "execute_result"
    }
   ],
   "source": [
    "example"
   ]
  },
  {
   "cell_type": "code",
   "execution_count": 102,
   "id": "730e8aa9",
   "metadata": {},
   "outputs": [
    {
     "data": {
      "text/plain": [
       "[2, 6, 7, 9, 8, 1, 5, 3, 4]"
      ]
     },
     "execution_count": 102,
     "metadata": {},
     "output_type": "execute_result"
    }
   ],
   "source": [
    "# Let's make shuffle function that it will return the shuffled list since shuffle itself doesn't return anything\n",
    "def shuffle_list(mylist):\n",
    "    shuffle(mylist)\n",
    "    return mylist\n",
    "\n",
    "shuffle_list(example)"
   ]
  },
  {
   "cell_type": "code",
   "execution_count": 103,
   "id": "19c482ab",
   "metadata": {},
   "outputs": [
    {
     "data": {
      "text/plain": [
       "['o', '', '']"
      ]
     },
     "execution_count": 103,
     "metadata": {},
     "output_type": "execute_result"
    }
   ],
   "source": [
    "\n",
    "mylist=['','o','']\n",
    "\n",
    "shuffle_list(mylist)"
   ]
  },
  {
   "cell_type": "code",
   "execution_count": 118,
   "id": "8ac0d724",
   "metadata": {},
   "outputs": [],
   "source": [
    "#Let's define a function to get the player's guest\n",
    "\n",
    "def player_guess():\n",
    "    guess=\"\"\n",
    "    while guess not in ['0','1','2']: #Keep asking for guess if the guess is not within the list\n",
    "        guess = input(\"Pick a number: 0,1 or 2: \")\n",
    "    return int(guess)"
   ]
  },
  {
   "cell_type": "code",
   "execution_count": 112,
   "id": "7190d277",
   "metadata": {},
   "outputs": [
    {
     "name": "stdout",
     "output_type": "stream",
     "text": [
      "PIck a number: 0,1 or 21\n"
     ]
    }
   ],
   "source": [
    "my_index = player_guess()"
   ]
  },
  {
   "cell_type": "code",
   "execution_count": 113,
   "id": "2e0fe48c",
   "metadata": {},
   "outputs": [
    {
     "data": {
      "text/plain": [
       "1"
      ]
     },
     "execution_count": 113,
     "metadata": {},
     "output_type": "execute_result"
    }
   ],
   "source": [
    "my_index"
   ]
  },
  {
   "cell_type": "code",
   "execution_count": 120,
   "id": "3e984c22",
   "metadata": {},
   "outputs": [],
   "source": [
    "def check_guess(mylist, guess):\n",
    "    if mylist[guess]=='O':\n",
    "        print(\"Correct!\")\n",
    "    else:\n",
    "        print(\"Wrong guess!\")\n",
    "        print(mylist)"
   ]
  },
  {
   "cell_type": "code",
   "execution_count": 124,
   "id": "7cbbe117",
   "metadata": {},
   "outputs": [
    {
     "name": "stdout",
     "output_type": "stream",
     "text": [
      "Pick a number: 0,1 or 2: 9\n",
      "Pick a number: 0,1 or 2: 9\n",
      "Pick a number: 0,1 or 2: 0\n",
      "Correct!\n"
     ]
    }
   ],
   "source": [
    "# Initial List\n",
    "mylist=['','O','']\n",
    "# Shuffle List\n",
    "mixed_up_list = shuffle_list(mylist)\n",
    "# User Guess\n",
    "guess = player_guess()\n",
    "# Check Guess\n",
    "check_guess(mixed_up_list,guess)"
   ]
  },
  {
   "cell_type": "markdown",
   "id": "d053d89e",
   "metadata": {},
   "source": [
    "# * args and ** kwargs"
   ]
  },
  {
   "cell_type": "code",
   "execution_count": 125,
   "id": "6573f6ef",
   "metadata": {},
   "outputs": [],
   "source": [
    "def myfunc(a, b):\n",
    "    # returns  5 % of sum of a and b\n",
    "    return sum((a,b))*0.05"
   ]
  },
  {
   "cell_type": "code",
   "execution_count": 126,
   "id": "3b418f5c",
   "metadata": {},
   "outputs": [
    {
     "data": {
      "text/plain": [
       "5.0"
      ]
     },
     "execution_count": 126,
     "metadata": {},
     "output_type": "execute_result"
    }
   ],
   "source": [
    "myfunc(40,60)"
   ]
  },
  {
   "cell_type": "code",
   "execution_count": 127,
   "id": "57cbce91",
   "metadata": {},
   "outputs": [],
   "source": [
    "def myfunc(*args):\n",
    "    return sum(args)*0.05"
   ]
  },
  {
   "cell_type": "code",
   "execution_count": 129,
   "id": "63b908fa",
   "metadata": {},
   "outputs": [
    {
     "data": {
      "text/plain": [
       "16.0"
      ]
     },
     "execution_count": 129,
     "metadata": {},
     "output_type": "execute_result"
    }
   ],
   "source": [
    "myfunc(40,60,100,120)"
   ]
  },
  {
   "cell_type": "code",
   "execution_count": 134,
   "id": "17fd8b2c",
   "metadata": {},
   "outputs": [],
   "source": [
    "def myfunc(**kwargs):\n",
    "    print(kwargs)\n",
    "    if 'fruit' in kwargs:\n",
    "        print('My fruit of choice is {}'.format(kwargs['fruit']))\n",
    "    else:\n",
    "        print(\"I did not find any fruit here\")"
   ]
  },
  {
   "cell_type": "code",
   "execution_count": 135,
   "id": "f34aa209",
   "metadata": {},
   "outputs": [
    {
     "name": "stdout",
     "output_type": "stream",
     "text": [
      "{'fruit': 'apple', 'veggie': 'lettuce', 'drink': 'Royal'}\n",
      "My fruit of choice is apple\n"
     ]
    }
   ],
   "source": [
    "myfunc(fruit='apple',veggie='lettuce',drink='Royal')"
   ]
  },
  {
   "cell_type": "code",
   "execution_count": 146,
   "id": "3c736aa9",
   "metadata": {},
   "outputs": [],
   "source": [
    "#Use of args and kwargs in combintation\n",
    "\n",
    "def my_func(*args, **kwargs):\n",
    "    print(\"I would like {} {}\".format(args[2],kwargs['fruit']))\n",
    "    print(args)\n",
    "    print(kwargs)"
   ]
  },
  {
   "cell_type": "code",
   "execution_count": 148,
   "id": "07521079",
   "metadata": {},
   "outputs": [
    {
     "name": "stdout",
     "output_type": "stream",
     "text": [
      "I would like 30 apples\n",
      "(10, 20, 30)\n",
      "{'food': 'fishballs', 'fruit': 'apples', 'veggies': 'lettuce'}\n"
     ]
    }
   ],
   "source": [
    "my_func(10,20,30,food='fishballs',fruit='apples',veggies='lettuce') \n",
    "# pass in the args and kwargs in that order. Has to be in the same order you prescribe!"
   ]
  },
  {
   "cell_type": "code",
   "execution_count": 199,
   "id": "01dfa28e",
   "metadata": {},
   "outputs": [],
   "source": [
    "def my_func(my_string):\n",
    "    length=len(my_string)\n",
    "    my_list=[]\n",
    "    for i in range (0,length):\n",
    "        if i % 2!=0:\n",
    "            my_list.append(my_string[i].upper())\n",
    "        else:\n",
    "            my_list.append(my_string[i].lower())\n",
    "    return \"\".join(my_list)"
   ]
  },
  {
   "cell_type": "code",
   "execution_count": 200,
   "id": "a79e3034",
   "metadata": {},
   "outputs": [
    {
     "data": {
      "text/plain": [
       "'aPpLe'"
      ]
     },
     "execution_count": 200,
     "metadata": {},
     "output_type": "execute_result"
    }
   ],
   "source": [
    "my_func(\"Apple\")"
   ]
  },
  {
   "cell_type": "code",
   "execution_count": null,
   "id": "00591045",
   "metadata": {},
   "outputs": [],
   "source": []
  }
 ],
 "metadata": {
  "kernelspec": {
   "display_name": "Python 3",
   "language": "python",
   "name": "python3"
  },
  "language_info": {
   "codemirror_mode": {
    "name": "ipython",
    "version": 3
   },
   "file_extension": ".py",
   "mimetype": "text/x-python",
   "name": "python",
   "nbconvert_exporter": "python",
   "pygments_lexer": "ipython3",
   "version": "3.8.8"
  }
 },
 "nbformat": 4,
 "nbformat_minor": 5
}
