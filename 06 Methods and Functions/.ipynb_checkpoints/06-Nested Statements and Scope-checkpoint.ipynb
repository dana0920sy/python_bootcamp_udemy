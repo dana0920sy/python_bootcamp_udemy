{
 "cells": [
  {
   "cell_type": "code",
   "execution_count": 1,
   "id": "1157bd0a",
   "metadata": {},
   "outputs": [],
   "source": [
    "# Scope allows Python to have a set of rules\n",
    "# L E G B rules - the pemdas of python\n",
    "# Local - names assigned within a function inside def or lambda - not globally declared\n",
    "# Enclosing Function Locals - function with a function\n",
    "# Global - top level of a module file or declared glbal in def within the file\n",
    "# Built in - open, range, Syntax Error, - pre-assigned built in name module"
   ]
  },
  {
   "cell_type": "code",
   "execution_count": 2,
   "id": "98cb964a",
   "metadata": {},
   "outputs": [],
   "source": [
    "#Local: num is local to the lambda expression\n",
    "\n",
    "#lambda num:num**2"
   ]
  },
  {
   "cell_type": "code",
   "execution_count": 9,
   "id": "42fddba1",
   "metadata": {},
   "outputs": [],
   "source": [
    "name = 'THIS IS A GLOBAL STRING'\n",
    "\n",
    "#Function called greet that sets name = Sammy\n",
    "def greet():\n",
    "    #name = 'Sammy'\n",
    "    \n",
    "    #Function defined within greet(). Prints out hello name\n",
    "    #Note that name is defined enclosed then name is local to the cell\n",
    "    def hello():\n",
    "        print('Hello '+name)\n",
    "    #Looks at local name space - variable defined within the function\n",
    "        #It lools like nothing is defined within hello()\n",
    "    #Let's lok at enclosing function locals\n",
    "        #It looks like greet() has a variable called name=\"Sammy\"\n",
    "        #Python decides to use this\n",
    "    #Commenting out sammy..what happens?\n",
    "        # Python looks for the global variable - defined outside of the function and the top\n",
    "        # Python chooses name = this is a global string\n",
    "    \n",
    "    hello()"
   ]
  },
  {
   "cell_type": "code",
   "execution_count": 10,
   "id": "a4dcb001",
   "metadata": {},
   "outputs": [
    {
     "name": "stdout",
     "output_type": "stream",
     "text": [
      "Hello THIS IS A GLOBAL STRING\n"
     ]
    }
   ],
   "source": [
    "greet()"
   ]
  },
  {
   "cell_type": "code",
   "execution_count": 13,
   "id": "ea65bc37",
   "metadata": {},
   "outputs": [],
   "source": [
    "#GLOBAL\n",
    "name=\"THIS IS A GLOBAL STRING\"\n",
    "def greet():\n",
    "    #ENCLOSING\n",
    "    name=\"Sammy\"\n",
    "    def hello():\n",
    "        #LOCAL\n",
    "        name = \"I'M A LOCAL\"\n",
    "        print(\"Hello \"+name)\n",
    "    hello()"
   ]
  },
  {
   "cell_type": "code",
   "execution_count": 14,
   "id": "3f1849fe",
   "metadata": {},
   "outputs": [
    {
     "name": "stdout",
     "output_type": "stream",
     "text": [
      "Hello I'M A LOCAL\n"
     ]
    }
   ],
   "source": [
    "greet()"
   ]
  },
  {
   "cell_type": "code",
   "execution_count": 36,
   "id": "b1b13a18",
   "metadata": {},
   "outputs": [],
   "source": [
    "#GLOBAL \n",
    "x = 50\n",
    "\n",
    "def printer():\n",
    "    global x #Python will jump to the global level and it will affect the global x\n",
    "    print(f\"X is {x}\")\n",
    "    #Local reassignment on a global variable. It will affect 50\n",
    "    x=200\n",
    "    print(f'I JUST LOCALLY CHANGED GLOBAL X TO {x}')"
   ]
  },
  {
   "cell_type": "code",
   "execution_count": 37,
   "id": "0419de68",
   "metadata": {},
   "outputs": [
    {
     "name": "stdout",
     "output_type": "stream",
     "text": [
      "50\n"
     ]
    }
   ],
   "source": [
    "print(x)"
   ]
  },
  {
   "cell_type": "code",
   "execution_count": 38,
   "id": "dbacfed5",
   "metadata": {
    "scrolled": false
   },
   "outputs": [
    {
     "name": "stdout",
     "output_type": "stream",
     "text": [
      "X is 50\n",
      "I JUST LOCALLY CHANGED GLOBAL X TO 200\n"
     ]
    }
   ],
   "source": [
    "printer()"
   ]
  },
  {
   "cell_type": "code",
   "execution_count": 30,
   "id": "487493db",
   "metadata": {},
   "outputs": [
    {
     "name": "stdout",
     "output_type": "stream",
     "text": [
      "200\n"
     ]
    }
   ],
   "source": [
    "print(x)\n",
    "#Reassignment is only happening in the local name space of the function. Won't affect HIGHER scope"
   ]
  },
  {
   "cell_type": "code",
   "execution_count": 44,
   "id": "26afe4ca",
   "metadata": {},
   "outputs": [
    {
     "name": "stdout",
     "output_type": "stream",
     "text": [
      "X is 50\n",
      "I just changed global x to NEW VALUE\n"
     ]
    }
   ],
   "source": [
    "\n",
    "#Better way to go instead of declaring things globally. Is to explicitly do the reassignment by passing in\n",
    "#the actual argument func(argument)\n",
    "\n",
    "#Global x\n",
    "\n",
    "x=50\n",
    "\n",
    "def func(y):\n",
    "    print(f'X is {y}')\n",
    "    # Local reassignment on a global variable\n",
    "    y = \"NEW VALUE\"\n",
    "    print(f'I just changed global x to {y}')\n",
    "    return y\n",
    "\n",
    "x=func(x) # assign the output to the original x "
   ]
  },
  {
   "cell_type": "code",
   "execution_count": 45,
   "id": "df08fae8",
   "metadata": {},
   "outputs": [
    {
     "data": {
      "text/plain": [
       "'NEW VALUE'"
      ]
     },
     "execution_count": 45,
     "metadata": {},
     "output_type": "execute_result"
    }
   ],
   "source": [
    "x"
   ]
  },
  {
   "cell_type": "code",
   "execution_count": null,
   "id": "160ed509",
   "metadata": {},
   "outputs": [],
   "source": []
  }
 ],
 "metadata": {
  "kernelspec": {
   "display_name": "Python 3",
   "language": "python",
   "name": "python3"
  },
  "language_info": {
   "codemirror_mode": {
    "name": "ipython",
    "version": 3
   },
   "file_extension": ".py",
   "mimetype": "text/x-python",
   "name": "python",
   "nbconvert_exporter": "python",
   "pygments_lexer": "ipython3",
   "version": "3.8.8"
  }
 },
 "nbformat": 4,
 "nbformat_minor": 5
}
