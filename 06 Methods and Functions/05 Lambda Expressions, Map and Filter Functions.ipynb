{
 "cells": [
  {
   "cell_type": "code",
   "execution_count": 1,
   "id": "6b77cd03",
   "metadata": {},
   "outputs": [],
   "source": [
    "#Map Fuction\n",
    "\n",
    "#Builtin function\n",
    "\n",
    "def square(num):\n",
    "    return num**2"
   ]
  },
  {
   "cell_type": "code",
   "execution_count": 2,
   "id": "8d3125ec",
   "metadata": {},
   "outputs": [
    {
     "data": {
      "text/plain": [
       "<map at 0x7f87d8f98580>"
      ]
     },
     "execution_count": 2,
     "metadata": {},
     "output_type": "execute_result"
    }
   ],
   "source": [
    "my_nums=[1,2,3,4,5]\n",
    "\n",
    "#Let us apply the square function in every single number in nums list\n",
    "#use map function to avoid using for loop\n",
    "#map allows us to pass in a function and map to every single item in your data structure\n",
    "#SYNTAX: map(func, iterable)\n",
    "map(square,my_nums)"
   ]
  },
  {
   "cell_type": "code",
   "execution_count": 3,
   "id": "4d68b5aa",
   "metadata": {},
   "outputs": [
    {
     "name": "stdout",
     "output_type": "stream",
     "text": [
      "1\n",
      "4\n",
      "9\n",
      "16\n",
      "25\n"
     ]
    }
   ],
   "source": [
    "#How do you execute?\n",
    "\n",
    "for item in map(square, my_nums):\n",
    "    print(item)"
   ]
  },
  {
   "cell_type": "code",
   "execution_count": 4,
   "id": "824d4941",
   "metadata": {},
   "outputs": [
    {
     "data": {
      "text/plain": [
       "[1, 4, 9, 16, 25]"
      ]
     },
     "execution_count": 4,
     "metadata": {},
     "output_type": "execute_result"
    }
   ],
   "source": [
    "#You can call in list function instead of printing\n",
    "list(map(square,my_nums))"
   ]
  },
  {
   "cell_type": "code",
   "execution_count": 6,
   "id": "6fc38537",
   "metadata": {},
   "outputs": [
    {
     "data": {
      "text/plain": [
       "['EVEN', 'E', 'S']"
      ]
     },
     "execution_count": 6,
     "metadata": {},
     "output_type": "execute_result"
    }
   ],
   "source": [
    "#Another example\n",
    "\n",
    "def splier(mystring):\n",
    "    if len(mystring)%2==0:\n",
    "        return \"EVEN\"\n",
    "    else:\n",
    "        return mystring[0]\n",
    "\n",
    "names=[\"Andy\",\"Eve\",\"Sally\"]\n",
    "\n",
    "list(map(splier,names))"
   ]
  },
  {
   "cell_type": "code",
   "execution_count": 7,
   "id": "5b74251f",
   "metadata": {},
   "outputs": [],
   "source": [
    "#HOW ABOUT FILTER FUNCTIONS\n",
    "def check_even(num):\n",
    "    return num%2==0"
   ]
  },
  {
   "cell_type": "code",
   "execution_count": 9,
   "id": "7b0b9620",
   "metadata": {},
   "outputs": [
    {
     "data": {
      "text/plain": [
       "[2, 4, 6]"
      ]
     },
     "execution_count": 9,
     "metadata": {},
     "output_type": "execute_result"
    }
   ],
   "source": [
    "my_nums=[1,2,3,4,5,6]\n",
    "list(filter(check_even,my_nums))"
   ]
  },
  {
   "cell_type": "code",
   "execution_count": 10,
   "id": "9498c8d6",
   "metadata": {},
   "outputs": [],
   "source": [
    "#So, what's a lambda expression\n",
    "#Let's turn this function into a lambda expression\n",
    "def square(num):\n",
    "    return num**2"
   ]
  },
  {
   "cell_type": "code",
   "execution_count": 11,
   "id": "d3527258",
   "metadata": {},
   "outputs": [
    {
     "data": {
      "text/plain": [
       "4"
      ]
     },
     "execution_count": 11,
     "metadata": {},
     "output_type": "execute_result"
    }
   ],
   "source": [
    "square(2)"
   ]
  },
  {
   "cell_type": "code",
   "execution_count": 12,
   "id": "59e86c12",
   "metadata": {},
   "outputs": [
    {
     "data": {
      "text/plain": [
       "[1, 4, 9, 16, 25]"
      ]
     },
     "execution_count": 12,
     "metadata": {},
     "output_type": "execute_result"
    }
   ],
   "source": [
    "#Conversion of square(num) into a lambda expression\n",
    "#Anonymous function that will only be used as a one-off\n",
    "#We don't have to call it\n",
    "# lambda x: return x**2 --> function or calculation you want to run\n",
    "#Leverage this lambda expression with map and filter. \n",
    "#This allows us to save space when writing code instead of defining functions over and over\n",
    "\n",
    "list(map(lambda num: num**2,[1,2,3,4,5]))"
   ]
  },
  {
   "cell_type": "code",
   "execution_count": 14,
   "id": "c1490e61",
   "metadata": {},
   "outputs": [
    {
     "data": {
      "text/plain": [
       "[2, 4, 6]"
      ]
     },
     "execution_count": 14,
     "metadata": {},
     "output_type": "execute_result"
    }
   ],
   "source": [
    "list(filter(lambda num: num%2==0,[1,2,3,4,5,6]))"
   ]
  },
  {
   "cell_type": "code",
   "execution_count": null,
   "id": "4c56a66f",
   "metadata": {},
   "outputs": [],
   "source": []
  }
 ],
 "metadata": {
  "kernelspec": {
   "display_name": "Python 3",
   "language": "python",
   "name": "python3"
  },
  "language_info": {
   "codemirror_mode": {
    "name": "ipython",
    "version": 3
   },
   "file_extension": ".py",
   "mimetype": "text/x-python",
   "name": "python",
   "nbconvert_exporter": "python",
   "pygments_lexer": "ipython3",
   "version": "3.8.8"
  }
 },
 "nbformat": 4,
 "nbformat_minor": 5
}
