{
 "cells": [
  {
   "cell_type": "code",
   "execution_count": 4,
   "id": "ee1b95b7",
   "metadata": {},
   "outputs": [
    {
     "data": {
      "text/plain": [
       "False"
      ]
     },
     "execution_count": 4,
     "metadata": {},
     "output_type": "execute_result"
    }
   ],
   "source": [
    "#Example of chaining\n",
    "1 < 2 > 3 "
   ]
  },
  {
   "cell_type": "code",
   "execution_count": 5,
   "id": "6b3d91b1",
   "metadata": {},
   "outputs": [
    {
     "data": {
      "text/plain": [
       "False"
      ]
     },
     "execution_count": 5,
     "metadata": {},
     "output_type": "execute_result"
    }
   ],
   "source": [
    "#Use of logical operators\n",
    "1 < 2 and 2 > 3"
   ]
  },
  {
   "cell_type": "code",
   "execution_count": 9,
   "id": "7d7f6efa",
   "metadata": {},
   "outputs": [
    {
     "data": {
      "text/plain": [
       "True"
      ]
     },
     "execution_count": 9,
     "metadata": {},
     "output_type": "execute_result"
    }
   ],
   "source": [
    "#Readability of code - use of parenthesis\n",
    "(1 < 2) and (3 > 2)"
   ]
  },
  {
   "cell_type": "code",
   "execution_count": 15,
   "id": "5fc81ac1",
   "metadata": {},
   "outputs": [
    {
     "data": {
      "text/plain": [
       "False"
      ]
     },
     "execution_count": 15,
     "metadata": {},
     "output_type": "execute_result"
    }
   ],
   "source": [
    "#Use of or: Just need 1 of the conditions to be true\n",
    "#Note grouping also matters!\n",
    "((1<2) or (2 > 3)) and (4<4)"
   ]
  },
  {
   "cell_type": "code",
   "execution_count": 16,
   "id": "744012b4",
   "metadata": {},
   "outputs": [
    {
     "data": {
      "text/plain": [
       "True"
      ]
     },
     "execution_count": 16,
     "metadata": {},
     "output_type": "execute_result"
    }
   ],
   "source": [
    "(1<2) or ((2 > 3) and (4<4))"
   ]
  },
  {
   "cell_type": "code",
   "execution_count": 18,
   "id": "21819d33",
   "metadata": {},
   "outputs": [
    {
     "data": {
      "text/plain": [
       "False"
      ]
     },
     "execution_count": 18,
     "metadata": {},
     "output_type": "execute_result"
    }
   ],
   "source": [
    "#Use of not. Returns the opposite boolean\n",
    "not(1==1)\n",
    "not 1==1"
   ]
  },
  {
   "cell_type": "code",
   "execution_count": 19,
   "id": "af307b5b",
   "metadata": {},
   "outputs": [
    {
     "data": {
      "text/plain": [
       "True"
      ]
     },
     "execution_count": 19,
     "metadata": {},
     "output_type": "execute_result"
    }
   ],
   "source": [
    "not 400 > 5000"
   ]
  },
  {
   "cell_type": "code",
   "execution_count": null,
   "id": "e61b2128",
   "metadata": {},
   "outputs": [],
   "source": []
  }
 ],
 "metadata": {
  "kernelspec": {
   "display_name": "Python 3",
   "language": "python",
   "name": "python3"
  },
  "language_info": {
   "codemirror_mode": {
    "name": "ipython",
    "version": 3
   },
   "file_extension": ".py",
   "mimetype": "text/x-python",
   "name": "python",
   "nbconvert_exporter": "python",
   "pygments_lexer": "ipython3",
   "version": "3.8.8"
  }
 },
 "nbformat": 4,
 "nbformat_minor": 5
}
