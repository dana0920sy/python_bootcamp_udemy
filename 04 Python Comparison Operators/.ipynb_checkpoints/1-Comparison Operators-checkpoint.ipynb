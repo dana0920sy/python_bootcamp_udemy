{
 "cells": [
  {
   "cell_type": "code",
   "execution_count": 1,
   "id": "d41aea64",
   "metadata": {},
   "outputs": [
    {
     "data": {
      "text/plain": [
       "True"
      ]
     },
     "execution_count": 1,
     "metadata": {},
     "output_type": "execute_result"
    }
   ],
   "source": [
    "#Double equal signs. If you just use single =, Python will think you will assign a variable\n",
    "2==2"
   ]
  },
  {
   "cell_type": "code",
   "execution_count": 2,
   "id": "e73463ba",
   "metadata": {},
   "outputs": [
    {
     "data": {
      "text/plain": [
       "False"
      ]
     },
     "execution_count": 2,
     "metadata": {},
     "output_type": "execute_result"
    }
   ],
   "source": [
    "2==1"
   ]
  },
  {
   "cell_type": "code",
   "execution_count": 3,
   "id": "eeaa4233",
   "metadata": {},
   "outputs": [
    {
     "data": {
      "text/plain": [
       "True"
      ]
     },
     "execution_count": 3,
     "metadata": {},
     "output_type": "execute_result"
    }
   ],
   "source": [
    "2.00==2"
   ]
  },
  {
   "cell_type": "code",
   "execution_count": 5,
   "id": "2696553a",
   "metadata": {},
   "outputs": [
    {
     "data": {
      "text/plain": [
       "False"
      ]
     },
     "execution_count": 5,
     "metadata": {},
     "output_type": "execute_result"
    }
   ],
   "source": [
    "#== is case sensitive AND type sensitive\n",
    "'BYE'=='bye'"
   ]
  },
  {
   "cell_type": "code",
   "execution_count": 6,
   "id": "f0da9114",
   "metadata": {},
   "outputs": [
    {
     "data": {
      "text/plain": [
       "False"
      ]
     },
     "execution_count": 6,
     "metadata": {},
     "output_type": "execute_result"
    }
   ],
   "source": [
    "'2'==2"
   ]
  },
  {
   "cell_type": "code",
   "execution_count": 7,
   "id": "9b394a1f",
   "metadata": {},
   "outputs": [
    {
     "data": {
      "text/plain": [
       "False"
      ]
     },
     "execution_count": 7,
     "metadata": {},
     "output_type": "execute_result"
    }
   ],
   "source": [
    "#Inequality - !=\n",
    "3!=3"
   ]
  },
  {
   "cell_type": "code",
   "execution_count": 8,
   "id": "9239ffce",
   "metadata": {},
   "outputs": [
    {
     "data": {
      "text/plain": [
       "True"
      ]
     },
     "execution_count": 8,
     "metadata": {},
     "output_type": "execute_result"
    }
   ],
   "source": [
    "4!=5"
   ]
  },
  {
   "cell_type": "code",
   "execution_count": 9,
   "id": "c29ed452",
   "metadata": {},
   "outputs": [
    {
     "data": {
      "text/plain": [
       "True"
      ]
     },
     "execution_count": 9,
     "metadata": {},
     "output_type": "execute_result"
    }
   ],
   "source": [
    "\"BYE\"!='bye'"
   ]
  },
  {
   "cell_type": "code",
   "execution_count": 10,
   "id": "70377bd4",
   "metadata": {},
   "outputs": [
    {
     "data": {
      "text/plain": [
       "True"
      ]
     },
     "execution_count": 10,
     "metadata": {},
     "output_type": "execute_result"
    }
   ],
   "source": [
    "'bye '!='bye' #Note the whitespace character"
   ]
  },
  {
   "cell_type": "code",
   "execution_count": 11,
   "id": "c32cf8a9",
   "metadata": {},
   "outputs": [
    {
     "data": {
      "text/plain": [
       "True"
      ]
     },
     "execution_count": 11,
     "metadata": {},
     "output_type": "execute_result"
    }
   ],
   "source": [
    "#Greater than and less than \n",
    "2>=2"
   ]
  },
  {
   "cell_type": "code",
   "execution_count": 12,
   "id": "9518d46b",
   "metadata": {},
   "outputs": [
    {
     "data": {
      "text/plain": [
       "False"
      ]
     },
     "execution_count": 12,
     "metadata": {},
     "output_type": "execute_result"
    }
   ],
   "source": [
    "4<=1"
   ]
  },
  {
   "cell_type": "code",
   "execution_count": null,
   "id": "8fc573c0",
   "metadata": {},
   "outputs": [],
   "source": []
  }
 ],
 "metadata": {
  "kernelspec": {
   "display_name": "Python 3",
   "language": "python",
   "name": "python3"
  },
  "language_info": {
   "codemirror_mode": {
    "name": "ipython",
    "version": 3
   },
   "file_extension": ".py",
   "mimetype": "text/x-python",
   "name": "python",
   "nbconvert_exporter": "python",
   "pygments_lexer": "ipython3",
   "version": "3.8.8"
  }
 },
 "nbformat": 4,
 "nbformat_minor": 5
}
