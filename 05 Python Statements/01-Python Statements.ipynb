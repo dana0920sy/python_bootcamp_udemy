{
 "cells": [
  {
   "cell_type": "markdown",
   "id": "16569bf5",
   "metadata": {},
   "source": [
    "# If, Elif and Else Statements\n",
    "\n"
   ]
  },
  {
   "cell_type": "code",
   "execution_count": 5,
   "id": "26824417",
   "metadata": {},
   "outputs": [
    {
     "name": "stdout",
     "output_type": "stream",
     "text": [
      "I'm good.\n"
     ]
    }
   ],
   "source": [
    "hungry=False\n",
    "\n",
    "if hungry:\n",
    "    print(\"Feed me!\")\n",
    "else:\n",
    "    print(\"I'm good.\")"
   ]
  },
  {
   "cell_type": "code",
   "execution_count": 9,
   "id": "ab092712",
   "metadata": {},
   "outputs": [
    {
     "name": "stdout",
     "output_type": "stream",
     "text": [
      "I do not know much.\n"
     ]
    }
   ],
   "source": [
    "#Using elif to stack conditions\n",
    "\n",
    "loc = 'Game'\n",
    "\n",
    "if loc == 'Auto Shop':\n",
    "    print(\"Cars are cool\")\n",
    "elif loc==\"Bank\":\n",
    "    print(\"Money is cool\")\n",
    "elif loc==\"Store\":\n",
    "    print(\"Welcome to the store\")\n",
    "else:\n",
    "    print(\"I do not know much.\")"
   ]
  },
  {
   "cell_type": "code",
   "execution_count": 10,
   "id": "378b5bc5",
   "metadata": {},
   "outputs": [
    {
     "name": "stdout",
     "output_type": "stream",
     "text": [
      "Hello Sammy\n"
     ]
    }
   ],
   "source": [
    "#Another example of elif\n",
    "\n",
    "name = \"Sammy\"\n",
    "\n",
    "if name == \"Frankie\":\n",
    "    print(\"Hello Frankie!\")\n",
    "elif name == \"Sammy\":\n",
    "    print(\"Hello Sammy\")\n",
    "else: \n",
    "    print(\"What is your name?\")"
   ]
  },
  {
   "cell_type": "markdown",
   "id": "d8e6b30a",
   "metadata": {},
   "source": [
    "# For Loops / Iterations\n",
    "\n",
    "Iterations - you can iterate over the object over a fixed set of characters"
   ]
  },
  {
   "cell_type": "code",
   "execution_count": 15,
   "id": "6879c39b",
   "metadata": {},
   "outputs": [],
   "source": [
    "mylist=list(range(1,11))\n",
    "\n",
    "#Another way of writing list = [1,2,3,4...,10]"
   ]
  },
  {
   "cell_type": "code",
   "execution_count": 19,
   "id": "d9ac99e9",
   "metadata": {},
   "outputs": [
    {
     "name": "stdout",
     "output_type": "stream",
     "text": [
      "1\n",
      "2\n",
      "3\n",
      "4\n",
      "5\n",
      "6\n",
      "7\n",
      "8\n",
      "9\n",
      "10\n",
      "1\n",
      "2\n",
      "3\n",
      "4\n",
      "5\n",
      "6\n",
      "7\n",
      "8\n",
      "9\n",
      "10\n"
     ]
    }
   ],
   "source": [
    "for m in mylist:\n",
    "    print(m)\n",
    "    \n",
    "for num in mylist:\n",
    "    print(num)\n",
    "    \n",
    "#You can declare any variable you want (m, i, num). Make sure you're consistent though."
   ]
  },
  {
   "cell_type": "code",
   "execution_count": 21,
   "id": "34e9b401",
   "metadata": {},
   "outputs": [
    {
     "name": "stdout",
     "output_type": "stream",
     "text": [
      "Odd number: 1\n",
      "2\n",
      "Odd number: 3\n",
      "4\n",
      "Odd number: 5\n",
      "6\n",
      "Odd number: 7\n",
      "8\n",
      "Odd number: 9\n",
      "10\n"
     ]
    }
   ],
   "source": [
    "#Program that will print the numbers that are even\n",
    "\n",
    "for num in mylist:\n",
    "    #Check for even\n",
    "    if num % 2==0:\n",
    "        print(num)\n",
    "    else:\n",
    "        print(f\"Odd number: {num}\") #Remember f-strings"
   ]
  },
  {
   "cell_type": "code",
   "execution_count": 22,
   "id": "9d196480",
   "metadata": {},
   "outputs": [
    {
     "name": "stdout",
     "output_type": "stream",
     "text": [
      "55\n"
     ]
    }
   ],
   "source": [
    "list_sum = 0\n",
    "\n",
    "for num in mylist:\n",
    "    list_sum = list_sum + num # for every single number in my list, I add the existing list sum and update the number\n",
    "print(list_sum) # Note the indentation"
   ]
  },
  {
   "cell_type": "code",
   "execution_count": 25,
   "id": "a75ae358",
   "metadata": {},
   "outputs": [
    {
     "name": "stdout",
     "output_type": "stream",
     "text": [
      "1\n",
      "3\n",
      "6\n",
      "10\n",
      "15\n",
      "21\n",
      "28\n",
      "36\n",
      "45\n",
      "55\n"
     ]
    }
   ],
   "source": [
    "list_sum=0\n",
    "\n",
    "for num in mylist:\n",
    "    list_sum = list_sum + num # for every single number in my list, I add the existing list sum and update the number\n",
    "    print(list_sum)\n",
    "    \n",
    "#Indentation matters! If you indent in the for loop you can get the running sum"
   ]
  },
  {
   "cell_type": "code",
   "execution_count": 27,
   "id": "0da3cd44",
   "metadata": {},
   "outputs": [
    {
     "name": "stdout",
     "output_type": "stream",
     "text": [
      "H\n",
      "e\n",
      "l\n",
      "l\n",
      "o\n",
      " \n",
      "W\n",
      "o\n",
      "r\n",
      "l\n",
      "d\n"
     ]
    }
   ],
   "source": [
    "mystring='Hello World'\n",
    "#We are iterate over a string - gets the characters including whitespaces\n",
    "\n",
    "for asd in mystring:\n",
    "    print(asd)"
   ]
  },
  {
   "cell_type": "code",
   "execution_count": 28,
   "id": "f2bb8364",
   "metadata": {},
   "outputs": [
    {
     "name": "stdout",
     "output_type": "stream",
     "text": [
      "1\n",
      "2\n",
      "3\n"
     ]
    }
   ],
   "source": [
    "#Iterating over tuple\n",
    "\n",
    "tup = (1,2,3)\n",
    "\n",
    "for item in tup:\n",
    "    print(item)"
   ]
  },
  {
   "cell_type": "code",
   "execution_count": 29,
   "id": "67961842",
   "metadata": {},
   "outputs": [
    {
     "data": {
      "text/plain": [
       "4"
      ]
     },
     "execution_count": 29,
     "metadata": {},
     "output_type": "execute_result"
    }
   ],
   "source": [
    "#Tuple unpacking\n",
    "\n",
    "mylist=[(1,2),(3,4),(5,6),(7,8)]\n",
    "\n",
    "len(mylist)\n",
    "\n"
   ]
  },
  {
   "cell_type": "code",
   "execution_count": 38,
   "id": "b04dd42d",
   "metadata": {},
   "outputs": [
    {
     "name": "stdout",
     "output_type": "stream",
     "text": [
      "1\n",
      "2\n",
      "3\n",
      "4\n",
      "5\n",
      "6\n",
      "7\n",
      "8\n"
     ]
    }
   ],
   "source": [
    "#Common in python - the list of tuple structures\n",
    "\n",
    "#Tuple unpacking duplicates structure in the item and unpacks them. \n",
    "for (a,b) in mylist:\n",
    "    print(a)\n",
    "    print(b)\n",
    "\n"
   ]
  },
  {
   "cell_type": "code",
   "execution_count": 39,
   "id": "d7fd04eb",
   "metadata": {},
   "outputs": [
    {
     "name": "stdout",
     "output_type": "stream",
     "text": [
      "2\n",
      "4\n",
      "6\n",
      "8\n"
     ]
    }
   ],
   "source": [
    "#You really don't need the parentheses here. \n",
    "for a,b in mylist:\n",
    "    print(b)"
   ]
  },
  {
   "cell_type": "code",
   "execution_count": 41,
   "id": "435be132",
   "metadata": {},
   "outputs": [
    {
     "name": "stdout",
     "output_type": "stream",
     "text": [
      "2\n",
      "6\n",
      "9\n"
     ]
    }
   ],
   "source": [
    "mylist=[(1,2,3),(5,6,7),(8,9,10)]\n",
    "\n",
    "for a, b, c in mylist:\n",
    "    print(b)"
   ]
  },
  {
   "cell_type": "code",
   "execution_count": 45,
   "id": "c67c5bc1",
   "metadata": {},
   "outputs": [
    {
     "name": "stdout",
     "output_type": "stream",
     "text": [
      "k1\n",
      "k2\n",
      "k3\n"
     ]
    }
   ],
   "source": [
    "#Iterating over a dictionary\n",
    "\n",
    "d={'k1':1,'k2':2,'k3':3}\n",
    "\n",
    "#By default, it will pick the keys first\n",
    "for item in d:\n",
    "    print(item)"
   ]
  },
  {
   "cell_type": "code",
   "execution_count": 43,
   "id": "c14599ce",
   "metadata": {},
   "outputs": [
    {
     "name": "stdout",
     "output_type": "stream",
     "text": [
      "('k1', 1)\n",
      "('k2', 2)\n",
      "('k3', 3)\n"
     ]
    }
   ],
   "source": [
    "#If you want to call the key-value pairings\n",
    "\n",
    "for item in d.items():\n",
    "    print(item)"
   ]
  },
  {
   "cell_type": "code",
   "execution_count": 46,
   "id": "8ec3838b",
   "metadata": {},
   "outputs": [
    {
     "name": "stdout",
     "output_type": "stream",
     "text": [
      "1\n",
      "2\n",
      "3\n"
     ]
    }
   ],
   "source": [
    "#If you want to get the values, you can use tuple unpacking\n",
    "#key,value will act like a tuple pair. d.items() would be your items/tuples\n",
    "for key,value in d.items():\n",
    "    print(value)"
   ]
  },
  {
   "cell_type": "markdown",
   "id": "555404b3",
   "metadata": {},
   "source": [
    "# While Loops in Python\n",
    "\n",
    "While loops will continue to execute a block of code WHILE some condition remains True"
   ]
  },
  {
   "cell_type": "code",
   "execution_count": 58,
   "id": "964aca14",
   "metadata": {},
   "outputs": [
    {
     "name": "stdout",
     "output_type": "stream",
     "text": [
      "The current value of x is 0\n",
      "The current value of x is 1\n",
      "The current value of x is 2\n",
      "The current value of x is 3\n",
      "The current value of x is 4\n",
      "X IS NOT LESS THAN 5\n"
     ]
    }
   ],
   "source": [
    "x = 0\n",
    "\n",
    "while x<5:\n",
    "    print(f'The current value of x is {x}')\n",
    "    x += 1\n",
    "#Exits the while block and goes to else!\n",
    "else:\n",
    "    print(\"X IS NOT LESS THAN 5\")"
   ]
  },
  {
   "cell_type": "markdown",
   "id": "f0bd41c5",
   "metadata": {},
   "source": [
    "Break, Continue, Pass"
   ]
  },
  {
   "cell_type": "code",
   "execution_count": 59,
   "id": "0b0e6ca6",
   "metadata": {},
   "outputs": [
    {
     "name": "stdout",
     "output_type": "stream",
     "text": [
      "end of my script\n"
     ]
    }
   ],
   "source": [
    "#Pass does nothing at all. Can be used as a placeholder if you don't know what to put in your block of code yet\n",
    "\n",
    "x=[1,2,3]\n",
    "\n",
    "for item in x:\n",
    "    # Comment\n",
    "    pass\n",
    "\n",
    "print(\"end of my script\")"
   ]
  },
  {
   "cell_type": "code",
   "execution_count": 60,
   "id": "3911fcfc",
   "metadata": {},
   "outputs": [
    {
     "name": "stdout",
     "output_type": "stream",
     "text": [
      "S\n",
      "m\n",
      "m\n",
      "y\n"
     ]
    }
   ],
   "source": [
    "#Continue: goes to the top of the closest enclosing loop\n",
    "\n",
    "mystring='Sammy'\n",
    "\n",
    "for letter in mystring:\n",
    "    if letter == 'a': #If letter is a, then we continue to go back to the top of the closest enclosing loop\n",
    "        continue\n",
    "    print(letter)"
   ]
  },
  {
   "cell_type": "code",
   "execution_count": 61,
   "id": "5ff20c22",
   "metadata": {},
   "outputs": [
    {
     "name": "stdout",
     "output_type": "stream",
     "text": [
      "S\n"
     ]
    }
   ],
   "source": [
    "#Break: stops and breaks at the nearest enclosing loop\n",
    "mystring='Sammy'\n",
    "for letter in mystring:\n",
    "    if letter == 'a':\n",
    "        break\n",
    "    print(letter)"
   ]
  },
  {
   "cell_type": "code",
   "execution_count": 63,
   "id": "ba68b4ef",
   "metadata": {},
   "outputs": [
    {
     "name": "stdout",
     "output_type": "stream",
     "text": [
      "0\n",
      "1\n"
     ]
    }
   ],
   "source": [
    "#Using break on a while loop\n",
    "\n",
    "x=0\n",
    "while x<5:\n",
    "    if x == 2:\n",
    "        break\n",
    "    print(x)\n",
    "    x+=1"
   ]
  },
  {
   "cell_type": "markdown",
   "id": "47a970bc",
   "metadata": {},
   "source": []
  }
 ],
 "metadata": {
  "kernelspec": {
   "display_name": "Python 3",
   "language": "python",
   "name": "python3"
  },
  "language_info": {
   "codemirror_mode": {
    "name": "ipython",
    "version": 3
   },
   "file_extension": ".py",
   "mimetype": "text/x-python",
   "name": "python",
   "nbconvert_exporter": "python",
   "pygments_lexer": "ipython3",
   "version": "3.8.8"
  }
 },
 "nbformat": 4,
 "nbformat_minor": 5
}
