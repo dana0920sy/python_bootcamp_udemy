{
 "cells": [
  {
   "cell_type": "code",
   "execution_count": 1,
   "id": "c2ca77e8",
   "metadata": {},
   "outputs": [
    {
     "name": "stdout",
     "output_type": "stream",
     "text": [
      "hello\n"
     ]
    }
   ],
   "source": [
    "print('hello')"
   ]
  },
  {
   "cell_type": "code",
   "execution_count": 2,
   "id": "c1ddf6d5",
   "metadata": {},
   "outputs": [
    {
     "name": "stdout",
     "output_type": "stream",
     "text": [
      "hello\n",
      "hiehiehie\n"
     ]
    }
   ],
   "source": [
    "print('hello')\n",
    "print('hiehiehie')"
   ]
  },
  {
   "cell_type": "markdown",
   "id": "a1852672",
   "metadata": {},
   "source": [
    "Insert a note here.\n",
    "Use this for notes"
   ]
  },
  {
   "cell_type": "code",
   "execution_count": 3,
   "id": "6ffe6539",
   "metadata": {},
   "outputs": [
    {
     "name": "stdout",
     "output_type": "stream",
     "text": [
      "new\n"
     ]
    }
   ],
   "source": [
    "print('new')"
   ]
  },
  {
   "cell_type": "code",
   "execution_count": null,
   "id": "bb62836b",
   "metadata": {},
   "outputs": [],
   "source": []
  }
 ],
 "metadata": {
  "kernelspec": {
   "display_name": "Python 3",
   "language": "python",
   "name": "python3"
  },
  "language_info": {
   "codemirror_mode": {
    "name": "ipython",
    "version": 3
   },
   "file_extension": ".py",
   "mimetype": "text/x-python",
   "name": "python",
   "nbconvert_exporter": "python",
   "pygments_lexer": "ipython3",
   "version": "3.8.8"
  }
 },
 "nbformat": 4,
 "nbformat_minor": 5
}
