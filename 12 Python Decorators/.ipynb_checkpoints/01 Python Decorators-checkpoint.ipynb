{
 "cells": [
  {
   "cell_type": "code",
   "execution_count": 1,
   "id": "9d3d09ae",
   "metadata": {},
   "outputs": [],
   "source": [
    "# Review functions\n",
    "\n",
    "def func():\n",
    "    return 1"
   ]
  },
  {
   "cell_type": "code",
   "execution_count": 2,
   "id": "1706cee1",
   "metadata": {},
   "outputs": [
    {
     "data": {
      "text/plain": [
       "1"
      ]
     },
     "execution_count": 2,
     "metadata": {},
     "output_type": "execute_result"
    }
   ],
   "source": [
    "func()"
   ]
  },
  {
   "cell_type": "code",
   "execution_count": 7,
   "id": "79d3db6d",
   "metadata": {},
   "outputs": [],
   "source": [
    "# Recall variable assignment to function \n",
    "def hello():\n",
    "    return \"Hello!\"\n",
    "\n",
    "greet = hello"
   ]
  },
  {
   "cell_type": "code",
   "execution_count": 8,
   "id": "4a761327",
   "metadata": {},
   "outputs": [
    {
     "data": {
      "text/plain": [
       "'Hello!'"
      ]
     },
     "execution_count": 8,
     "metadata": {},
     "output_type": "execute_result"
    }
   ],
   "source": [
    "greet() # Is greet pointing to hello?"
   ]
  },
  {
   "cell_type": "code",
   "execution_count": 9,
   "id": "57b9a764",
   "metadata": {},
   "outputs": [],
   "source": [
    "del hello"
   ]
  },
  {
   "cell_type": "code",
   "execution_count": 10,
   "id": "6af0dd69",
   "metadata": {},
   "outputs": [
    {
     "ename": "NameError",
     "evalue": "name 'hello' is not defined",
     "output_type": "error",
     "traceback": [
      "\u001b[0;31m---------------------------------------------------------------------------\u001b[0m",
      "\u001b[0;31mNameError\u001b[0m                                 Traceback (most recent call last)",
      "\u001b[0;32m<ipython-input-10-a75d7781aaeb>\u001b[0m in \u001b[0;36m<module>\u001b[0;34m\u001b[0m\n\u001b[0;32m----> 1\u001b[0;31m \u001b[0mhello\u001b[0m\u001b[0;34m(\u001b[0m\u001b[0;34m)\u001b[0m\u001b[0;34m\u001b[0m\u001b[0;34m\u001b[0m\u001b[0m\n\u001b[0m",
      "\u001b[0;31mNameError\u001b[0m: name 'hello' is not defined"
     ]
    }
   ],
   "source": [
    "hello()"
   ]
  },
  {
   "cell_type": "code",
   "execution_count": 11,
   "id": "3c4c7440",
   "metadata": {},
   "outputs": [
    {
     "data": {
      "text/plain": [
       "'Hello!'"
      ]
     },
     "execution_count": 11,
     "metadata": {},
     "output_type": "execute_result"
    }
   ],
   "source": [
    "greet()"
   ]
  },
  {
   "cell_type": "code",
   "execution_count": 39,
   "id": "42664c56",
   "metadata": {},
   "outputs": [],
   "source": [
    "def hello(name=\"Dana\"):\n",
    "    print(\"The hello() function has been executed\")\n",
    "    \n",
    "    #Nested define function. Note that I'm not calling it\n",
    "    def greet():\n",
    "        return \"\\t This is the greet function inside hello\"\n",
    "    \n",
    "    def welcome():\n",
    "        return '\\t This is welcome inside hello'\n",
    "    print(\"I am going to return a function\")\n",
    "    \n",
    "    if name == \"Dana\":\n",
    "        return greet\n",
    "    else:\n",
    "        return welcome"
   ]
  },
  {
   "cell_type": "code",
   "execution_count": 45,
   "id": "5c2257b5",
   "metadata": {},
   "outputs": [
    {
     "name": "stdout",
     "output_type": "stream",
     "text": [
      "The hello() function has been executed\n",
      "I am going to return a function\n",
      "The hello() function has been executed\n",
      "I am going to return a function\n"
     ]
    }
   ],
   "source": [
    "my_new_func = hello(\"Dana\")\n",
    "my_new_func_2=hello(\"Young man\")"
   ]
  },
  {
   "cell_type": "code",
   "execution_count": 46,
   "id": "8bd42095",
   "metadata": {},
   "outputs": [
    {
     "name": "stdout",
     "output_type": "stream",
     "text": [
      "\t This is the greet function inside hello\n",
      "\t This is welcome inside hello\n"
     ]
    }
   ],
   "source": [
    "print(my_new_func())\n",
    "print(my_new_func_2())"
   ]
  },
  {
   "cell_type": "code",
   "execution_count": 53,
   "id": "834d2e97",
   "metadata": {},
   "outputs": [],
   "source": [
    "def cool():\n",
    "    def super_cool():\n",
    "        return \"I am very cool\"\n",
    "    \n",
    "    # Let cool() return the defined function super_cool\n",
    "    return super_cool"
   ]
  },
  {
   "cell_type": "code",
   "execution_count": 56,
   "id": "28586311",
   "metadata": {},
   "outputs": [],
   "source": [
    "my_func = cool()"
   ]
  },
  {
   "cell_type": "code",
   "execution_count": 57,
   "id": "b1df976c",
   "metadata": {},
   "outputs": [
    {
     "data": {
      "text/plain": [
       "<function __main__.cool.<locals>.super_cool()>"
      ]
     },
     "execution_count": 57,
     "metadata": {},
     "output_type": "execute_result"
    }
   ],
   "source": [
    "my_func"
   ]
  },
  {
   "cell_type": "code",
   "execution_count": 58,
   "id": "f2dd36bc",
   "metadata": {},
   "outputs": [
    {
     "data": {
      "text/plain": [
       "'I am very cool'"
      ]
     },
     "execution_count": 58,
     "metadata": {},
     "output_type": "execute_result"
    }
   ],
   "source": [
    "my_func()"
   ]
  },
  {
   "cell_type": "code",
   "execution_count": 59,
   "id": "0fe384a4",
   "metadata": {},
   "outputs": [
    {
     "data": {
      "text/plain": [
       "<function __main__.cool.<locals>.super_cool()>"
      ]
     },
     "execution_count": 59,
     "metadata": {},
     "output_type": "execute_result"
    }
   ],
   "source": [
    "cool()"
   ]
  },
  {
   "cell_type": "code",
   "execution_count": 71,
   "id": "4d694a8f",
   "metadata": {},
   "outputs": [],
   "source": [
    "#Now let's move on to making our own decorator\n",
    "\n",
    "\n",
    "def hello():\n",
    "    x = int(input(\"Enter a number: \" ))\n",
    "    if x == 1:\n",
    "        return x\n",
    "    else:\n",
    "        return 'aw'"
   ]
  },
  {
   "cell_type": "code",
   "execution_count": 72,
   "id": "392a0c14",
   "metadata": {},
   "outputs": [],
   "source": [
    "def other(some_def_func): #Passing in function as an argument of another function\n",
    "    print(\"Other code runs here\")\n",
    "    print(some_def_func()) #Passing in a function as an argument"
   ]
  },
  {
   "cell_type": "code",
   "execution_count": 75,
   "id": "94b415ee",
   "metadata": {},
   "outputs": [
    {
     "name": "stdout",
     "output_type": "stream",
     "text": [
      "Other code runs here\n",
      "Enter a number: 12\n",
      "aw\n"
     ]
    }
   ],
   "source": [
    "other(hello)"
   ]
  },
  {
   "cell_type": "code",
   "execution_count": 78,
   "id": "ab3d6d0c",
   "metadata": {},
   "outputs": [],
   "source": [
    "def new_decorator(original_func):\n",
    "    def wrap_func():\n",
    "        print(\"Some extra code before the original function\") # gift paper\n",
    "        original_func()\n",
    "        print(\"Some extra code after the original function\") # gift paper\n",
    "    \n",
    "    return wrap_func"
   ]
  },
  {
   "cell_type": "code",
   "execution_count": 79,
   "id": "1f25f5ba",
   "metadata": {},
   "outputs": [],
   "source": [
    "def func_needs_decor():\n",
    "    print(\"I want to be decorated!\")"
   ]
  },
  {
   "cell_type": "code",
   "execution_count": 82,
   "id": "99154183",
   "metadata": {},
   "outputs": [],
   "source": [
    "decorated_func = new_decorator(func_needs_decor)"
   ]
  },
  {
   "cell_type": "code",
   "execution_count": 84,
   "id": "0ffe4ad8",
   "metadata": {},
   "outputs": [
    {
     "name": "stdout",
     "output_type": "stream",
     "text": [
      "Some extra code before the original function\n",
      "I want to be decorated!\n",
      "Some extra code after the original function\n"
     ]
    }
   ],
   "source": [
    "decorated_func()"
   ]
  },
  {
   "cell_type": "code",
   "execution_count": 89,
   "id": "1c5124fc",
   "metadata": {},
   "outputs": [],
   "source": [
    "#Special syntax using @ operator. NO need to store into another variable\n",
    "\n",
    "@new_decorator\n",
    "def func_needs_decor():\n",
    "    print(\"I want to be decorated!\")"
   ]
  },
  {
   "cell_type": "code",
   "execution_count": 90,
   "id": "36f74451",
   "metadata": {},
   "outputs": [
    {
     "name": "stdout",
     "output_type": "stream",
     "text": [
      "Some extra code before the original function\n",
      "I want to be decorated!\n",
      "Some extra code after the original function\n"
     ]
    }
   ],
   "source": [
    "func_needs_decor()"
   ]
  },
  {
   "cell_type": "code",
   "execution_count": null,
   "id": "42d8a76c",
   "metadata": {},
   "outputs": [],
   "source": []
  }
 ],
 "metadata": {
  "kernelspec": {
   "display_name": "Python 3",
   "language": "python",
   "name": "python3"
  },
  "language_info": {
   "codemirror_mode": {
    "name": "ipython",
    "version": 3
   },
   "file_extension": ".py",
   "mimetype": "text/x-python",
   "name": "python",
   "nbconvert_exporter": "python",
   "pygments_lexer": "ipython3",
   "version": "3.8.8"
  }
 },
 "nbformat": 4,
 "nbformat_minor": 5
}
