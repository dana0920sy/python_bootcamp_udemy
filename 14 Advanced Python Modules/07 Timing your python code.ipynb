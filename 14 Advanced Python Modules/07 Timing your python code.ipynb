{
 "cells": [
  {
   "cell_type": "code",
   "execution_count": 1,
   "id": "9a95f90e",
   "metadata": {},
   "outputs": [],
   "source": [
    "def func1(n):\n",
    "    return [str(num) for num in range(n)]"
   ]
  },
  {
   "cell_type": "code",
   "execution_count": 3,
   "id": "8faf048f",
   "metadata": {},
   "outputs": [
    {
     "data": {
      "text/plain": [
       "['0', '1', '2', '3', '4', '5', '6', '7', '8', '9', '10']"
      ]
     },
     "execution_count": 3,
     "metadata": {},
     "output_type": "execute_result"
    }
   ],
   "source": [
    "func1(11)"
   ]
  },
  {
   "cell_type": "code",
   "execution_count": 4,
   "id": "040fe4bc",
   "metadata": {},
   "outputs": [],
   "source": [
    "def func2(n):\n",
    "    return list(map(str,range(n)))"
   ]
  },
  {
   "cell_type": "code",
   "execution_count": 5,
   "id": "7c06ca3c",
   "metadata": {},
   "outputs": [
    {
     "data": {
      "text/plain": [
       "['0', '1', '2', '3', '4', '5', '6', '7', '8', '9', '10']"
      ]
     },
     "execution_count": 5,
     "metadata": {},
     "output_type": "execute_result"
    }
   ],
   "source": [
    "func2(11)"
   ]
  },
  {
   "cell_type": "code",
   "execution_count": 6,
   "id": "5a4e1893",
   "metadata": {},
   "outputs": [],
   "source": [
    "# Time your code\n",
    "import time"
   ]
  },
  {
   "cell_type": "code",
   "execution_count": 19,
   "id": "c51550ef",
   "metadata": {},
   "outputs": [
    {
     "name": "stdout",
     "output_type": "stream",
     "text": [
      "0.0025458335876464844\n"
     ]
    }
   ],
   "source": [
    "# Current time before code\n",
    "start_time = time.time()\n",
    "# Run code\n",
    "result = func1(10000)\n",
    "# Current time after code\n",
    "end_time=time.time()\n",
    "# Elapsed time\n",
    "elapsed_time=end_time-start_time\n",
    "print(elapsed_time)"
   ]
  },
  {
   "cell_type": "code",
   "execution_count": 20,
   "id": "fd3c2d71",
   "metadata": {},
   "outputs": [
    {
     "name": "stdout",
     "output_type": "stream",
     "text": [
      "0.0018839836120605469\n"
     ]
    }
   ],
   "source": [
    "# Current time before code\n",
    "start_time = time.time()\n",
    "# Run code\n",
    "result = func2(10000)\n",
    "# Current time after code\n",
    "end_time=time.time()\n",
    "# Elapsed time\n",
    "elapsed_time=end_time-start_time\n",
    "print(elapsed_time)"
   ]
  },
  {
   "cell_type": "code",
   "execution_count": 21,
   "id": "14b575b7",
   "metadata": {},
   "outputs": [],
   "source": [
    "# Time it module\n",
    "\n",
    "import timeit"
   ]
  },
  {
   "cell_type": "code",
   "execution_count": 22,
   "id": "f7289534",
   "metadata": {},
   "outputs": [],
   "source": [
    "stmt='''\n",
    "func1(100)\n",
    "'''"
   ]
  },
  {
   "cell_type": "code",
   "execution_count": 23,
   "id": "ea5c649b",
   "metadata": {},
   "outputs": [],
   "source": [
    "setup='''\n",
    "def func1(n):\n",
    "    return [str(num) for num in range(n)]\n",
    "'''"
   ]
  },
  {
   "cell_type": "code",
   "execution_count": 25,
   "id": "657b9f4a",
   "metadata": {},
   "outputs": [
    {
     "data": {
      "text/plain": [
       "1.5348058609999953"
      ]
     },
     "execution_count": 25,
     "metadata": {},
     "output_type": "execute_result"
    }
   ],
   "source": [
    "timeit.timeit(stmt,setup,number=100000)"
   ]
  },
  {
   "cell_type": "code",
   "execution_count": 27,
   "id": "32a3ce75",
   "metadata": {},
   "outputs": [],
   "source": [
    "stmt='''\n",
    "func2(100)\n",
    "'''"
   ]
  },
  {
   "cell_type": "code",
   "execution_count": 28,
   "id": "09246dc4",
   "metadata": {},
   "outputs": [],
   "source": [
    "setup='''\n",
    "def func2(n):\n",
    "    return list(map(str,range(n)))\n",
    "'''"
   ]
  },
  {
   "cell_type": "code",
   "execution_count": 29,
   "id": "1c63e9e8",
   "metadata": {},
   "outputs": [
    {
     "data": {
      "text/plain": [
       "1.3423423129999037"
      ]
     },
     "execution_count": 29,
     "metadata": {},
     "output_type": "execute_result"
    }
   ],
   "source": [
    "timeit.timeit(stmt,setup,number=100000)"
   ]
  },
  {
   "cell_type": "code",
   "execution_count": 30,
   "id": "d43e58f9",
   "metadata": {},
   "outputs": [
    {
     "name": "stdout",
     "output_type": "stream",
     "text": [
      "15.4 µs ± 90.6 ns per loop (mean ± std. dev. of 7 runs, 100000 loops each)\n"
     ]
    }
   ],
   "source": [
    "%%timeit\n",
    "func1(100)"
   ]
  },
  {
   "cell_type": "code",
   "execution_count": 31,
   "id": "0a0da3e3",
   "metadata": {},
   "outputs": [
    {
     "name": "stdout",
     "output_type": "stream",
     "text": [
      "13.3 µs ± 84.1 ns per loop (mean ± std. dev. of 7 runs, 100000 loops each)\n"
     ]
    }
   ],
   "source": [
    "%%timeit\n",
    "func2(100)"
   ]
  },
  {
   "cell_type": "code",
   "execution_count": null,
   "id": "83ceefec",
   "metadata": {},
   "outputs": [],
   "source": []
  }
 ],
 "metadata": {
  "kernelspec": {
   "display_name": "Python 3",
   "language": "python",
   "name": "python3"
  },
  "language_info": {
   "codemirror_mode": {
    "name": "ipython",
    "version": 3
   },
   "file_extension": ".py",
   "mimetype": "text/x-python",
   "name": "python",
   "nbconvert_exporter": "python",
   "pygments_lexer": "ipython3",
   "version": "3.8.8"
  }
 },
 "nbformat": 4,
 "nbformat_minor": 5
}
