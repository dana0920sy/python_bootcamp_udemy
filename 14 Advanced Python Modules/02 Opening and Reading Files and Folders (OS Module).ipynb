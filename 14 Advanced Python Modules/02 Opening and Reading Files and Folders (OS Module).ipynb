{
 "cells": [
  {
   "cell_type": "code",
   "execution_count": 1,
   "id": "25232784",
   "metadata": {},
   "outputs": [],
   "source": [
    "# Recall pwd - looks at the current file directory of where notebook is located"
   ]
  },
  {
   "cell_type": "code",
   "execution_count": 2,
   "id": "a8d5be14",
   "metadata": {},
   "outputs": [
    {
     "data": {
      "text/plain": [
       "'/Users/dana/Desktop/Udemy_Python_Bootcamp/14 Advanced Python Modules'"
      ]
     },
     "execution_count": 2,
     "metadata": {},
     "output_type": "execute_result"
    }
   ],
   "source": [
    "pwd"
   ]
  },
  {
   "cell_type": "code",
   "execution_count": 3,
   "id": "993b249b",
   "metadata": {},
   "outputs": [],
   "source": [
    "# Let's create a practice file"
   ]
  },
  {
   "cell_type": "code",
   "execution_count": 4,
   "id": "094a939c",
   "metadata": {},
   "outputs": [],
   "source": [
    "f = open('practice.txt','w+')\n",
    "f.write(\"This is a test string\")\n",
    "f.close()"
   ]
  },
  {
   "cell_type": "code",
   "execution_count": 5,
   "id": "c46a968a",
   "metadata": {},
   "outputs": [],
   "source": [
    "# Let's now use the os module"
   ]
  },
  {
   "cell_type": "code",
   "execution_count": 6,
   "id": "a16c7e91",
   "metadata": {},
   "outputs": [],
   "source": [
    "import os"
   ]
  },
  {
   "cell_type": "code",
   "execution_count": 7,
   "id": "d2ff575c",
   "metadata": {},
   "outputs": [
    {
     "data": {
      "text/plain": [
       "'/Users/dana/Desktop/Udemy_Python_Bootcamp/14 Advanced Python Modules'"
      ]
     },
     "execution_count": 7,
     "metadata": {},
     "output_type": "execute_result"
    }
   ],
   "source": [
    "os.getcwd()"
   ]
  },
  {
   "cell_type": "code",
   "execution_count": 8,
   "id": "25c62597",
   "metadata": {},
   "outputs": [
    {
     "data": {
      "text/plain": [
       "['practice.txt',\n",
       " '01 Python Collections Module.ipynb',\n",
       " '02 Opening and Reading Files and Folders (OS Module).ipynb',\n",
       " '.ipynb_checkpoints']"
      ]
     },
     "execution_count": 8,
     "metadata": {},
     "output_type": "execute_result"
    }
   ],
   "source": [
    "os.listdir()"
   ]
  },
  {
   "cell_type": "code",
   "execution_count": 9,
   "id": "a3e4ec38",
   "metadata": {},
   "outputs": [],
   "source": [
    "# Returns a list of the files - structure is list"
   ]
  },
  {
   "cell_type": "code",
   "execution_count": 10,
   "id": "a633c765",
   "metadata": {},
   "outputs": [],
   "source": [
    "# You can specify the directory path"
   ]
  },
  {
   "cell_type": "code",
   "execution_count": 11,
   "id": "dab8fd03",
   "metadata": {},
   "outputs": [
    {
     "data": {
      "text/plain": [
       "['DEPARTMENT OF TRANSPORTATION.pdf',\n",
       " 'Resume 2021.pdf',\n",
       " 'screenshots',\n",
       " '.DS_Store',\n",
       " '.localized',\n",
       " 'practice.txt',\n",
       " 'AlteryxDesignerCore_2021Recertification.pdf',\n",
       " 'Relocated Items',\n",
       " 'Complete-Python-3-Bootcamp-master',\n",
       " 'Agile Design Thinking.pdf',\n",
       " 'StrengthsInsightGuide.pdf',\n",
       " 'Screen Shot 2021-12-31 at 2.44.28 PM.png',\n",
       " 'Sample - Superstore_Migrated Data.csv',\n",
       " \"Driver's License.png\",\n",
       " 'Witcher',\n",
       " 'Udemy_Python_Bootcamp',\n",
       " 'Sample - Superstore copy.xls',\n",
       " '.ipynb_checkpoints',\n",
       " 'SignatureThemeReport.pdf',\n",
       " 'Complete-Python-3-Bootcamp-master.zip']"
      ]
     },
     "execution_count": 11,
     "metadata": {},
     "output_type": "execute_result"
    }
   ],
   "source": [
    "os.listdir('/Users/dana/Desktop')"
   ]
  },
  {
   "cell_type": "code",
   "execution_count": 12,
   "id": "9eee8cd5",
   "metadata": {},
   "outputs": [],
   "source": [
    "#Let's try moving files around using shutil"
   ]
  },
  {
   "cell_type": "code",
   "execution_count": 13,
   "id": "53e95f5c",
   "metadata": {},
   "outputs": [],
   "source": [
    "import shutil"
   ]
  },
  {
   "cell_type": "code",
   "execution_count": 15,
   "id": "b368aed5",
   "metadata": {},
   "outputs": [
    {
     "data": {
      "text/plain": [
       "'/Users/dana/Desktop/practice.txt'"
      ]
     },
     "execution_count": 15,
     "metadata": {},
     "output_type": "execute_result"
    }
   ],
   "source": [
    "shutil.move('practice.txt','/Users/dana/Desktop')"
   ]
  },
  {
   "cell_type": "code",
   "execution_count": null,
   "id": "4a04156b",
   "metadata": {},
   "outputs": [],
   "source": [
    "os.listdir('/Users/dana/Desktop')"
   ]
  },
  {
   "cell_type": "code",
   "execution_count": 16,
   "id": "20e611ee",
   "metadata": {},
   "outputs": [
    {
     "name": "stdout",
     "output_type": "stream",
     "text": [
      "Requirement already satisfied: send2trash in /opt/anaconda3/lib/python3.8/site-packages (1.5.0)\n",
      "Note: you may need to restart the kernel to use updated packages.\n"
     ]
    }
   ],
   "source": [
    "pip install send2trash"
   ]
  },
  {
   "cell_type": "code",
   "execution_count": 17,
   "id": "dc3bfb45",
   "metadata": {},
   "outputs": [],
   "source": [
    "import send2trash"
   ]
  },
  {
   "cell_type": "code",
   "execution_count": 18,
   "id": "dca38c6f",
   "metadata": {},
   "outputs": [
    {
     "data": {
      "text/plain": [
       "'/Users/dana/Desktop/Udemy_Python_Bootcamp/14 Advanced Python Modules/practice.txt'"
      ]
     },
     "execution_count": 18,
     "metadata": {},
     "output_type": "execute_result"
    }
   ],
   "source": [
    "shutil.move('/Users/dana/Desktop/practice.txt',os.getcwd())"
   ]
  },
  {
   "cell_type": "code",
   "execution_count": 19,
   "id": "89af0da0",
   "metadata": {},
   "outputs": [],
   "source": [
    "send2trash.send2trash('practice.txt')"
   ]
  },
  {
   "cell_type": "code",
   "execution_count": 20,
   "id": "31d56ba8",
   "metadata": {},
   "outputs": [
    {
     "data": {
      "text/plain": [
       "['01 Python Collections Module.ipynb',\n",
       " '02 Opening and Reading Files and Folders (OS Module).ipynb',\n",
       " '.ipynb_checkpoints']"
      ]
     },
     "execution_count": 20,
     "metadata": {},
     "output_type": "execute_result"
    }
   ],
   "source": [
    "os.listdir()"
   ]
  },
  {
   "cell_type": "code",
   "execution_count": 21,
   "id": "191f6b41",
   "metadata": {},
   "outputs": [],
   "source": [
    "# Os.walk"
   ]
  },
  {
   "cell_type": "code",
   "execution_count": 37,
   "id": "3cf63dd8",
   "metadata": {},
   "outputs": [
    {
     "name": "stdout",
     "output_type": "stream",
     "text": [
      "Currently looking at folder: /Users/dana/Desktop/Udemy_Python_Bootcamp/14 Advanced Python Modules\n",
      "\n",
      "\n",
      "\tTHE SUB_FOLDERS ARE: .ipynb_checkpoints\n",
      "\n",
      "\n",
      "\tTHE FILES ARE: 01 Python Collections Module.ipynb\n",
      "\tTHE FILES ARE: 02 Opening and Reading Files and Folders (OS Module).ipynb\n",
      "\n",
      "\n",
      "Currently looking at folder: /Users/dana/Desktop/Udemy_Python_Bootcamp/14 Advanced Python Modules/.ipynb_checkpoints\n",
      "\n",
      "\n",
      "\n",
      "\n",
      "\tTHE FILES ARE: 02 Opening and Reading Files and Folders (OS Module)-checkpoint.ipynb\n",
      "\tTHE FILES ARE: 01 Python Collections Module-checkpoint.ipynb\n",
      "\n",
      "\n"
     ]
    }
   ],
   "source": [
    "for folder, sub_folders, files in os.walk(os.getcwd()):\n",
    "    print(\"Currently looking at folder: \"+folder)\n",
    "    print('\\n')\n",
    "    for sub_fold in sub_folders:\n",
    "        print(\"\\tTHE SUB_FOLDERS ARE: \"+sub_fold)\n",
    "    print('\\n')\n",
    "    for file in files:\n",
    "        print(\"\\tTHE FILES ARE: \"+file)\n",
    "    print(\"\\n\")\n",
    "    "
   ]
  },
  {
   "cell_type": "code",
   "execution_count": null,
   "id": "e8a9b2b2",
   "metadata": {},
   "outputs": [],
   "source": [
    "f = open(os.getcwd()+'\\extracted_content\\Instructions.txt','r')"
   ]
  }
 ],
 "metadata": {
  "kernelspec": {
   "display_name": "Python 3",
   "language": "python",
   "name": "python3"
  },
  "language_info": {
   "codemirror_mode": {
    "name": "ipython",
    "version": 3
   },
   "file_extension": ".py",
   "mimetype": "text/x-python",
   "name": "python",
   "nbconvert_exporter": "python",
   "pygments_lexer": "ipython3",
   "version": "3.8.8"
  }
 },
 "nbformat": 4,
 "nbformat_minor": 5
}
