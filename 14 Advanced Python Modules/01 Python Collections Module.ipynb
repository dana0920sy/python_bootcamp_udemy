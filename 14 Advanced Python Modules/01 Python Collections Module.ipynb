{
 "cells": [
  {
   "cell_type": "markdown",
   "id": "bddce9c3",
   "metadata": {},
   "source": [
    "COLLECTIONS MODULE <br>\n",
    "\n",
    "Built-in module. For specialized container types."
   ]
  },
  {
   "cell_type": "code",
   "execution_count": 1,
   "id": "76fdfd90",
   "metadata": {},
   "outputs": [],
   "source": [
    "from collections import Counter"
   ]
  },
  {
   "cell_type": "code",
   "execution_count": 2,
   "id": "56d42fad",
   "metadata": {},
   "outputs": [],
   "source": [
    "mylist=[1,1,1,1,1,2,2,2,2,3,3,3,3,3]"
   ]
  },
  {
   "cell_type": "code",
   "execution_count": 5,
   "id": "2cf086b0",
   "metadata": {},
   "outputs": [
    {
     "data": {
      "text/plain": [
       "Counter({1: 5, 2: 4, 3: 5})"
      ]
     },
     "execution_count": 5,
     "metadata": {},
     "output_type": "execute_result"
    }
   ],
   "source": [
    "# Let us count the instances of each unique element in the list\n",
    "# Instead of iterating over a for loop or a set and maintaining a count over dictionaries\n",
    "# Counter sovles this\n",
    "Counter(mylist)\n",
    "# counter is a dictionary sub-class"
   ]
  },
  {
   "cell_type": "code",
   "execution_count": 6,
   "id": "e2e172d6",
   "metadata": {},
   "outputs": [
    {
     "data": {
      "text/plain": [
       "Counter({'a': 6, 'b': 4, 'c': 3, 'j': 2})"
      ]
     },
     "execution_count": 6,
     "metadata": {},
     "output_type": "execute_result"
    }
   ],
   "source": [
    "# You can pass a string\n",
    "Counter('aaabbbbcccajaja')"
   ]
  },
  {
   "cell_type": "code",
   "execution_count": 11,
   "id": "e2272836",
   "metadata": {},
   "outputs": [
    {
     "data": {
      "text/plain": [
       "Counter({'How': 1,\n",
       "         'many': 1,\n",
       "         'times': 1,\n",
       "         'does': 1,\n",
       "         'each': 1,\n",
       "         'word': 2,\n",
       "         'show': 1,\n",
       "         'up': 1,\n",
       "         'in': 1,\n",
       "         'this': 1,\n",
       "         'sentence': 1,\n",
       "         'with': 1,\n",
       "         'a': 1})"
      ]
     },
     "execution_count": 11,
     "metadata": {},
     "output_type": "execute_result"
    }
   ],
   "source": [
    "# You can count instances of each word\n",
    "sentence = \"How many times does each word show up in this sentence with a word\"\n",
    "sentence.split()\n",
    "Counter(sentence.split())"
   ]
  },
  {
   "cell_type": "code",
   "execution_count": 12,
   "id": "50224ee2",
   "metadata": {},
   "outputs": [],
   "source": [
    "letters = 'AAAAAbbbbccccccDDDD'"
   ]
  },
  {
   "cell_type": "code",
   "execution_count": 13,
   "id": "dac9e304",
   "metadata": {},
   "outputs": [],
   "source": [
    "c = Counter(letters)"
   ]
  },
  {
   "cell_type": "code",
   "execution_count": 14,
   "id": "176f348f",
   "metadata": {},
   "outputs": [
    {
     "data": {
      "text/plain": [
       "Counter({'A': 5, 'b': 4, 'c': 6, 'D': 4})"
      ]
     },
     "execution_count": 14,
     "metadata": {},
     "output_type": "execute_result"
    }
   ],
   "source": [
    "c"
   ]
  },
  {
   "cell_type": "code",
   "execution_count": 17,
   "id": "8808045b",
   "metadata": {},
   "outputs": [
    {
     "data": {
      "text/plain": [
       "[('c', 6), ('A', 5), ('b', 4), ('D', 4)]"
      ]
     },
     "execution_count": 17,
     "metadata": {},
     "output_type": "execute_result"
    }
   ],
   "source": [
    "c.most_common() # will return a list of tuples of the most common"
   ]
  },
  {
   "cell_type": "code",
   "execution_count": 18,
   "id": "b72ffe05",
   "metadata": {},
   "outputs": [
    {
     "data": {
      "text/plain": [
       "[('c', 6), ('A', 5)]"
      ]
     },
     "execution_count": 18,
     "metadata": {},
     "output_type": "execute_result"
    }
   ],
   "source": [
    "c.most_common(2)"
   ]
  },
  {
   "cell_type": "code",
   "execution_count": 20,
   "id": "a9ce6fd2",
   "metadata": {},
   "outputs": [
    {
     "data": {
      "text/plain": [
       "[('c', 6), ('A', 5), ('b', 4), ('D', 4)]"
      ]
     },
     "execution_count": 20,
     "metadata": {},
     "output_type": "execute_result"
    }
   ],
   "source": [
    "c.most_common(5)"
   ]
  },
  {
   "cell_type": "markdown",
   "id": "bc77332d",
   "metadata": {},
   "source": [
    "Counter Methods"
   ]
  },
  {
   "cell_type": "markdown",
   "id": "1a34f797",
   "metadata": {},
   "source": [
    "    sum(c.values())                 # total of all counts\n",
    "    c.clear()                       # reset all counts\n",
    "    list(c)                         # list unique elements\n",
    "    set(c)                          # convert to a set\n",
    "    dict(c)                         # convert to a regular dictionary\n",
    "    c.items()                       # convert to a list of (elem, cnt) pairs\n",
    "    Counter(dict(list_of_pairs))    # convert from a list of (elem, cnt) pairs\n",
    "    c.most_common()[:-n-1:-1]       # n least common elements\n",
    "    c += Counter()                  # remove zero and negative counts"
   ]
  },
  {
   "cell_type": "code",
   "execution_count": 22,
   "id": "030f2553",
   "metadata": {},
   "outputs": [
    {
     "data": {
      "text/plain": [
       "['A', 'b', 'c', 'D']"
      ]
     },
     "execution_count": 22,
     "metadata": {},
     "output_type": "execute_result"
    }
   ],
   "source": [
    "list(c)"
   ]
  },
  {
   "cell_type": "code",
   "execution_count": 23,
   "id": "9bedc51b",
   "metadata": {},
   "outputs": [
    {
     "data": {
      "text/plain": [
       "{'A', 'D', 'b', 'c'}"
      ]
     },
     "execution_count": 23,
     "metadata": {},
     "output_type": "execute_result"
    }
   ],
   "source": [
    "set(c)"
   ]
  },
  {
   "cell_type": "code",
   "execution_count": 24,
   "id": "bb4a282e",
   "metadata": {},
   "outputs": [],
   "source": [
    "# Default Dictionary \n",
    "\n",
    "from collections import defaultdict"
   ]
  },
  {
   "cell_type": "code",
   "execution_count": 25,
   "id": "e7004f55",
   "metadata": {},
   "outputs": [],
   "source": [
    "d = {'a':10}"
   ]
  },
  {
   "cell_type": "code",
   "execution_count": 26,
   "id": "0561783d",
   "metadata": {},
   "outputs": [
    {
     "data": {
      "text/plain": [
       "{'a': 10}"
      ]
     },
     "execution_count": 26,
     "metadata": {},
     "output_type": "execute_result"
    }
   ],
   "source": [
    "d"
   ]
  },
  {
   "cell_type": "code",
   "execution_count": 27,
   "id": "c4e16788",
   "metadata": {},
   "outputs": [
    {
     "data": {
      "text/plain": [
       "10"
      ]
     },
     "execution_count": 27,
     "metadata": {},
     "output_type": "execute_result"
    }
   ],
   "source": [
    "d['a']"
   ]
  },
  {
   "cell_type": "code",
   "execution_count": 28,
   "id": "386905fa",
   "metadata": {},
   "outputs": [
    {
     "ename": "KeyError",
     "evalue": "'WRONG'",
     "output_type": "error",
     "traceback": [
      "\u001b[0;31m---------------------------------------------------------------------------\u001b[0m",
      "\u001b[0;31mKeyError\u001b[0m                                  Traceback (most recent call last)",
      "\u001b[0;32m<ipython-input-28-4006d83773ae>\u001b[0m in \u001b[0;36m<module>\u001b[0;34m\u001b[0m\n\u001b[0;32m----> 1\u001b[0;31m \u001b[0md\u001b[0m\u001b[0;34m[\u001b[0m\u001b[0;34m'WRONG'\u001b[0m\u001b[0;34m]\u001b[0m\u001b[0;34m\u001b[0m\u001b[0;34m\u001b[0m\u001b[0m\n\u001b[0m",
      "\u001b[0;31mKeyError\u001b[0m: 'WRONG'"
     ]
    }
   ],
   "source": [
    "d['WRONG'] #Key Error, this doesn't exist. Yet"
   ]
  },
  {
   "cell_type": "code",
   "execution_count": 29,
   "id": "a4dd0583",
   "metadata": {},
   "outputs": [],
   "source": [
    "d = defaultdict(lambda:0)"
   ]
  },
  {
   "cell_type": "code",
   "execution_count": 30,
   "id": "52982b0b",
   "metadata": {},
   "outputs": [],
   "source": [
    "d['correct']=100"
   ]
  },
  {
   "cell_type": "code",
   "execution_count": 31,
   "id": "e69c7ea2",
   "metadata": {},
   "outputs": [
    {
     "data": {
      "text/plain": [
       "defaultdict(<function __main__.<lambda>()>, {'correct': 100})"
      ]
     },
     "execution_count": 31,
     "metadata": {},
     "output_type": "execute_result"
    }
   ],
   "source": [
    "d"
   ]
  },
  {
   "cell_type": "code",
   "execution_count": 32,
   "id": "290905ab",
   "metadata": {},
   "outputs": [
    {
     "data": {
      "text/plain": [
       "0"
      ]
     },
     "execution_count": 32,
     "metadata": {},
     "output_type": "execute_result"
    }
   ],
   "source": [
    "d['wrongkey']"
   ]
  },
  {
   "cell_type": "code",
   "execution_count": 33,
   "id": "3ae75747",
   "metadata": {},
   "outputs": [
    {
     "data": {
      "text/plain": [
       "defaultdict(<function __main__.<lambda>()>, {'correct': 100, 'wrongkey': 0})"
      ]
     },
     "execution_count": 33,
     "metadata": {},
     "output_type": "execute_result"
    }
   ],
   "source": [
    "d"
   ]
  },
  {
   "cell_type": "code",
   "execution_count": 34,
   "id": "76def3fd",
   "metadata": {},
   "outputs": [
    {
     "data": {
      "text/plain": [
       "dict_items([('correct', 100), ('wrongkey', 0)])"
      ]
     },
     "execution_count": 34,
     "metadata": {},
     "output_type": "execute_result"
    }
   ],
   "source": [
    "d.items()"
   ]
  },
  {
   "cell_type": "code",
   "execution_count": 35,
   "id": "a1cf533d",
   "metadata": {},
   "outputs": [],
   "source": [
    "mytuple=(10,20,30)"
   ]
  },
  {
   "cell_type": "code",
   "execution_count": 40,
   "id": "5dc7881f",
   "metadata": {},
   "outputs": [
    {
     "data": {
      "text/plain": [
       "10"
      ]
     },
     "execution_count": 40,
     "metadata": {},
     "output_type": "execute_result"
    }
   ],
   "source": [
    "mytuple[0]"
   ]
  },
  {
   "cell_type": "code",
   "execution_count": 41,
   "id": "baa1ca2f",
   "metadata": {},
   "outputs": [],
   "source": [
    "from collections import namedtuple"
   ]
  },
  {
   "cell_type": "code",
   "execution_count": 42,
   "id": "ac5c9f2d",
   "metadata": {},
   "outputs": [],
   "source": [
    "Dog = namedtuple('Dog',['age','breed','name'])"
   ]
  },
  {
   "cell_type": "code",
   "execution_count": 44,
   "id": "95f3c276",
   "metadata": {},
   "outputs": [],
   "source": [
    "sammy = Dog(age=5,breed=\"Husky\",name=\"Sam\")"
   ]
  },
  {
   "cell_type": "code",
   "execution_count": 45,
   "id": "ab49d8a1",
   "metadata": {},
   "outputs": [
    {
     "data": {
      "text/plain": [
       "__main__.Dog"
      ]
     },
     "execution_count": 45,
     "metadata": {},
     "output_type": "execute_result"
    }
   ],
   "source": [
    "type(sammy)"
   ]
  },
  {
   "cell_type": "code",
   "execution_count": 50,
   "id": "7d9cfa1f",
   "metadata": {},
   "outputs": [
    {
     "data": {
      "text/plain": [
       "5"
      ]
     },
     "execution_count": 50,
     "metadata": {},
     "output_type": "execute_result"
    }
   ],
   "source": [
    "sammy #Mix of OOP FORMAT and tuple\n",
    "#There's an association with each value\n",
    "sammy.age"
   ]
  },
  {
   "cell_type": "code",
   "execution_count": 51,
   "id": "d061084c",
   "metadata": {},
   "outputs": [
    {
     "data": {
      "text/plain": [
       "'Husky'"
      ]
     },
     "execution_count": 51,
     "metadata": {},
     "output_type": "execute_result"
    }
   ],
   "source": [
    "sammy.breed"
   ]
  },
  {
   "cell_type": "code",
   "execution_count": 52,
   "id": "dafd5689",
   "metadata": {},
   "outputs": [
    {
     "data": {
      "text/plain": [
       "'Sam'"
      ]
     },
     "execution_count": 52,
     "metadata": {},
     "output_type": "execute_result"
    }
   ],
   "source": [
    "sammy.name"
   ]
  },
  {
   "cell_type": "code",
   "execution_count": null,
   "id": "6f00d792",
   "metadata": {},
   "outputs": [],
   "source": []
  }
 ],
 "metadata": {
  "kernelspec": {
   "display_name": "Python 3",
   "language": "python",
   "name": "python3"
  },
  "language_info": {
   "codemirror_mode": {
    "name": "ipython",
    "version": 3
   },
   "file_extension": ".py",
   "mimetype": "text/x-python",
   "name": "python",
   "nbconvert_exporter": "python",
   "pygments_lexer": "ipython3",
   "version": "3.8.8"
  }
 },
 "nbformat": 4,
 "nbformat_minor": 5
}
