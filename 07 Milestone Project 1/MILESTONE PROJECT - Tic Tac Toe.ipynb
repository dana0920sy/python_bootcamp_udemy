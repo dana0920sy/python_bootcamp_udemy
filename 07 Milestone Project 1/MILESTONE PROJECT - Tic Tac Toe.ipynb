{
 "cells": [
  {
   "cell_type": "code",
   "execution_count": 1,
   "id": "00c2e94b",
   "metadata": {},
   "outputs": [],
   "source": [
    "# Flow\n",
    "# Ask Player 1 and Player 2 to choose their marker\n",
    "\n",
    "# Function to ask for player input - need for list\n",
    "\n",
    "# Display the board\n",
    "\n",
    "# Alternate between player 1 and 2 to get the input (1-9) \n",
    "# Function for input\n",
    "# Function for replacement of value \n",
    "\n",
    "# Need to check if the space has been taken or not - error handling\n",
    "# Error handling for function -- \n",
    "#Space check and board check functions needed\n",
    "\n",
    "# Rules to make sure all combinations of the same symbol are met\n",
    "# Win list/ combinations"
   ]
  },
  {
   "cell_type": "code",
   "execution_count": 190,
   "id": "a277e962",
   "metadata": {},
   "outputs": [
    {
     "name": "stdout",
     "output_type": "stream",
     "text": [
      "X|X|O\n",
      "-----\n",
      "O|O|X\n",
      "-----\n",
      "X|O|X\n"
     ]
    }
   ],
   "source": [
    "# Function for displaying the board\n",
    "from IPython.display import clear_output\n",
    "board = [\"#\",'X','O','X','O','O','X','X','X','O']\n",
    "def display_board(board):\n",
    "    clear_output()\n",
    "    print(board[7]+\"|\"+board[8]+\"|\"+board[9])\n",
    "    print(\"-----\")\n",
    "    print(board[4]+\"|\"+board[5]+\"|\"+board[6])\n",
    "    print(\"-----\")\n",
    "    print(board[1]+\"|\"+board[2]+\"|\"+board[3])\n",
    "display_board(board)"
   ]
  },
  {
   "cell_type": "code",
   "execution_count": 118,
   "id": "b0755de1",
   "metadata": {},
   "outputs": [],
   "source": [
    "# Function for player choices / marker\n",
    "def player_marker_input():\n",
    "    player1=\"\" \n",
    "    player2=\"\"\n",
    "    marker_choices=[\"X\",\"O\"]\n",
    "    while player1 not in [\"X\",\"O\"]:\n",
    "        player1 = input(\"Player 1, pick a marker (X or O): \").upper()\n",
    "        if player1 not in [\"X\",\"O\"]:\n",
    "            print(\"Sorry, Player 1. Pick the correct marker (X or O)\")\n",
    "    marker_choices.pop(marker_choices.index(player1))\n",
    "    player2=marker_choices[0]\n",
    "    return (player1,player2)\n"
   ]
  },
  {
   "cell_type": "code",
   "execution_count": 119,
   "id": "12192620",
   "metadata": {},
   "outputs": [
    {
     "name": "stdout",
     "output_type": "stream",
     "text": [
      "Player 1, pick a marker (X or O): x\n"
     ]
    },
    {
     "data": {
      "text/plain": [
       "('X', 'O')"
      ]
     },
     "execution_count": 119,
     "metadata": {},
     "output_type": "execute_result"
    }
   ],
   "source": [
    "\n",
    "player_marker_input()"
   ]
  },
  {
   "cell_type": "code",
   "execution_count": 120,
   "id": "d52c61d2",
   "metadata": {},
   "outputs": [
    {
     "name": "stdout",
     "output_type": "stream",
     "text": [
      "Pick a position to place your marker: 1\n"
     ]
    },
    {
     "data": {
      "text/plain": [
       "1"
      ]
     },
     "execution_count": 120,
     "metadata": {},
     "output_type": "execute_result"
    }
   ],
   "source": [
    "# Function that takes the choice of the current player\n",
    "\n",
    "def player_choice():\n",
    "    position = \"\"\n",
    "    acceptable_range=list(range(1,10))\n",
    "    while position not in acceptable_range:\n",
    "        position = int(input(\"Pick a position to place your marker: \"))\n",
    "        if position not in acceptable_range:\n",
    "            print(\"Please enter valid position (1-9): \")\n",
    "    return position\n",
    "player_choice()"
   ]
  },
  {
   "cell_type": "code",
   "execution_count": 191,
   "id": "ed227033",
   "metadata": {},
   "outputs": [
    {
     "data": {
      "text/plain": [
       "['#', 'X', 'O', 'X', 'O', 'O', 'X', 'X', 'X', 'O']"
      ]
     },
     "execution_count": 191,
     "metadata": {},
     "output_type": "execute_result"
    }
   ],
   "source": [
    "# Fills up the board with the chosen marker\n",
    "\n",
    "def replace_marker_board(board, position, marker):    \n",
    "    board[position]=marker\n",
    "    return board\n",
    "replace_marker_board(board,8,\"X\")"
   ]
  },
  {
   "cell_type": "code",
   "execution_count": 179,
   "id": "06a6de28",
   "metadata": {},
   "outputs": [
    {
     "data": {
      "text/plain": [
       "False"
      ]
     },
     "execution_count": 179,
     "metadata": {},
     "output_type": "execute_result"
    }
   ],
   "source": [
    "# Check if there's a win already\n",
    "\n",
    "def win_check(board, marker):\n",
    "    #Marker check\n",
    "    #Win check\n",
    "    if board[7]==board[8]==board[9]==marker:\n",
    "        return True\n",
    "    elif board[4]==board[5]==board[6]==marker:\n",
    "        return True\n",
    "    elif board[1]==board[2]==board[3]==marker:\n",
    "        return True\n",
    "    elif board[1]==board[5]==board[9]==marker:\n",
    "        return True\n",
    "    elif board[7]==board[5]==board[3]==marker:\n",
    "        return True\n",
    "    elif board[7]==board[4]==board[1]==marker:\n",
    "        return True\n",
    "    elif board[8]==board[5]==board[2]==marker:\n",
    "        return True\n",
    "    elif board[9]==board[6]==board[3]==marker:\n",
    "        return True\n",
    "    else:\n",
    "        return False\n",
    "    #Combinations of win's. Store in a dictionary or a list perhaps....\n",
    "    #[7]==[8]==[2]\n",
    "    #[0]==[4]==[8]\n",
    "    #[6]==[7]==[8]\n",
    "    #[6]==[4]==[2]\n",
    "    #[0]=-[3]==[6]\n",
    "    #[2]==[5]==[8]\n",
    "    #[1]==[4]==[7]\n",
    "    #need for check on ties (no match ups)\n",
    "    #Check who wins based on the marker count? May need iteration\n",
    "    #Check marker against the assigned winner\n",
    "win_check(board,\"O\")"
   ]
  },
  {
   "cell_type": "code",
   "execution_count": 172,
   "id": "b50c4df6",
   "metadata": {},
   "outputs": [],
   "source": [
    "# Check if space has already been filled\n",
    "\n",
    "def space_check(board, position):\n",
    "    if board[position]!=\" \":\n",
    "        return False # False means apce has been filled\n",
    "    else:\n",
    "        return True # Means space is not yet taken, space can be filled"
   ]
  },
  {
   "cell_type": "code",
   "execution_count": 171,
   "id": "3e4db280",
   "metadata": {},
   "outputs": [
    {
     "name": "stdout",
     "output_type": "stream",
     "text": [
      "hello\n",
      "['#', 'X', 'O', 'X', 'O', 'O', 'X', 'X', 'X', 'O']\n"
     ]
    }
   ],
   "source": [
    "space_check(board,0)"
   ]
  },
  {
   "cell_type": "code",
   "execution_count": 124,
   "id": "dae9cd48",
   "metadata": {},
   "outputs": [
    {
     "name": "stdout",
     "output_type": "stream",
     "text": [
      "Player 2 goes first.\n"
     ]
    },
    {
     "data": {
      "text/plain": [
       "(2, 1)"
      ]
     },
     "execution_count": 124,
     "metadata": {},
     "output_type": "execute_result"
    }
   ],
   "source": [
    "# Order of player\n",
    "import random\n",
    "def player_order():\n",
    "    player_1_order=random.randint(1,2)\n",
    "    player_2_order=0\n",
    "    if player_1_order==1:\n",
    "        player_2_order=2\n",
    "        print(\"Player 1 goes first.\")\n",
    "    else:\n",
    "        player_2_order=1\n",
    "        print(\"Player 2 goes first.\")\n",
    "    return (player_1_order, player_2_order)\n",
    "\n",
    "player_order()"
   ]
  },
  {
   "cell_type": "code",
   "execution_count": 125,
   "id": "52336487",
   "metadata": {},
   "outputs": [
    {
     "data": {
      "text/plain": [
       "True"
      ]
     },
     "execution_count": 125,
     "metadata": {},
     "output_type": "execute_result"
    }
   ],
   "source": [
    "# Full board check\n",
    "\n",
    "def full_board_check(board):\n",
    "    counter=0\n",
    "    for i in list(range(len(board)-1)):\n",
    "        if board[i+1]!=\" \":\n",
    "            counter+=1\n",
    "    if counter==9: # Check if board is full\n",
    "        return True # Board is full\n",
    "    else:\n",
    "        return False # Board is not full\n",
    "full_board_check(board)"
   ]
  },
  {
   "cell_type": "code",
   "execution_count": 126,
   "id": "debd084f",
   "metadata": {},
   "outputs": [
    {
     "name": "stdout",
     "output_type": "stream",
     "text": [
      "Do you want to play again? (Yes or No): yes\n"
     ]
    },
    {
     "data": {
      "text/plain": [
       "True"
      ]
     },
     "execution_count": 126,
     "metadata": {},
     "output_type": "execute_result"
    }
   ],
   "source": [
    "# replay \n",
    "\n",
    "def replay():\n",
    "    replay_choice=\"\"\n",
    "    while replay_choice.capitalize() not in [\"Yes\",\"No\"]:\n",
    "        replay_choice=input(\"Do you want to play again? (Yes or No): \")\n",
    "        if replay_choice.capitalize() not in [\"Yes\",\"No\"]:\n",
    "            print(\"I'm sorry, please enter Yes or No.\")\n",
    "    if replay_choice.capitalize()==\"Yes\":\n",
    "        return True\n",
    "    elif replay_choice.capitalize()==\"No\":\n",
    "        return False\n",
    "replay()"
   ]
  },
  {
   "cell_type": "code",
   "execution_count": 201,
   "id": "8715dd96",
   "metadata": {},
   "outputs": [
    {
     "name": "stdout",
     "output_type": "stream",
     "text": [
      "X|X|O\n",
      "-----\n",
      "X| |O\n",
      "-----\n",
      "X|O| \n",
      "Player 1 wins!\n",
      "Do you want to play again? (Yes or No): No\n"
     ]
    }
   ],
   "source": [
    "# Game proper\n",
    "\n",
    "game_on = True\n",
    "import random\n",
    "\n",
    "\n",
    "print(\"Welcome to Tic Tac Toe!\")\n",
    "#print(board)\n",
    "while True:\n",
    "    # Get markers of choice\n",
    "    markers=player_marker_input()\n",
    "    # Clear board\n",
    "    board=[\" \"]*10\n",
    "    #Determine player order\n",
    "    if player_order()==(1,2):\n",
    "        player_1_first=True\n",
    "    else:\n",
    "        player_1_first=False\n",
    "    while game_on: # Start the game and set on the loop\n",
    "        #Player 1 Turn\n",
    "        while player_1_first:\n",
    "            display_board(board)\n",
    "            marker = markers[0] # assign player 1's marker\n",
    "            position = player_choice() # Let player 1 make their choice\n",
    "            space_check_bool = space_check(board,position) # Assign check to a variable \n",
    "            if space_check_bool == True: # Check if space has been filled. If True, fill up the space.\n",
    "                current_board = replace_marker_board(board,position,marker)\n",
    "                display_board(current_board) # Display the board after updating\n",
    "            else:\n",
    "                print(\"Space has been taken! Choose another position.\")\n",
    "                continue # go back to top of loop to re-input\n",
    "            draw_check = full_board_check(board) # Check if the board is full \n",
    "            win_check_bool = win_check(board,marker) # Check if the player has won with the respective marker\n",
    "            if draw_check==True and win_check_bool==False: # check if board is full \n",
    "                print(\"Draw!\")\n",
    "                game_on=False\n",
    "                break\n",
    "            elif win_check_bool==True: # check if player 1 has won \n",
    "                print(\"Player 1 wins!\")\n",
    "                game_on=False\n",
    "                break\n",
    "            else:\n",
    "                player_1_first=False # player 1's turn ends. proceed to player 2\n",
    "        #Player 2 Turn\n",
    "        while not player_1_first:\n",
    "            display_board(board)\n",
    "            marker = markers[1] # assign player 2's marker\n",
    "            position = player_choice() # let player 2 make their choice\n",
    "            space_check_bool=space_check(board,position) # Assign check to a variable\n",
    "            if space_check_bool == True: # Check if space has been filled. If True, fill up the space.\n",
    "                current_board = replace_marker_board(board,position,marker)\n",
    "                display_board(current_board) # Display the board after updating\n",
    "            else:\n",
    "                print(\"Space has been taken! Choose another position.\")\n",
    "                continue\n",
    "            draw_check = full_board_check(board) # Check if board is full\n",
    "            win_check_bool = win_check(board,marker) # Check if someone has won something\n",
    "            if draw_check==True and win_check_bool==False: # check if board is full and no one has won yet\n",
    "                print(\"Draw!\")\n",
    "                game_on=False\n",
    "                break\n",
    "            elif win_check_bool == True: # check if someone has won\n",
    "                print(\"Player 2 wins!\")\n",
    "                game_on=False\n",
    "                break\n",
    "            else:\n",
    "                player_1_first=True # go back to player 1 - it's his turn now...\n",
    "    if replay() == True:\n",
    "        game_on=True\n",
    "    else:\n",
    "        break"
   ]
  },
  {
   "cell_type": "code",
   "execution_count": 139,
   "id": "67e5bc31",
   "metadata": {},
   "outputs": [
    {
     "name": "stdout",
     "output_type": "stream",
     "text": [
      "Player 2 goes first.\n"
     ]
    },
    {
     "data": {
      "text/plain": [
       "(2, 1)"
      ]
     },
     "execution_count": 139,
     "metadata": {},
     "output_type": "execute_result"
    }
   ],
   "source": [
    "player_order()"
   ]
  },
  {
   "cell_type": "code",
   "execution_count": 105,
   "id": "79816651",
   "metadata": {},
   "outputs": [
    {
     "name": "stdout",
     "output_type": "stream",
     "text": [
      "Yay\n"
     ]
    }
   ],
   "source": []
  },
  {
   "cell_type": "code",
   "execution_count": null,
   "id": "7132920c",
   "metadata": {},
   "outputs": [],
   "source": []
  }
 ],
 "metadata": {
  "kernelspec": {
   "display_name": "Python 3",
   "language": "python",
   "name": "python3"
  },
  "language_info": {
   "codemirror_mode": {
    "name": "ipython",
    "version": 3
   },
   "file_extension": ".py",
   "mimetype": "text/x-python",
   "name": "python",
   "nbconvert_exporter": "python",
   "pygments_lexer": "ipython3",
   "version": "3.8.8"
  }
 },
 "nbformat": 4,
 "nbformat_minor": 5
}
