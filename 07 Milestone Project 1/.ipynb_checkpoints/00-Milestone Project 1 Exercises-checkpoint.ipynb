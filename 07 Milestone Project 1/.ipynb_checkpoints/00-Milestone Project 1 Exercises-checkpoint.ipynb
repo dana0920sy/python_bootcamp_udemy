{
 "cells": [
  {
   "cell_type": "markdown",
   "id": "0058e5a1",
   "metadata": {},
   "source": [
    "# Displaying Information"
   ]
  },
  {
   "cell_type": "code",
   "execution_count": 6,
   "id": "5e0fd4a9",
   "metadata": {},
   "outputs": [],
   "source": [
    "def display(row1,row2,row3):\n",
    "    print(row1)\n",
    "    print(row2)\n",
    "    print(row3)"
   ]
  },
  {
   "cell_type": "code",
   "execution_count": 7,
   "id": "c09eac76",
   "metadata": {},
   "outputs": [
    {
     "name": "stdout",
     "output_type": "stream",
     "text": [
      "[1, 2, 3]\n",
      "[1, 2, 3]\n",
      "[1, 2, 3]\n"
     ]
    }
   ],
   "source": [
    "example_row = [1,2,3]\n",
    "display(example_row,example_row,example_row)"
   ]
  },
  {
   "cell_type": "code",
   "execution_count": 8,
   "id": "4bc8746f",
   "metadata": {},
   "outputs": [
    {
     "name": "stdout",
     "output_type": "stream",
     "text": [
      "[' ', ' ', ' ']\n",
      "[' ', ' ', ' ']\n",
      "[' ', ' ', ' ']\n"
     ]
    }
   ],
   "source": [
    "row1=[\" \",\" \",\" \"]\n",
    "row2=[\" \",\" \",\" \"]\n",
    "row3=[\" \",\" \",\" \"]\n",
    "display(row1,row2,row3)"
   ]
  },
  {
   "cell_type": "code",
   "execution_count": 9,
   "id": "872513b2",
   "metadata": {},
   "outputs": [
    {
     "name": "stdout",
     "output_type": "stream",
     "text": [
      "[' ', ' ', ' ']\n",
      "[' ', 'x', ' ']\n",
      "[' ', ' ', ' ']\n"
     ]
    }
   ],
   "source": [
    "row2[1]=\"x\"\n",
    "display(row1,row2,row3)"
   ]
  },
  {
   "cell_type": "markdown",
   "id": "c04a9081",
   "metadata": {},
   "source": [
    "# Accepting User Input"
   ]
  },
  {
   "cell_type": "code",
   "execution_count": 10,
   "id": "7bff178b",
   "metadata": {},
   "outputs": [
    {
     "name": "stdout",
     "output_type": "stream",
     "text": [
      "Please enter a value: Dana\n"
     ]
    },
    {
     "data": {
      "text/plain": [
       "'Dana'"
      ]
     },
     "execution_count": 10,
     "metadata": {},
     "output_type": "execute_result"
    }
   ],
   "source": [
    "input(\"Please enter a value: \")"
   ]
  },
  {
   "cell_type": "code",
   "execution_count": 11,
   "id": "af71cdd0",
   "metadata": {},
   "outputs": [
    {
     "name": "stdout",
     "output_type": "stream",
     "text": [
      "Please enter a value: 2\n"
     ]
    }
   ],
   "source": [
    "result = input(\"Please enter a value: \")"
   ]
  },
  {
   "cell_type": "code",
   "execution_count": 12,
   "id": "db2350b0",
   "metadata": {},
   "outputs": [
    {
     "data": {
      "text/plain": [
       "'2'"
      ]
     },
     "execution_count": 12,
     "metadata": {},
     "output_type": "execute_result"
    }
   ],
   "source": [
    "result"
   ]
  },
  {
   "cell_type": "code",
   "execution_count": 13,
   "id": "fa0e03b2",
   "metadata": {},
   "outputs": [
    {
     "data": {
      "text/plain": [
       "str"
      ]
     },
     "execution_count": 13,
     "metadata": {},
     "output_type": "execute_result"
    }
   ],
   "source": [
    "type(result) #Always returns as a string!"
   ]
  },
  {
   "cell_type": "code",
   "execution_count": 14,
   "id": "4c5d7bad",
   "metadata": {},
   "outputs": [
    {
     "name": "stdout",
     "output_type": "stream",
     "text": [
      "Please enter a value: 2\n"
     ]
    }
   ],
   "source": [
    "result = int(input(\"Please enter a value: \")) #Cast int() "
   ]
  },
  {
   "cell_type": "code",
   "execution_count": 15,
   "id": "1076f328",
   "metadata": {},
   "outputs": [
    {
     "data": {
      "text/plain": [
       "2"
      ]
     },
     "execution_count": 15,
     "metadata": {},
     "output_type": "execute_result"
    }
   ],
   "source": [
    "result"
   ]
  },
  {
   "cell_type": "code",
   "execution_count": 16,
   "id": "e3042103",
   "metadata": {},
   "outputs": [
    {
     "data": {
      "text/plain": [
       "int"
      ]
     },
     "execution_count": 16,
     "metadata": {},
     "output_type": "execute_result"
    }
   ],
   "source": [
    "type(result)"
   ]
  },
  {
   "cell_type": "code",
   "execution_count": 23,
   "id": "bd66bcd3",
   "metadata": {},
   "outputs": [
    {
     "name": "stdout",
     "output_type": "stream",
     "text": [
      "Choose an index position: hey\n"
     ]
    },
    {
     "ename": "ValueError",
     "evalue": "invalid literal for int() with base 10: 'hey'",
     "output_type": "error",
     "traceback": [
      "\u001b[0;31m---------------------------------------------------------------------------\u001b[0m",
      "\u001b[0;31mValueError\u001b[0m                                Traceback (most recent call last)",
      "\u001b[0;32m<ipython-input-23-5065b1096c86>\u001b[0m in \u001b[0;36m<module>\u001b[0;34m\u001b[0m\n\u001b[0;32m----> 1\u001b[0;31m \u001b[0mposition_index\u001b[0m\u001b[0;34m=\u001b[0m\u001b[0mint\u001b[0m\u001b[0;34m(\u001b[0m\u001b[0minput\u001b[0m\u001b[0;34m(\u001b[0m\u001b[0;34m\"Choose an index position: \"\u001b[0m\u001b[0;34m)\u001b[0m\u001b[0;34m)\u001b[0m\u001b[0;34m\u001b[0m\u001b[0;34m\u001b[0m\u001b[0m\n\u001b[0m",
      "\u001b[0;31mValueError\u001b[0m: invalid literal for int() with base 10: 'hey'"
     ]
    }
   ],
   "source": [
    "position_index=int(input(\"Choose an index position: \"))"
   ]
  },
  {
   "cell_type": "code",
   "execution_count": 24,
   "id": "d4572782",
   "metadata": {},
   "outputs": [
    {
     "ename": "IndexError",
     "evalue": "list index out of range",
     "output_type": "error",
     "traceback": [
      "\u001b[0;31m---------------------------------------------------------------------------\u001b[0m",
      "\u001b[0;31mIndexError\u001b[0m                                Traceback (most recent call last)",
      "\u001b[0;32m<ipython-input-24-6450042da9fb>\u001b[0m in \u001b[0;36m<module>\u001b[0;34m\u001b[0m\n\u001b[0;32m----> 1\u001b[0;31m \u001b[0mrow1\u001b[0m\u001b[0;34m[\u001b[0m\u001b[0mposition_index\u001b[0m\u001b[0;34m]\u001b[0m\u001b[0;34m\u001b[0m\u001b[0;34m\u001b[0m\u001b[0m\n\u001b[0m",
      "\u001b[0;31mIndexError\u001b[0m: list index out of range"
     ]
    }
   ],
   "source": [
    "row1[position_index]"
   ]
  },
  {
   "cell_type": "markdown",
   "id": "4a2da259",
   "metadata": {},
   "source": [
    "# Validating User Input"
   ]
  },
  {
   "cell_type": "code",
   "execution_count": 1,
   "id": "af0d8b41",
   "metadata": {},
   "outputs": [
    {
     "name": "stdout",
     "output_type": "stream",
     "text": [
      "Please enter a number (0-10): 10\n"
     ]
    },
    {
     "data": {
      "text/plain": [
       "10"
      ]
     },
     "execution_count": 1,
     "metadata": {},
     "output_type": "execute_result"
    }
   ],
   "source": [
    "#While loop asking for valid input\n",
    "def user_choice():\n",
    "    choice = input(\"Please enter a number (0-10): \")\n",
    "    return int(choice)\n",
    "\n",
    "user_choice()\n"
   ]
  },
  {
   "cell_type": "code",
   "execution_count": 7,
   "id": "799192fe",
   "metadata": {},
   "outputs": [],
   "source": [
    "#Make sure data type is valid when converting\n",
    "#Make sure input is within the range \n",
    "\n",
    "def user_choice():\n",
    "    \n",
    "    # VARIABLES\n",
    "    # Initial choice\n",
    "    # list of acceptable values\n",
    "    # Boolean\n",
    "    choice=\"wrong\"\n",
    "    result=list(range(0,11))\n",
    "    within_range = False\n",
    "    \n",
    "    #Two conditions to check \n",
    "    #Digit or within_range\n",
    "    while choice.isdigit() == False or within_range==False:\n",
    "        choice = input(\"Please enter a number (0-10): \")\n",
    "        if choice.isdigit()==False:\n",
    "            print(\"Sorry that is not a digit!\")\n",
    "        #or if choice digit is not within range\n",
    "        if choice.isdigit()==True:\n",
    "            if int(choice)in result:\n",
    "                within_range=True\n",
    "            else:\n",
    "                print(\"Sorry that digit is not within range!\")\n",
    "                within_range=False\n",
    "    return int(choice)"
   ]
  },
  {
   "cell_type": "code",
   "execution_count": 8,
   "id": "87b4f736",
   "metadata": {},
   "outputs": [
    {
     "name": "stdout",
     "output_type": "stream",
     "text": [
      "Please enter a number (0-10): 100\n",
      "Sorry that digit is not within range!\n",
      "Please enter a number (0-10): two\n",
      "Sorry that is not a digit!\n",
      "Please enter a number (0-10): 1\n"
     ]
    },
    {
     "data": {
      "text/plain": [
       "1"
      ]
     },
     "execution_count": 8,
     "metadata": {},
     "output_type": "execute_result"
    }
   ],
   "source": [
    "user_choice()"
   ]
  },
  {
   "cell_type": "markdown",
   "id": "544ea650",
   "metadata": {},
   "source": [
    "# Simple User Interaction"
   ]
  },
  {
   "cell_type": "code",
   "execution_count": 19,
   "id": "67eb5a49",
   "metadata": {},
   "outputs": [],
   "source": [
    "# Display function to display the game list or game board\n",
    "\n",
    "#Variable definition\n",
    "game_list=[0,1,2]"
   ]
  },
  {
   "cell_type": "code",
   "execution_count": 20,
   "id": "4f5fce29",
   "metadata": {},
   "outputs": [],
   "source": [
    "# Game list definition\n",
    "\n",
    "def display_game(game_list):\n",
    "    print(\"Here is the current list:\")\n",
    "    print(game_list)"
   ]
  },
  {
   "cell_type": "code",
   "execution_count": 22,
   "id": "1f4e15d5",
   "metadata": {},
   "outputs": [
    {
     "name": "stdout",
     "output_type": "stream",
     "text": [
      "Here is the current list:\n",
      "[0, 1, 2]\n"
     ]
    }
   ],
   "source": [
    "display_game(game_list)"
   ]
  },
  {
   "cell_type": "code",
   "execution_count": 23,
   "id": "8c61fe96",
   "metadata": {},
   "outputs": [],
   "source": [
    "# Get a position choice from user input\n",
    "\n",
    "def position_choice():\n",
    "    \n",
    "    choice = \"wrong\"\n",
    "    \n",
    "    while choice not in ['0','1','2']:\n",
    "        choice = input(\"Pick a position (0,1,2): \")\n",
    "        if choice not in ['0','1','2']:\n",
    "            print(\"Sorry, invalid choice!\")\n",
    "    return int(choice)"
   ]
  },
  {
   "cell_type": "code",
   "execution_count": 24,
   "id": "271f3cf2",
   "metadata": {},
   "outputs": [
    {
     "name": "stdout",
     "output_type": "stream",
     "text": [
      "Pick a position (0,1,2): 1\n"
     ]
    },
    {
     "data": {
      "text/plain": [
       "1"
      ]
     },
     "execution_count": 24,
     "metadata": {},
     "output_type": "execute_result"
    }
   ],
   "source": [
    "position_choice()"
   ]
  },
  {
   "cell_type": "code",
   "execution_count": 25,
   "id": "abb02803",
   "metadata": {},
   "outputs": [],
   "source": [
    "# Replacement_choice(game_list,position)\n",
    "\n",
    "def replacement_choice(game_list,position):\n",
    "    user_placement = input(\"Type a string to place at position: \")\n",
    "    game_list[position] = user_placement\n",
    "    return game_list"
   ]
  },
  {
   "cell_type": "code",
   "execution_count": 28,
   "id": "c0cfa18a",
   "metadata": {},
   "outputs": [
    {
     "name": "stdout",
     "output_type": "stream",
     "text": [
      "Type a string to place at position: test\n"
     ]
    },
    {
     "data": {
      "text/plain": [
       "[0, 'test', 2]"
      ]
     },
     "execution_count": 28,
     "metadata": {},
     "output_type": "execute_result"
    }
   ],
   "source": [
    "replacement_choice(game_list,1)"
   ]
  },
  {
   "cell_type": "code",
   "execution_count": 29,
   "id": "1b8989ef",
   "metadata": {},
   "outputs": [],
   "source": [
    "def gameon_choice():\n",
    "    choice = \"wrong\"\n",
    "    \n",
    "    while choice not in [\"Y\",\"N\"]:\n",
    "        choice = input(\"Keep on playing? (Y or N): \")\n",
    "        if choice not in [\"Y\",\"N\"]:\n",
    "            print(\"Sorry, I don't understand. Please choose Y or N.\")\n",
    "    if choice == \"Y\":\n",
    "        return True\n",
    "    else:\n",
    "        return False"
   ]
  },
  {
   "cell_type": "code",
   "execution_count": 31,
   "id": "fddb244b",
   "metadata": {},
   "outputs": [
    {
     "name": "stdout",
     "output_type": "stream",
     "text": [
      "Keep on playing? (Y or N): N\n"
     ]
    },
    {
     "data": {
      "text/plain": [
       "False"
      ]
     },
     "execution_count": 31,
     "metadata": {},
     "output_type": "execute_result"
    }
   ],
   "source": [
    "gameon_choice()"
   ]
  },
  {
   "cell_type": "code",
   "execution_count": 33,
   "id": "43f94183",
   "metadata": {},
   "outputs": [
    {
     "name": "stdout",
     "output_type": "stream",
     "text": [
      "Here is the current list:\n",
      "[0, 1, 2]\n",
      "Pick a position (0,1,2): two\n",
      "Sorry, invalid choice!\n",
      "Pick a position (0,1,2): 1\n",
      "Type a string to place at position: my choice\n",
      "Here is the current list:\n",
      "[0, 'my choice', 2]\n",
      "Keep on playing? (Y or N): Y\n",
      "Here is the current list:\n",
      "[0, 'my choice', 2]\n",
      "Pick a position (0,1,2): 0\n",
      "Type a string to place at position: test\n",
      "Here is the current list:\n",
      "['test', 'my choice', 2]\n",
      "Keep on playing? (Y or N): Y\n",
      "Here is the current list:\n",
      "['test', 'my choice', 2]\n",
      "Pick a position (0,1,2): 2\n",
      "Type a string to place at position: test\n",
      "Here is the current list:\n",
      "['test', 'my choice', 'test']\n",
      "Keep on playing? (Y or N): 1\n",
      "Sorry, I don't understand. Please choose Y or N.\n",
      "Keep on playing? (Y or N): Y\n",
      "Here is the current list:\n",
      "['test', 'my choice', 'test']\n",
      "Pick a position (0,1,2): 1\n",
      "Type a string to place at position: MYCHOICE\n",
      "Here is the current list:\n",
      "['test', 'MYCHOICE', 'test']\n",
      "Keep on playing? (Y or N): N\n"
     ]
    }
   ],
   "source": [
    "game_on = True\n",
    "game_list=[0,1,2]\n",
    "\n",
    "while game_on == True: # or while game_on:\n",
    "    \n",
    "    #Display the game\n",
    "    display_game(game_list)\n",
    "    \n",
    "    #Get a position choice\n",
    "    position = position_choice()\n",
    "    \n",
    "    #Replace the game list and position\n",
    "    game_list = replacement_choice(game_list,position)\n",
    "    \n",
    "    display_game(game_list)\n",
    "    \n",
    "    game_on = gameon_choice()"
   ]
  },
  {
   "cell_type": "code",
   "execution_count": null,
   "id": "deaa138e",
   "metadata": {},
   "outputs": [],
   "source": []
  }
 ],
 "metadata": {
  "kernelspec": {
   "display_name": "Python 3",
   "language": "python",
   "name": "python3"
  },
  "language_info": {
   "codemirror_mode": {
    "name": "ipython",
    "version": 3
   },
   "file_extension": ".py",
   "mimetype": "text/x-python",
   "name": "python",
   "nbconvert_exporter": "python",
   "pygments_lexer": "ipython3",
   "version": "3.8.8"
  }
 },
 "nbformat": 4,
 "nbformat_minor": 5
}
