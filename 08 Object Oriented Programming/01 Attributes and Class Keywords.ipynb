{
 "cells": [
  {
   "cell_type": "markdown",
   "id": "c84cdc9c",
   "metadata": {},
   "source": [
    "PART 1: Class Keyword and Creation of Attributes"
   ]
  },
  {
   "cell_type": "code",
   "execution_count": 5,
   "id": "e06a6d06",
   "metadata": {},
   "outputs": [],
   "source": [
    "# Creation of own object or class\n",
    "\n",
    "class Sample():\n",
    "    pass"
   ]
  },
  {
   "cell_type": "code",
   "execution_count": 2,
   "id": "46e02828",
   "metadata": {},
   "outputs": [],
   "source": [
    "# Creating an instance of the sample object by saying that variable name is equal to an instance of Sample()\n",
    "\n",
    "my_sample = Sample()"
   ]
  },
  {
   "cell_type": "code",
   "execution_count": 4,
   "id": "5fbf5241",
   "metadata": {},
   "outputs": [
    {
     "data": {
      "text/plain": [
       "<__main__.Sample at 0x7fca48097640>"
      ]
     },
     "execution_count": 4,
     "metadata": {},
     "output_type": "execute_result"
    }
   ],
   "source": [
    "my_sample"
   ]
  },
  {
   "cell_type": "code",
   "execution_count": 44,
   "id": "10bcf9a7",
   "metadata": {},
   "outputs": [],
   "source": [
    "# let's try passing in attributes into a class\n",
    "\n",
    "#Creation of class Dog() with attribute breed\n",
    "class Dog():\n",
    "    #Attribute: characteristics of object\n",
    "    #We can take in the argument\n",
    "    #Assign it using self.attribute_name\n",
    "    def __init__(self,mybreed,name,spots):\n",
    "        \n",
    "        self.my_attribute_breed = mybreed\n",
    "        self.my_attribute_name=name\n",
    "        self.my_attribute_spots=spots"
   ]
  },
  {
   "cell_type": "code",
   "execution_count": 45,
   "id": "e4b31055",
   "metadata": {},
   "outputs": [
    {
     "ename": "TypeError",
     "evalue": "__init__() missing 3 required positional arguments: 'mybreed', 'name', and 'spots'",
     "output_type": "error",
     "traceback": [
      "\u001b[0;31m---------------------------------------------------------------------------\u001b[0m",
      "\u001b[0;31mTypeError\u001b[0m                                 Traceback (most recent call last)",
      "\u001b[0;32m<ipython-input-45-e6bc2379552c>\u001b[0m in \u001b[0;36m<module>\u001b[0;34m\u001b[0m\n\u001b[1;32m      1\u001b[0m \u001b[0;31m#Let's create an instnace of the Dog() object by equating it to a variable my_dog\u001b[0m\u001b[0;34m\u001b[0m\u001b[0;34m\u001b[0m\u001b[0;34m\u001b[0m\u001b[0m\n\u001b[1;32m      2\u001b[0m \u001b[0;31m# Note that this is an error because Dog() requires a passing in of an attribute breed\u001b[0m\u001b[0;34m\u001b[0m\u001b[0;34m\u001b[0m\u001b[0;34m\u001b[0m\u001b[0m\n\u001b[0;32m----> 3\u001b[0;31m \u001b[0mmy_dog\u001b[0m \u001b[0;34m=\u001b[0m \u001b[0mDog\u001b[0m\u001b[0;34m(\u001b[0m\u001b[0;34m)\u001b[0m\u001b[0;34m\u001b[0m\u001b[0;34m\u001b[0m\u001b[0m\n\u001b[0m",
      "\u001b[0;31mTypeError\u001b[0m: __init__() missing 3 required positional arguments: 'mybreed', 'name', and 'spots'"
     ]
    }
   ],
   "source": [
    "#Let's create an instnace of the Dog() object by equating it to a variable my_dog\n",
    "# Note that this is an error because Dog() requires a passing in of an attribute breed\n",
    "my_dog = Dog()"
   ]
  },
  {
   "cell_type": "code",
   "execution_count": 53,
   "id": "a8e57d98",
   "metadata": {},
   "outputs": [],
   "source": [
    "my_dog=Dog(mybreed = \"Lab\",name=\"Sammy\",spots=False) # Ok, let's pass in the breed parameter and assign it to \"Lab\""
   ]
  },
  {
   "cell_type": "code",
   "execution_count": 54,
   "id": "c09ef0b1",
   "metadata": {},
   "outputs": [
    {
     "data": {
      "text/plain": [
       "__main__.Dog"
      ]
     },
     "execution_count": 54,
     "metadata": {},
     "output_type": "execute_result"
    }
   ],
   "source": [
    "type(my_dog) # Type will allow us to check the instance type"
   ]
  },
  {
   "cell_type": "code",
   "execution_count": 55,
   "id": "24a6f162",
   "metadata": {},
   "outputs": [
    {
     "data": {
      "text/plain": [
       "False"
      ]
     },
     "execution_count": 55,
     "metadata": {},
     "output_type": "execute_result"
    }
   ],
   "source": [
    "my_dog.my_attribute_spots"
   ]
  },
  {
   "cell_type": "code",
   "execution_count": 56,
   "id": "ce9ebd6f",
   "metadata": {},
   "outputs": [
    {
     "data": {
      "text/plain": [
       "'Sammy'"
      ]
     },
     "execution_count": 56,
     "metadata": {},
     "output_type": "execute_result"
    }
   ],
   "source": [
    "my_dog.my_attribute_name"
   ]
  },
  {
   "cell_type": "code",
   "execution_count": 57,
   "id": "6bf2ca29",
   "metadata": {},
   "outputs": [
    {
     "data": {
      "text/plain": [
       "'Lab'"
      ]
     },
     "execution_count": 57,
     "metadata": {},
     "output_type": "execute_result"
    }
   ],
   "source": [
    "my_dog.my_attribute_breed"
   ]
  },
  {
   "cell_type": "code",
   "execution_count": 41,
   "id": "ce9333b2",
   "metadata": {},
   "outputs": [],
   "source": [
    "my_seconddog=Dog(mybreed = \"Pomeranian\")"
   ]
  },
  {
   "cell_type": "code",
   "execution_count": 42,
   "id": "70b4b875",
   "metadata": {},
   "outputs": [
    {
     "data": {
      "text/plain": [
       "'Pomeranian'"
      ]
     },
     "execution_count": 42,
     "metadata": {},
     "output_type": "execute_result"
    }
   ],
   "source": [
    "my_seconddog.my_attribute_breed"
   ]
  },
  {
   "cell_type": "code",
   "execution_count": 27,
   "id": "98000289",
   "metadata": {},
   "outputs": [
    {
     "data": {
      "text/plain": [
       "'Lab'"
      ]
     },
     "execution_count": 27,
     "metadata": {},
     "output_type": "execute_result"
    }
   ],
   "source": [
    "my_dog.breed"
   ]
  },
  {
   "cell_type": "code",
   "execution_count": null,
   "id": "194511d3",
   "metadata": {},
   "outputs": [],
   "source": []
  }
 ],
 "metadata": {
  "kernelspec": {
   "display_name": "Python 3",
   "language": "python",
   "name": "python3"
  },
  "language_info": {
   "codemirror_mode": {
    "name": "ipython",
    "version": 3
   },
   "file_extension": ".py",
   "mimetype": "text/x-python",
   "name": "python",
   "nbconvert_exporter": "python",
   "pygments_lexer": "ipython3",
   "version": "3.8.8"
  }
 },
 "nbformat": 4,
 "nbformat_minor": 5
}
