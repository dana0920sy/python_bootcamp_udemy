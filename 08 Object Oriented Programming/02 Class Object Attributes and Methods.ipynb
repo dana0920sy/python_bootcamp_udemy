{
 "cells": [
  {
   "cell_type": "markdown",
   "id": "c3e7db53",
   "metadata": {},
   "source": [
    "PART 2: Class Object Attributes and Methods"
   ]
  },
  {
   "cell_type": "code",
   "execution_count": 13,
   "id": "0ea01f06",
   "metadata": {},
   "outputs": [],
   "source": [
    "# Recall our Dog class\n",
    "\n",
    "class Dog():\n",
    "    \n",
    "    #Definition of Class object attribute\n",
    "    #same for any instance of a class\n",
    "    species = 'mammal'\n",
    "    \n",
    "    #Special init method for user defined attributes\n",
    "    def __init__(self, breed, name, spots):\n",
    "        \n",
    "        # Define our attributes and the parameters to be passed in \n",
    "        # take in the parameters\n",
    "        \n",
    "        self.breed = breed\n",
    "        self.name = name\n",
    "        \n",
    "        # Expect boolean True/False\n",
    "        self.spots = spots\n",
    "    # Operations/Actions - > Methods\n",
    "    \n",
    "    def bark(self):\n",
    "        print(\"WOOF!\")"
   ]
  },
  {
   "cell_type": "code",
   "execution_count": 14,
   "id": "375f549e",
   "metadata": {},
   "outputs": [],
   "source": [
    "my_dog=Dog(breed=\"lab\",name=\"Sammy\",spots=False)"
   ]
  },
  {
   "cell_type": "code",
   "execution_count": 15,
   "id": "742b3c93",
   "metadata": {},
   "outputs": [
    {
     "data": {
      "text/plain": [
       "__main__.Dog"
      ]
     },
     "execution_count": 15,
     "metadata": {},
     "output_type": "execute_result"
    }
   ],
   "source": [
    "type(my_dog)"
   ]
  },
  {
   "cell_type": "code",
   "execution_count": 16,
   "id": "be3cfb74",
   "metadata": {},
   "outputs": [
    {
     "data": {
      "text/plain": [
       "'mammal'"
      ]
     },
     "execution_count": 16,
     "metadata": {},
     "output_type": "execute_result"
    }
   ],
   "source": [
    "my_dog.species"
   ]
  },
  {
   "cell_type": "markdown",
   "id": "b00d9fec",
   "metadata": {},
   "source": [
    "METHODS"
   ]
  },
  {
   "cell_type": "code",
   "execution_count": 29,
   "id": "cfc7548e",
   "metadata": {},
   "outputs": [],
   "source": [
    "# Take an example\n",
    "\n",
    "# Recall our Dog class\n",
    "\n",
    "class Dog():\n",
    "    \n",
    "    #Definition of Class object attribute\n",
    "    #same for any instance of a class\n",
    "    species = 'mammal'\n",
    "    \n",
    "    #Special init method for user defined attributes\n",
    "    def __init__(self, breed, name, spots):\n",
    "        \n",
    "        # Define our attributes and the parameters to be passed in \n",
    "        # take in the parameters\n",
    "        \n",
    "        self.breed = breed\n",
    "        self.name = name\n",
    "        \n",
    "        # Expect boolean True/False\n",
    "        self.spots = spots\n",
    "    # Operations/Actions - > Methods\n",
    "    \n",
    "    def bark(self, number):\n",
    "        print(\"WOOF! My name is {} and the number is {}\".format(self.name, number)) # reference self.name - go back to the attribute!"
   ]
  },
  {
   "cell_type": "code",
   "execution_count": 30,
   "id": "137f3c79",
   "metadata": {},
   "outputs": [],
   "source": [
    "my_dog=Dog(\"Lab\",\"Frankie\",True)"
   ]
  },
  {
   "cell_type": "code",
   "execution_count": 32,
   "id": "344aeed9",
   "metadata": {},
   "outputs": [
    {
     "name": "stdout",
     "output_type": "stream",
     "text": [
      "WOOF! My name is Frankie and the number is 10\n"
     ]
    }
   ],
   "source": [
    "my_dog.bark(10) # NOte that there is a () similar to functions (remember methods are functions within an object)"
   ]
  },
  {
   "cell_type": "code",
   "execution_count": 28,
   "id": "57fb8cd2",
   "metadata": {},
   "outputs": [
    {
     "data": {
      "text/plain": [
       "<bound method Dog.bark of <__main__.Dog object at 0x7f9b37b8ca00>>"
      ]
     },
     "execution_count": 28,
     "metadata": {},
     "output_type": "execute_result"
    }
   ],
   "source": [
    "my_dog.bark\n",
    "\n",
    "# Tells us that this method bark is tied or BOUND to the class Dog on the computer's memory"
   ]
  },
  {
   "cell_type": "code",
   "execution_count": 55,
   "id": "b18cb8bb",
   "metadata": {},
   "outputs": [],
   "source": [
    "# Example 2\n",
    "\n",
    "class Circle():\n",
    "    \n",
    "    # class object attribute \n",
    "    # Again, same for any instance in a class\n",
    "    \n",
    "    pi = 3.14\n",
    "    \n",
    "    def __init__(self, radius=1): # parameters can be defaulted like how you can define functions\n",
    "        self.radius = radius\n",
    "        self.area = radius*radius*Circle.pi\n",
    "        \n",
    "    # Method\n",
    "    \n",
    "    def get_circumference(self):\n",
    "        return 2*Circle.pi*self.radius # when calling a class object in a method/ init, you can just use ClassName.classobject\n",
    "    def get_area(self):\n",
    "        return Circle.pi*(self.radius**2)"
   ]
  },
  {
   "cell_type": "code",
   "execution_count": 56,
   "id": "b82406ba",
   "metadata": {},
   "outputs": [],
   "source": [
    "my_circle = Circle()"
   ]
  },
  {
   "cell_type": "code",
   "execution_count": 57,
   "id": "b5703e05",
   "metadata": {},
   "outputs": [
    {
     "data": {
      "text/plain": [
       "1"
      ]
     },
     "execution_count": 57,
     "metadata": {},
     "output_type": "execute_result"
    }
   ],
   "source": [
    "my_circle.radius"
   ]
  },
  {
   "cell_type": "code",
   "execution_count": 58,
   "id": "158f34e1",
   "metadata": {},
   "outputs": [],
   "source": [
    "# Let's provide another value for radius. You define this when you call the class itself\n",
    "\n",
    "my_circle = Circle(100)"
   ]
  },
  {
   "cell_type": "code",
   "execution_count": 59,
   "id": "3f270f5d",
   "metadata": {},
   "outputs": [
    {
     "data": {
      "text/plain": [
       "100"
      ]
     },
     "execution_count": 59,
     "metadata": {},
     "output_type": "execute_result"
    }
   ],
   "source": [
    "my_circle.radius"
   ]
  },
  {
   "cell_type": "code",
   "execution_count": 54,
   "id": "312678a0",
   "metadata": {},
   "outputs": [
    {
     "data": {
      "text/plain": [
       "31400.0"
      ]
     },
     "execution_count": 54,
     "metadata": {},
     "output_type": "execute_result"
    }
   ],
   "source": [
    "my_circle.get_area()"
   ]
  },
  {
   "cell_type": "code",
   "execution_count": 60,
   "id": "83bda11b",
   "metadata": {},
   "outputs": [
    {
     "data": {
      "text/plain": [
       "31400.0"
      ]
     },
     "execution_count": 60,
     "metadata": {},
     "output_type": "execute_result"
    }
   ],
   "source": [
    "my_circle.area"
   ]
  },
  {
   "cell_type": "code",
   "execution_count": null,
   "id": "cfe437c7",
   "metadata": {},
   "outputs": [],
   "source": []
  }
 ],
 "metadata": {
  "kernelspec": {
   "display_name": "Python 3",
   "language": "python",
   "name": "python3"
  },
  "language_info": {
   "codemirror_mode": {
    "name": "ipython",
    "version": 3
   },
   "file_extension": ".py",
   "mimetype": "text/x-python",
   "name": "python",
   "nbconvert_exporter": "python",
   "pygments_lexer": "ipython3",
   "version": "3.8.8"
  }
 },
 "nbformat": 4,
 "nbformat_minor": 5
}
